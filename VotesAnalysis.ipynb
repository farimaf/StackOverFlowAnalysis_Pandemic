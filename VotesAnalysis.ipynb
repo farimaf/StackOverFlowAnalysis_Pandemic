{
 "cells": [
  {
   "cell_type": "code",
   "execution_count": 3,
   "metadata": {},
   "outputs": [],
   "source": [
    "import pandas as pd\n",
    "import matplotlib.pyplot as plt\n",
    "import numpy as np\n",
    "input_path=\"C:\\\\Users\\\\Farima\\\\OneDrive\\\\Data\\\\PhD\\\\StackOverFlow-data\\\\Votes\\\\FinalCsvFiles\\\\Votes_2017_2020.csv\""
   ]
  },
  {
   "cell_type": "code",
   "execution_count": 28,
   "metadata": {},
   "outputs": [],
   "source": [
    "from statsmodels.tsa.stattools import kpss\n",
    "def kpss_test(series, **kw):    \n",
    "    statistic, p_value, n_lags, critical_values = kpss(series, **kw)\n",
    "    # Format Output\n",
    "    print(f'KPSS Statistic: {statistic}')\n",
    "    print(f'p-value: {p_value}')\n",
    "    print(f'num lags: {n_lags}')\n",
    "    print('Critical Values:')\n",
    "    for key, value in critical_values.items():\n",
    "        print(f'   {key} : {value}')\n",
    "    print(f'Result: The series is {\"not \" if p_value < 0.05 else \"\"}stationary')"
   ]
  },
  {
   "cell_type": "code",
   "execution_count": 29,
   "metadata": {},
   "outputs": [],
   "source": [
    "from statsmodels.tsa.stattools import adfuller\n",
    "def adf_test(timeseries):\n",
    "    #Perform Dickey-Fuller test:\n",
    "    print ('Results of Dickey-Fuller Test:')\n",
    "    \n",
    "    result = adfuller(timeseries)\n",
    "    p_value=result[1]\n",
    "    print('ADF Statistic: %f' % result[0])\n",
    "    print('p-value: %f' % result[1])\n",
    "    print('Critical Values:')\n",
    "    for key, value in result[4].items():\n",
    "        print('\\t%s: %.3f' % (key, value))\n",
    "    print(f'Result: The series is {\"not \" if p_value > 0.05 else \"\"}stationary')"
   ]
  },
  {
   "cell_type": "code",
   "execution_count": null,
   "metadata": {},
   "outputs": [],
   "source": []
  },
  {
   "cell_type": "code",
   "execution_count": 4,
   "metadata": {},
   "outputs": [
    {
     "data": {
      "text/html": [
       "<div>\n",
       "<style scoped>\n",
       "    .dataframe tbody tr th:only-of-type {\n",
       "        vertical-align: middle;\n",
       "    }\n",
       "\n",
       "    .dataframe tbody tr th {\n",
       "        vertical-align: top;\n",
       "    }\n",
       "\n",
       "    .dataframe thead th {\n",
       "        text-align: right;\n",
       "    }\n",
       "</style>\n",
       "<table border=\"1\" class=\"dataframe\">\n",
       "  <thead>\n",
       "    <tr style=\"text-align: right;\">\n",
       "      <th></th>\n",
       "      <th>RowId</th>\n",
       "      <th>CreateDate</th>\n",
       "      <th>PostId</th>\n",
       "      <th>VoteType</th>\n",
       "      <th>UserId</th>\n",
       "    </tr>\n",
       "  </thead>\n",
       "  <tbody>\n",
       "    <tr>\n",
       "      <th>0</th>\n",
       "      <td>129325273</td>\n",
       "      <td>2017-01-01T00:00:00.000</td>\n",
       "      <td>2173777</td>\n",
       "      <td>2</td>\n",
       "      <td>-1</td>\n",
       "    </tr>\n",
       "    <tr>\n",
       "      <th>1</th>\n",
       "      <td>129325274</td>\n",
       "      <td>2017-01-01T00:00:00.000</td>\n",
       "      <td>33568015</td>\n",
       "      <td>2</td>\n",
       "      <td>-1</td>\n",
       "    </tr>\n",
       "    <tr>\n",
       "      <th>2</th>\n",
       "      <td>129325276</td>\n",
       "      <td>2017-01-01T00:00:00.000</td>\n",
       "      <td>11681331</td>\n",
       "      <td>2</td>\n",
       "      <td>-1</td>\n",
       "    </tr>\n",
       "    <tr>\n",
       "      <th>3</th>\n",
       "      <td>129325277</td>\n",
       "      <td>2017-01-01T00:00:00.000</td>\n",
       "      <td>25398100</td>\n",
       "      <td>2</td>\n",
       "      <td>-1</td>\n",
       "    </tr>\n",
       "    <tr>\n",
       "      <th>4</th>\n",
       "      <td>129325278</td>\n",
       "      <td>2017-01-01T00:00:00.000</td>\n",
       "      <td>41412391</td>\n",
       "      <td>2</td>\n",
       "      <td>-1</td>\n",
       "    </tr>\n",
       "  </tbody>\n",
       "</table>\n",
       "</div>"
      ],
      "text/plain": [
       "       RowId               CreateDate    PostId  VoteType  UserId\n",
       "0  129325273  2017-01-01T00:00:00.000   2173777         2      -1\n",
       "1  129325274  2017-01-01T00:00:00.000  33568015         2      -1\n",
       "2  129325276  2017-01-01T00:00:00.000  11681331         2      -1\n",
       "3  129325277  2017-01-01T00:00:00.000  25398100         2      -1\n",
       "4  129325278  2017-01-01T00:00:00.000  41412391         2      -1"
      ]
     },
     "execution_count": 4,
     "metadata": {},
     "output_type": "execute_result"
    }
   ],
   "source": [
    "data=pd.read_csv(input_path,names=[\"RowId\",\"CreateDate\",\"PostId\",\"VoteType\",\"UserId\"])\n",
    "data.head()"
   ]
  },
  {
   "cell_type": "code",
   "execution_count": 5,
   "metadata": {},
   "outputs": [
    {
     "data": {
      "text/plain": [
       "86404248"
      ]
     },
     "execution_count": 5,
     "metadata": {},
     "output_type": "execute_result"
    }
   ],
   "source": [
    "len(data)"
   ]
  },
  {
   "cell_type": "code",
   "execution_count": 30,
   "metadata": {},
   "outputs": [
    {
     "data": {
      "text/html": [
       "<div>\n",
       "<style scoped>\n",
       "    .dataframe tbody tr th:only-of-type {\n",
       "        vertical-align: middle;\n",
       "    }\n",
       "\n",
       "    .dataframe tbody tr th {\n",
       "        vertical-align: top;\n",
       "    }\n",
       "\n",
       "    .dataframe thead th {\n",
       "        text-align: right;\n",
       "    }\n",
       "</style>\n",
       "<table border=\"1\" class=\"dataframe\">\n",
       "  <thead>\n",
       "    <tr style=\"text-align: right;\">\n",
       "      <th></th>\n",
       "      <th>RowId</th>\n",
       "      <th>CreateDate</th>\n",
       "      <th>PostId</th>\n",
       "      <th>VoteType</th>\n",
       "      <th>UserId</th>\n",
       "      <th>CreateYear</th>\n",
       "      <th>CreateMonth</th>\n",
       "      <th>CreateYearMonth</th>\n",
       "    </tr>\n",
       "  </thead>\n",
       "  <tbody>\n",
       "    <tr>\n",
       "      <th>0</th>\n",
       "      <td>129325273</td>\n",
       "      <td>2017-01-01</td>\n",
       "      <td>2173777</td>\n",
       "      <td>2</td>\n",
       "      <td>-1</td>\n",
       "      <td>2017</td>\n",
       "      <td>1</td>\n",
       "      <td>2017-01-01</td>\n",
       "    </tr>\n",
       "    <tr>\n",
       "      <th>1</th>\n",
       "      <td>129325274</td>\n",
       "      <td>2017-01-01</td>\n",
       "      <td>33568015</td>\n",
       "      <td>2</td>\n",
       "      <td>-1</td>\n",
       "      <td>2017</td>\n",
       "      <td>1</td>\n",
       "      <td>2017-01-01</td>\n",
       "    </tr>\n",
       "    <tr>\n",
       "      <th>2</th>\n",
       "      <td>129325276</td>\n",
       "      <td>2017-01-01</td>\n",
       "      <td>11681331</td>\n",
       "      <td>2</td>\n",
       "      <td>-1</td>\n",
       "      <td>2017</td>\n",
       "      <td>1</td>\n",
       "      <td>2017-01-01</td>\n",
       "    </tr>\n",
       "    <tr>\n",
       "      <th>3</th>\n",
       "      <td>129325277</td>\n",
       "      <td>2017-01-01</td>\n",
       "      <td>25398100</td>\n",
       "      <td>2</td>\n",
       "      <td>-1</td>\n",
       "      <td>2017</td>\n",
       "      <td>1</td>\n",
       "      <td>2017-01-01</td>\n",
       "    </tr>\n",
       "    <tr>\n",
       "      <th>4</th>\n",
       "      <td>129325278</td>\n",
       "      <td>2017-01-01</td>\n",
       "      <td>41412391</td>\n",
       "      <td>2</td>\n",
       "      <td>-1</td>\n",
       "      <td>2017</td>\n",
       "      <td>1</td>\n",
       "      <td>2017-01-01</td>\n",
       "    </tr>\n",
       "  </tbody>\n",
       "</table>\n",
       "</div>"
      ],
      "text/plain": [
       "       RowId CreateDate    PostId  VoteType  UserId  CreateYear  CreateMonth  \\\n",
       "0  129325273 2017-01-01   2173777         2      -1        2017            1   \n",
       "1  129325274 2017-01-01  33568015         2      -1        2017            1   \n",
       "2  129325276 2017-01-01  11681331         2      -1        2017            1   \n",
       "3  129325277 2017-01-01  25398100         2      -1        2017            1   \n",
       "4  129325278 2017-01-01  41412391         2      -1        2017            1   \n",
       "\n",
       "  CreateYearMonth  \n",
       "0      2017-01-01  \n",
       "1      2017-01-01  \n",
       "2      2017-01-01  \n",
       "3      2017-01-01  \n",
       "4      2017-01-01  "
      ]
     },
     "execution_count": 30,
     "metadata": {},
     "output_type": "execute_result"
    }
   ],
   "source": [
    "data[\"CreateDate\"] = pd.to_datetime(data[\"CreateDate\"])\n",
    "data.head()"
   ]
  },
  {
   "cell_type": "code",
   "execution_count": 31,
   "metadata": {},
   "outputs": [],
   "source": [
    "data['day_date'] = data['CreateDate'].dt.date"
   ]
  },
  {
   "cell_type": "code",
   "execution_count": 33,
   "metadata": {},
   "outputs": [
    {
     "data": {
      "text/html": [
       "<div>\n",
       "<style scoped>\n",
       "    .dataframe tbody tr th:only-of-type {\n",
       "        vertical-align: middle;\n",
       "    }\n",
       "\n",
       "    .dataframe tbody tr th {\n",
       "        vertical-align: top;\n",
       "    }\n",
       "\n",
       "    .dataframe thead th {\n",
       "        text-align: right;\n",
       "    }\n",
       "</style>\n",
       "<table border=\"1\" class=\"dataframe\">\n",
       "  <thead>\n",
       "    <tr style=\"text-align: right;\">\n",
       "      <th></th>\n",
       "      <th>RowId</th>\n",
       "      <th>day_date</th>\n",
       "    </tr>\n",
       "  </thead>\n",
       "  <tbody>\n",
       "    <tr>\n",
       "      <th>0</th>\n",
       "      <td>129325273</td>\n",
       "      <td>2017-01-01</td>\n",
       "    </tr>\n",
       "    <tr>\n",
       "      <th>1</th>\n",
       "      <td>129325274</td>\n",
       "      <td>2017-01-01</td>\n",
       "    </tr>\n",
       "    <tr>\n",
       "      <th>2</th>\n",
       "      <td>129325276</td>\n",
       "      <td>2017-01-01</td>\n",
       "    </tr>\n",
       "    <tr>\n",
       "      <th>3</th>\n",
       "      <td>129325277</td>\n",
       "      <td>2017-01-01</td>\n",
       "    </tr>\n",
       "    <tr>\n",
       "      <th>4</th>\n",
       "      <td>129325278</td>\n",
       "      <td>2017-01-01</td>\n",
       "    </tr>\n",
       "  </tbody>\n",
       "</table>\n",
       "</div>"
      ],
      "text/plain": [
       "       RowId    day_date\n",
       "0  129325273  2017-01-01\n",
       "1  129325274  2017-01-01\n",
       "2  129325276  2017-01-01\n",
       "3  129325277  2017-01-01\n",
       "4  129325278  2017-01-01"
      ]
     },
     "execution_count": 33,
     "metadata": {},
     "output_type": "execute_result"
    }
   ],
   "source": [
    "creation_daily=pd.DataFrame(data[[\"RowId\", \"day_date\"]])\n",
    "creation_daily.head()"
   ]
  },
  {
   "cell_type": "code",
   "execution_count": null,
   "metadata": {},
   "outputs": [],
   "source": [
    "creation_daily_grp=creation_daily.groupby(by=['day_date']).size().reset_index(name='counts')\n",
    "creation_daily_grp.head()"
   ]
  },
  {
   "cell_type": "code",
   "execution_count": null,
   "metadata": {},
   "outputs": [],
   "source": [
    "fig, ax = plt.subplots(figsize=(15,8))\n",
    "plt.plot(creation_daily_grp['day_date'],creation_daily_grp['counts'],'-o',color='black',markerfacecolor='b')\n",
    "plt.xticks(fontsize=15)\n",
    "plt.yticks(fontsize=15)\n",
    "plt.ylabel('#User Account Creations',fontsize=22)\n",
    "plt.xlabel('Date',fontsize=22)\n",
    "plt.grid()\n"
   ]
  },
  {
   "cell_type": "code",
   "execution_count": null,
   "metadata": {},
   "outputs": [],
   "source": [
    "kpss_test(creation_daily_grp['counts'])"
   ]
  },
  {
   "cell_type": "code",
   "execution_count": null,
   "metadata": {},
   "outputs": [],
   "source": [
    "adf_test(creation_daily_grp['counts'])"
   ]
  },
  {
   "cell_type": "code",
   "execution_count": null,
   "metadata": {},
   "outputs": [],
   "source": []
  },
  {
   "cell_type": "code",
   "execution_count": null,
   "metadata": {},
   "outputs": [],
   "source": []
  },
  {
   "cell_type": "code",
   "execution_count": null,
   "metadata": {},
   "outputs": [],
   "source": []
  },
  {
   "cell_type": "code",
   "execution_count": null,
   "metadata": {},
   "outputs": [],
   "source": []
  },
  {
   "cell_type": "code",
   "execution_count": null,
   "metadata": {},
   "outputs": [],
   "source": []
  },
  {
   "cell_type": "code",
   "execution_count": null,
   "metadata": {},
   "outputs": [],
   "source": []
  },
  {
   "cell_type": "code",
   "execution_count": null,
   "metadata": {},
   "outputs": [],
   "source": []
  },
  {
   "cell_type": "code",
   "execution_count": null,
   "metadata": {},
   "outputs": [],
   "source": []
  },
  {
   "cell_type": "code",
   "execution_count": null,
   "metadata": {},
   "outputs": [],
   "source": []
  },
  {
   "cell_type": "code",
   "execution_count": null,
   "metadata": {},
   "outputs": [],
   "source": []
  },
  {
   "cell_type": "code",
   "execution_count": null,
   "metadata": {},
   "outputs": [],
   "source": []
  },
  {
   "cell_type": "code",
   "execution_count": null,
   "metadata": {},
   "outputs": [],
   "source": []
  },
  {
   "cell_type": "code",
   "execution_count": null,
   "metadata": {},
   "outputs": [],
   "source": []
  },
  {
   "cell_type": "code",
   "execution_count": null,
   "metadata": {},
   "outputs": [],
   "source": []
  },
  {
   "cell_type": "code",
   "execution_count": null,
   "metadata": {},
   "outputs": [],
   "source": []
  },
  {
   "cell_type": "code",
   "execution_count": null,
   "metadata": {},
   "outputs": [],
   "source": []
  },
  {
   "cell_type": "code",
   "execution_count": null,
   "metadata": {},
   "outputs": [],
   "source": []
  },
  {
   "cell_type": "code",
   "execution_count": null,
   "metadata": {},
   "outputs": [],
   "source": []
  },
  {
   "cell_type": "code",
   "execution_count": null,
   "metadata": {},
   "outputs": [],
   "source": []
  },
  {
   "cell_type": "code",
   "execution_count": null,
   "metadata": {},
   "outputs": [],
   "source": []
  },
  {
   "cell_type": "code",
   "execution_count": null,
   "metadata": {},
   "outputs": [],
   "source": []
  },
  {
   "cell_type": "code",
   "execution_count": null,
   "metadata": {},
   "outputs": [],
   "source": []
  },
  {
   "cell_type": "code",
   "execution_count": null,
   "metadata": {},
   "outputs": [],
   "source": []
  },
  {
   "cell_type": "code",
   "execution_count": null,
   "metadata": {},
   "outputs": [],
   "source": []
  },
  {
   "cell_type": "code",
   "execution_count": null,
   "metadata": {},
   "outputs": [],
   "source": []
  },
  {
   "cell_type": "code",
   "execution_count": null,
   "metadata": {},
   "outputs": [],
   "source": []
  },
  {
   "cell_type": "code",
   "execution_count": null,
   "metadata": {},
   "outputs": [],
   "source": []
  },
  {
   "cell_type": "code",
   "execution_count": null,
   "metadata": {},
   "outputs": [],
   "source": []
  },
  {
   "cell_type": "code",
   "execution_count": 8,
   "metadata": {},
   "outputs": [
    {
     "data": {
      "text/html": [
       "<div>\n",
       "<style scoped>\n",
       "    .dataframe tbody tr th:only-of-type {\n",
       "        vertical-align: middle;\n",
       "    }\n",
       "\n",
       "    .dataframe tbody tr th {\n",
       "        vertical-align: top;\n",
       "    }\n",
       "\n",
       "    .dataframe thead th {\n",
       "        text-align: right;\n",
       "    }\n",
       "</style>\n",
       "<table border=\"1\" class=\"dataframe\">\n",
       "  <thead>\n",
       "    <tr style=\"text-align: right;\">\n",
       "      <th></th>\n",
       "      <th>RowId</th>\n",
       "      <th>CreateDate</th>\n",
       "      <th>PostId</th>\n",
       "      <th>VoteType</th>\n",
       "      <th>UserId</th>\n",
       "    </tr>\n",
       "  </thead>\n",
       "  <tbody>\n",
       "    <tr>\n",
       "      <th>7</th>\n",
       "      <td>129325281</td>\n",
       "      <td>2017-01-01T00:00:00.000</td>\n",
       "      <td>40734242</td>\n",
       "      <td>1</td>\n",
       "      <td>-1</td>\n",
       "    </tr>\n",
       "    <tr>\n",
       "      <th>57</th>\n",
       "      <td>129325340</td>\n",
       "      <td>2017-01-01T00:00:00.000</td>\n",
       "      <td>41403488</td>\n",
       "      <td>1</td>\n",
       "      <td>-1</td>\n",
       "    </tr>\n",
       "    <tr>\n",
       "      <th>60</th>\n",
       "      <td>129325343</td>\n",
       "      <td>2017-01-01T00:00:00.000</td>\n",
       "      <td>41399400</td>\n",
       "      <td>1</td>\n",
       "      <td>-1</td>\n",
       "    </tr>\n",
       "    <tr>\n",
       "      <th>129</th>\n",
       "      <td>129325416</td>\n",
       "      <td>2017-01-01T00:00:00.000</td>\n",
       "      <td>41359143</td>\n",
       "      <td>1</td>\n",
       "      <td>-1</td>\n",
       "    </tr>\n",
       "    <tr>\n",
       "      <th>195</th>\n",
       "      <td>129325486</td>\n",
       "      <td>2017-01-01T00:00:00.000</td>\n",
       "      <td>41398460</td>\n",
       "      <td>1</td>\n",
       "      <td>-1</td>\n",
       "    </tr>\n",
       "  </tbody>\n",
       "</table>\n",
       "</div>"
      ],
      "text/plain": [
       "         RowId               CreateDate    PostId  VoteType  UserId\n",
       "7    129325281  2017-01-01T00:00:00.000  40734242         1      -1\n",
       "57   129325340  2017-01-01T00:00:00.000  41403488         1      -1\n",
       "60   129325343  2017-01-01T00:00:00.000  41399400         1      -1\n",
       "129  129325416  2017-01-01T00:00:00.000  41359143         1      -1\n",
       "195  129325486  2017-01-01T00:00:00.000  41398460         1      -1"
      ]
     },
     "execution_count": 8,
     "metadata": {},
     "output_type": "execute_result"
    }
   ],
   "source": [
    "data[(data[\"VoteType\"]==1 )].head()"
   ]
  },
  {
   "cell_type": "code",
   "execution_count": null,
   "metadata": {},
   "outputs": [],
   "source": []
  },
  {
   "cell_type": "code",
   "execution_count": 9,
   "metadata": {},
   "outputs": [
    {
     "data": {
      "text/plain": [
       "80563761"
      ]
     },
     "execution_count": 9,
     "metadata": {},
     "output_type": "execute_result"
    }
   ],
   "source": [
    "data_type_filtered=data[(data[\"VoteType\"]==1 ) | (data[\"VoteType\"]==2 ) | \n",
    "                        (data[\"VoteType\"]==3 ) | (data[\"VoteType\"]==5 ) ]\n",
    "len(data_type_filtered)"
   ]
  },
  {
   "cell_type": "code",
   "execution_count": 13,
   "metadata": {},
   "outputs": [],
   "source": [
    "def getYearlyMonthlyCreation(data):\n",
    "    data[\"CreateDate\"] = pd.to_datetime(data[\"CreateDate\"])\n",
    "    print(data.head())\n",
    "    data[\"CreateYear\"]=data['CreateDate'].map(lambda x: x.year)\n",
    "    print(data.head())\n",
    "    data[\"CreateMonth\"]=data['CreateDate'].map(lambda x: x.month)\n",
    "    print(data.head())\n",
    "    data[\"CreateYearMonth\"]=data[\"CreateYear\"].astype(str) +\"-\"+ data[\"CreateMonth\"].astype(str)\n",
    "    print(data.head())\n",
    "    data['CreateYearMonth'] = pd.to_datetime(data['CreateYearMonth'])\n",
    "    print(data.head())\n",
    "    creation_yearly_monthly = pd.DataFrame(data[[\"RowId\", \"CreateYearMonth\"]])\n",
    "    print(creation_yearly_monthly.head())\n",
    "    yearly_monthly_grp=creation_yearly_monthly.groupby(by=['CreateYearMonth']).size().reset_index(name='counts')\n",
    "    yearly_monthly_grp.head()\n",
    "    return yearly_monthly_grp"
   ]
  },
  {
   "cell_type": "code",
   "execution_count": 14,
   "metadata": {},
   "outputs": [
    {
     "name": "stdout",
     "output_type": "stream",
     "text": [
      "       RowId CreateDate    PostId  VoteType  UserId  CreateYear\n",
      "0  129325273 2017-01-01   2173777         2      -1        2017\n",
      "1  129325274 2017-01-01  33568015         2      -1        2017\n",
      "2  129325276 2017-01-01  11681331         2      -1        2017\n",
      "3  129325277 2017-01-01  25398100         2      -1        2017\n",
      "4  129325278 2017-01-01  41412391         2      -1        2017\n",
      "       RowId CreateDate    PostId  VoteType  UserId  CreateYear\n",
      "0  129325273 2017-01-01   2173777         2      -1        2017\n",
      "1  129325274 2017-01-01  33568015         2      -1        2017\n",
      "2  129325276 2017-01-01  11681331         2      -1        2017\n",
      "3  129325277 2017-01-01  25398100         2      -1        2017\n",
      "4  129325278 2017-01-01  41412391         2      -1        2017\n",
      "       RowId CreateDate    PostId  VoteType  UserId  CreateYear  CreateMonth\n",
      "0  129325273 2017-01-01   2173777         2      -1        2017            1\n",
      "1  129325274 2017-01-01  33568015         2      -1        2017            1\n",
      "2  129325276 2017-01-01  11681331         2      -1        2017            1\n",
      "3  129325277 2017-01-01  25398100         2      -1        2017            1\n",
      "4  129325278 2017-01-01  41412391         2      -1        2017            1\n",
      "       RowId CreateDate    PostId  VoteType  UserId  CreateYear  CreateMonth  \\\n",
      "0  129325273 2017-01-01   2173777         2      -1        2017            1   \n",
      "1  129325274 2017-01-01  33568015         2      -1        2017            1   \n",
      "2  129325276 2017-01-01  11681331         2      -1        2017            1   \n",
      "3  129325277 2017-01-01  25398100         2      -1        2017            1   \n",
      "4  129325278 2017-01-01  41412391         2      -1        2017            1   \n",
      "\n",
      "  CreateYearMonth  \n",
      "0          2017-1  \n",
      "1          2017-1  \n",
      "2          2017-1  \n",
      "3          2017-1  \n",
      "4          2017-1  \n",
      "       RowId CreateDate    PostId  VoteType  UserId  CreateYear  CreateMonth  \\\n",
      "0  129325273 2017-01-01   2173777         2      -1        2017            1   \n",
      "1  129325274 2017-01-01  33568015         2      -1        2017            1   \n",
      "2  129325276 2017-01-01  11681331         2      -1        2017            1   \n",
      "3  129325277 2017-01-01  25398100         2      -1        2017            1   \n",
      "4  129325278 2017-01-01  41412391         2      -1        2017            1   \n",
      "\n",
      "  CreateYearMonth  \n",
      "0      2017-01-01  \n",
      "1      2017-01-01  \n",
      "2      2017-01-01  \n",
      "3      2017-01-01  \n",
      "4      2017-01-01  \n",
      "       RowId CreateYearMonth\n",
      "0  129325273      2017-01-01\n",
      "1  129325274      2017-01-01\n",
      "2  129325276      2017-01-01\n",
      "3  129325277      2017-01-01\n",
      "4  129325278      2017-01-01\n"
     ]
    }
   ],
   "source": [
    "yearly_monthly_votes=getYearlyMonthlyCreation(data)"
   ]
  },
  {
   "cell_type": "code",
   "execution_count": 24,
   "metadata": {},
   "outputs": [],
   "source": [
    "months_xticks=['Jan 2017','','','Apr','','','Jul','','','Oct','','','Jan 2018','','','Apr','','','Jul','','','Oct','','','Jan 2019','','','Apr','','','Jul','','','Oct','','','Jan 2020','','','Apr','','','Jul','','','Oct','']"
   ]
  },
  {
   "cell_type": "code",
   "execution_count": 27,
   "metadata": {},
   "outputs": [
    {
     "data": {
      "image/png": "[encoded data removed]",
      "text/plain": [
       "<Figure size 1080x576 with 1 Axes>"
      ]
     },
     "metadata": {
      "needs_background": "light"
     },
     "output_type": "display_data"
    }
   ],
   "source": [
    "fig, ax = plt.subplots(figsize=(15,8))\n",
    "plt.plot(yearly_monthly_votes['CreateYearMonth'],yearly_monthly_votes['counts'],'-o',color='black',markerfacecolor='r')\n",
    "plt.xticks(yearly_monthly_votes['CreateYearMonth'], months_xticks,fontsize=15,rotation=90)\n",
    "plt.yticks(fontsize=15)\n",
    "plt.ylabel('Number of Votes',fontsize=22)\n",
    "plt.grid()\n",
    "plt.xlabel('Month/Year',fontsize=22)\n",
    "plt.savefig('figs/SO_VoteCreationYearltMonthly.pdf',bbox_inches='tight')\n",
    "\n",
    "# yearly_monthly_votes.plot(x='CreateYearMonth',y='counts',figsize=(15,6),linestyle='-',\n",
    "#                          marker='.', markerfacecolor='r',color='black',markersize=10)\n",
    "# # plt.rcParams.update({'font.size': 12})\n",
    "# plt.grid()\n",
    "# plt.xlabel('Month/Year')\n",
    "# plt.ylabel('Vote Creations')"
   ]
  },
  {
   "cell_type": "code",
   "execution_count": 21,
   "metadata": {},
   "outputs": [
    {
     "name": "stderr",
     "output_type": "stream",
     "text": [
      "<ipython-input-13-f6dbea666cff>:2: SettingWithCopyWarning: \n",
      "A value is trying to be set on a copy of a slice from a DataFrame.\n",
      "Try using .loc[row_indexer,col_indexer] = value instead\n",
      "\n",
      "See the caveats in the documentation: https://pandas.pydata.org/pandas-docs/stable/user_guide/indexing.html#returning-a-view-versus-a-copy\n",
      "  data[\"CreateDate\"] = pd.to_datetime(data[\"CreateDate\"])\n"
     ]
    },
    {
     "name": "stdout",
     "output_type": "stream",
     "text": [
      "       RowId CreateDate    PostId  VoteType  UserId\n",
      "0  129325273 2017-01-01   2173777         2      -1\n",
      "1  129325274 2017-01-01  33568015         2      -1\n",
      "2  129325276 2017-01-01  11681331         2      -1\n",
      "3  129325277 2017-01-01  25398100         2      -1\n",
      "4  129325278 2017-01-01  41412391         2      -1\n"
     ]
    },
    {
     "name": "stderr",
     "output_type": "stream",
     "text": [
      "<ipython-input-13-f6dbea666cff>:4: SettingWithCopyWarning: \n",
      "A value is trying to be set on a copy of a slice from a DataFrame.\n",
      "Try using .loc[row_indexer,col_indexer] = value instead\n",
      "\n",
      "See the caveats in the documentation: https://pandas.pydata.org/pandas-docs/stable/user_guide/indexing.html#returning-a-view-versus-a-copy\n",
      "  data[\"CreateYear\"]=data['CreateDate'].map(lambda x: x.year)\n"
     ]
    },
    {
     "name": "stdout",
     "output_type": "stream",
     "text": [
      "       RowId CreateDate    PostId  VoteType  UserId  CreateYear\n",
      "0  129325273 2017-01-01   2173777         2      -1        2017\n",
      "1  129325274 2017-01-01  33568015         2      -1        2017\n",
      "2  129325276 2017-01-01  11681331         2      -1        2017\n",
      "3  129325277 2017-01-01  25398100         2      -1        2017\n",
      "4  129325278 2017-01-01  41412391         2      -1        2017\n"
     ]
    },
    {
     "name": "stderr",
     "output_type": "stream",
     "text": [
      "<ipython-input-13-f6dbea666cff>:6: SettingWithCopyWarning: \n",
      "A value is trying to be set on a copy of a slice from a DataFrame.\n",
      "Try using .loc[row_indexer,col_indexer] = value instead\n",
      "\n",
      "See the caveats in the documentation: https://pandas.pydata.org/pandas-docs/stable/user_guide/indexing.html#returning-a-view-versus-a-copy\n",
      "  data[\"CreateMonth\"]=data['CreateDate'].map(lambda x: x.month)\n"
     ]
    },
    {
     "name": "stdout",
     "output_type": "stream",
     "text": [
      "       RowId CreateDate    PostId  VoteType  UserId  CreateYear  CreateMonth\n",
      "0  129325273 2017-01-01   2173777         2      -1        2017            1\n",
      "1  129325274 2017-01-01  33568015         2      -1        2017            1\n",
      "2  129325276 2017-01-01  11681331         2      -1        2017            1\n",
      "3  129325277 2017-01-01  25398100         2      -1        2017            1\n",
      "4  129325278 2017-01-01  41412391         2      -1        2017            1\n"
     ]
    },
    {
     "name": "stderr",
     "output_type": "stream",
     "text": [
      "<ipython-input-13-f6dbea666cff>:8: SettingWithCopyWarning: \n",
      "A value is trying to be set on a copy of a slice from a DataFrame.\n",
      "Try using .loc[row_indexer,col_indexer] = value instead\n",
      "\n",
      "See the caveats in the documentation: https://pandas.pydata.org/pandas-docs/stable/user_guide/indexing.html#returning-a-view-versus-a-copy\n",
      "  data[\"CreateYearMonth\"]=data[\"CreateYear\"].astype(str) +\"-\"+ data[\"CreateMonth\"].astype(str)\n"
     ]
    },
    {
     "name": "stdout",
     "output_type": "stream",
     "text": [
      "       RowId CreateDate    PostId  VoteType  UserId  CreateYear  CreateMonth  \\\n",
      "0  129325273 2017-01-01   2173777         2      -1        2017            1   \n",
      "1  129325274 2017-01-01  33568015         2      -1        2017            1   \n",
      "2  129325276 2017-01-01  11681331         2      -1        2017            1   \n",
      "3  129325277 2017-01-01  25398100         2      -1        2017            1   \n",
      "4  129325278 2017-01-01  41412391         2      -1        2017            1   \n",
      "\n",
      "  CreateYearMonth  \n",
      "0          2017-1  \n",
      "1          2017-1  \n",
      "2          2017-1  \n",
      "3          2017-1  \n",
      "4          2017-1  \n"
     ]
    },
    {
     "name": "stderr",
     "output_type": "stream",
     "text": [
      "<ipython-input-13-f6dbea666cff>:10: SettingWithCopyWarning: \n",
      "A value is trying to be set on a copy of a slice from a DataFrame.\n",
      "Try using .loc[row_indexer,col_indexer] = value instead\n",
      "\n",
      "See the caveats in the documentation: https://pandas.pydata.org/pandas-docs/stable/user_guide/indexing.html#returning-a-view-versus-a-copy\n",
      "  data['CreateYearMonth'] = pd.to_datetime(data['CreateYearMonth'])\n"
     ]
    },
    {
     "name": "stdout",
     "output_type": "stream",
     "text": [
      "       RowId CreateDate    PostId  VoteType  UserId  CreateYear  CreateMonth  \\\n",
      "0  129325273 2017-01-01   2173777         2      -1        2017            1   \n",
      "1  129325274 2017-01-01  33568015         2      -1        2017            1   \n",
      "2  129325276 2017-01-01  11681331         2      -1        2017            1   \n",
      "3  129325277 2017-01-01  25398100         2      -1        2017            1   \n",
      "4  129325278 2017-01-01  41412391         2      -1        2017            1   \n",
      "\n",
      "  CreateYearMonth  \n",
      "0      2017-01-01  \n",
      "1      2017-01-01  \n",
      "2      2017-01-01  \n",
      "3      2017-01-01  \n",
      "4      2017-01-01  \n",
      "       RowId CreateYearMonth\n",
      "0  129325273      2017-01-01\n",
      "1  129325274      2017-01-01\n",
      "2  129325276      2017-01-01\n",
      "3  129325277      2017-01-01\n",
      "4  129325278      2017-01-01\n"
     ]
    },
    {
     "data": {
      "text/plain": [
       "47"
      ]
     },
     "execution_count": 21,
     "metadata": {},
     "output_type": "execute_result"
    }
   ],
   "source": [
    "yearly_monthly_votes_filtered=getYearlyMonthlyCreation(data_type_filtered)\n",
    "len(yearly_monthly_votes_filtered)"
   ]
  },
  {
   "cell_type": "code",
   "execution_count": 22,
   "metadata": {},
   "outputs": [
    {
     "data": {
      "text/plain": [
       "Text(0, 0.5, 'Vote Creations')"
      ]
     },
     "execution_count": 22,
     "metadata": {},
     "output_type": "execute_result"
    },
    {
     "data": {
      "image/png": "[encoded data removed]",
      "text/plain": [
       "<Figure size 1080x432 with 1 Axes>"
      ]
     },
     "metadata": {
      "needs_background": "light"
     },
     "output_type": "display_data"
    }
   ],
   "source": [
    "yearly_monthly_votes_filtered.plot(x='CreateYearMonth',y='counts',figsize=(15,6),linestyle='-',\n",
    "                         marker='.', markerfacecolor='r',color='black',markersize=10)\n",
    "# plt.rcParams.update({'font.size': 12})\n",
    "plt.grid()\n",
    "plt.xlabel('Month/Year')\n",
    "plt.ylabel('Vote Creations')"
   ]
  },
  {
   "cell_type": "code",
   "execution_count": 16,
   "metadata": {},
   "outputs": [
    {
     "data": {
      "text/html": [
       "<div>\n",
       "<style scoped>\n",
       "    .dataframe tbody tr th:only-of-type {\n",
       "        vertical-align: middle;\n",
       "    }\n",
       "\n",
       "    .dataframe tbody tr th {\n",
       "        vertical-align: top;\n",
       "    }\n",
       "\n",
       "    .dataframe thead th {\n",
       "        text-align: right;\n",
       "    }\n",
       "</style>\n",
       "<table border=\"1\" class=\"dataframe\">\n",
       "  <thead>\n",
       "    <tr style=\"text-align: right;\">\n",
       "      <th></th>\n",
       "      <th>RowId</th>\n",
       "      <th>CreateDate</th>\n",
       "      <th>PostId</th>\n",
       "      <th>VoteType</th>\n",
       "      <th>UserId</th>\n",
       "      <th>CreateYear</th>\n",
       "      <th>CreateMonth</th>\n",
       "      <th>CreateYearMonth</th>\n",
       "    </tr>\n",
       "  </thead>\n",
       "  <tbody>\n",
       "    <tr>\n",
       "      <th>0</th>\n",
       "      <td>129325273</td>\n",
       "      <td>2017-01-01</td>\n",
       "      <td>2173777</td>\n",
       "      <td>2</td>\n",
       "      <td>-1</td>\n",
       "      <td>2017</td>\n",
       "      <td>1</td>\n",
       "      <td>2017-01-01</td>\n",
       "    </tr>\n",
       "    <tr>\n",
       "      <th>1</th>\n",
       "      <td>129325274</td>\n",
       "      <td>2017-01-01</td>\n",
       "      <td>33568015</td>\n",
       "      <td>2</td>\n",
       "      <td>-1</td>\n",
       "      <td>2017</td>\n",
       "      <td>1</td>\n",
       "      <td>2017-01-01</td>\n",
       "    </tr>\n",
       "    <tr>\n",
       "      <th>2</th>\n",
       "      <td>129325276</td>\n",
       "      <td>2017-01-01</td>\n",
       "      <td>11681331</td>\n",
       "      <td>2</td>\n",
       "      <td>-1</td>\n",
       "      <td>2017</td>\n",
       "      <td>1</td>\n",
       "      <td>2017-01-01</td>\n",
       "    </tr>\n",
       "    <tr>\n",
       "      <th>3</th>\n",
       "      <td>129325277</td>\n",
       "      <td>2017-01-01</td>\n",
       "      <td>25398100</td>\n",
       "      <td>2</td>\n",
       "      <td>-1</td>\n",
       "      <td>2017</td>\n",
       "      <td>1</td>\n",
       "      <td>2017-01-01</td>\n",
       "    </tr>\n",
       "    <tr>\n",
       "      <th>4</th>\n",
       "      <td>129325278</td>\n",
       "      <td>2017-01-01</td>\n",
       "      <td>41412391</td>\n",
       "      <td>2</td>\n",
       "      <td>-1</td>\n",
       "      <td>2017</td>\n",
       "      <td>1</td>\n",
       "      <td>2017-01-01</td>\n",
       "    </tr>\n",
       "  </tbody>\n",
       "</table>\n",
       "</div>"
      ],
      "text/plain": [
       "       RowId CreateDate    PostId  VoteType  UserId  CreateYear  CreateMonth  \\\n",
       "0  129325273 2017-01-01   2173777         2      -1        2017            1   \n",
       "1  129325274 2017-01-01  33568015         2      -1        2017            1   \n",
       "2  129325276 2017-01-01  11681331         2      -1        2017            1   \n",
       "3  129325277 2017-01-01  25398100         2      -1        2017            1   \n",
       "4  129325278 2017-01-01  41412391         2      -1        2017            1   \n",
       "\n",
       "  CreateYearMonth  \n",
       "0      2017-01-01  \n",
       "1      2017-01-01  \n",
       "2      2017-01-01  \n",
       "3      2017-01-01  \n",
       "4      2017-01-01  "
      ]
     },
     "execution_count": 16,
     "metadata": {},
     "output_type": "execute_result"
    }
   ],
   "source": [
    "data.head()"
   ]
  },
  {
   "cell_type": "code",
   "execution_count": 17,
   "metadata": {},
   "outputs": [
    {
     "data": {
      "text/plain": [
       "23223687"
      ]
     },
     "execution_count": 17,
     "metadata": {},
     "output_type": "execute_result"
    }
   ],
   "source": [
    "data_2017=data[data[\"CreateYear\"]==2017]\n",
    "data_2017.head()\n",
    "max(data_2017[\"CreateYear\"])\n",
    "len(data_2017)"
   ]
  },
  {
   "cell_type": "code",
   "execution_count": 18,
   "metadata": {},
   "outputs": [
    {
     "data": {
      "text/plain": [
       "22244375"
      ]
     },
     "execution_count": 18,
     "metadata": {},
     "output_type": "execute_result"
    }
   ],
   "source": [
    "data_2018=data[data[\"CreateYear\"]==2018]\n",
    "len(data_2018)"
   ]
  },
  {
   "cell_type": "code",
   "execution_count": 19,
   "metadata": {},
   "outputs": [
    {
     "data": {
      "text/plain": [
       "21267514"
      ]
     },
     "execution_count": 19,
     "metadata": {},
     "output_type": "execute_result"
    }
   ],
   "source": [
    "data_2019=data[data[\"CreateYear\"]==2019]\n",
    "len(data_2019)"
   ]
  },
  {
   "cell_type": "code",
   "execution_count": 20,
   "metadata": {},
   "outputs": [
    {
     "data": {
      "text/plain": [
       "19668672"
      ]
     },
     "execution_count": 20,
     "metadata": {},
     "output_type": "execute_result"
    }
   ],
   "source": [
    "data_2020=data[data[\"CreateYear\"]==2020]\n",
    "len(data_2020)"
   ]
  }
 ],
 "metadata": {
  "kernelspec": {
   "display_name": "Python 3",
   "language": "python",
   "name": "python3"
  },
  "language_info": {
   "codemirror_mode": {
    "name": "ipython",
    "version": 3
   },
   "file_extension": ".py",
   "mimetype": "text/x-python",
   "name": "python",
   "nbconvert_exporter": "python",
   "pygments_lexer": "ipython3",
   "version": "3.8.5"
  }
 },
 "nbformat": 4,
 "nbformat_minor": 4
}
