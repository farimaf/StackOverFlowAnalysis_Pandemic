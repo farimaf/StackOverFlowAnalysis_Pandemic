{
 "cells": [
  {
   "cell_type": "code",
   "execution_count": 1,
   "metadata": {},
   "outputs": [],
   "source": [
    "import pandas as pd\n",
    "import matplotlib.pyplot as plt\n",
    "import numpy as np\n",
    "from matplotlib.ticker import ScalarFormatter, FormatStrFormatter\n",
    "input_path=\"C:\\\\Users\\\\Farima\\\\OneDrive\\\\Data\\\\PhD\\\\StackOverFlow-data\\\\Users\\\\FinalCsvFiles\\\\Users_2017_2020.csv\""
   ]
  },
  {
   "cell_type": "code",
   "execution_count": 2,
   "metadata": {},
   "outputs": [],
   "source": [
    "from statsmodels.tsa.stattools import kpss\n",
    "def kpss_test(series, **kw):    \n",
    "    statistic, p_value, n_lags, critical_values = kpss(series, **kw)\n",
    "    # Format Output\n",
    "    print(f'KPSS Statistic: {statistic}')\n",
    "    print(f'p-value: {p_value}')\n",
    "    print(f'num lags: {n_lags}')\n",
    "    print('Critical Values:')\n",
    "    for key, value in critical_values.items():\n",
    "        print(f'   {key} : {value}')\n",
    "    print(f'Result: The series is {\"not \" if p_value < 0.05 else \"\"}stationary')"
   ]
  },
  {
   "cell_type": "code",
   "execution_count": 3,
   "metadata": {},
   "outputs": [],
   "source": [
    "from statsmodels.tsa.stattools import adfuller\n",
    "def adf_test(timeseries):\n",
    "    #Perform Dickey-Fuller test:\n",
    "    print ('Results of Dickey-Fuller Test:')\n",
    "    \n",
    "    result = adfuller(timeseries)\n",
    "    p_value=result[1]\n",
    "    print('ADF Statistic: %f' % result[0])\n",
    "    print('p-value: %f' % result[1])\n",
    "    print('Critical Values:')\n",
    "    for key, value in result[4].items():\n",
    "        print('\\t%s: %.3f' % (key, value))\n",
    "    print(f'Result: The series is {\"not \" if p_value > 0.05 else \"\"}stationary')"
   ]
  },
  {
   "cell_type": "code",
   "execution_count": 4,
   "metadata": {},
   "outputs": [],
   "source": [
    "import scipy.stats as stats\n",
    "def is_normal_shapiro(data):\n",
    "    stat, p = stats.shapiro(data)\n",
    "    print('Statistics=%.3f, p=%.3f' % (stat, p))\n",
    "    # interpret\n",
    "    alpha = 0.05\n",
    "    if p > alpha:\n",
    "        print('Sample looks Gaussian (fail to reject H0)')\n",
    "    else:\n",
    "        print('Sample does not look Gaussian (reject H0)')"
   ]
  },
  {
   "cell_type": "code",
   "execution_count": 5,
   "metadata": {},
   "outputs": [],
   "source": [
    "from scipy.stats import f_oneway\n",
    "\n",
    "#call data frame\n",
    "#group1 dataframe1\n",
    "#group2 dataframe2\n",
    "#group3 dataframe 3\n",
    "#you can call as many dataframes as you like \n",
    "# f_oneway(group1, group2, group3)"
   ]
  },
  {
   "cell_type": "code",
   "execution_count": null,
   "metadata": {},
   "outputs": [],
   "source": []
  },
  {
   "cell_type": "code",
   "execution_count": 6,
   "metadata": {},
   "outputs": [
    {
     "data": {
      "text/html": [
       "<div>\n",
       "<style scoped>\n",
       "    .dataframe tbody tr th:only-of-type {\n",
       "        vertical-align: middle;\n",
       "    }\n",
       "\n",
       "    .dataframe tbody tr th {\n",
       "        vertical-align: top;\n",
       "    }\n",
       "\n",
       "    .dataframe thead th {\n",
       "        text-align: right;\n",
       "    }\n",
       "</style>\n",
       "<table border=\"1\" class=\"dataframe\">\n",
       "  <thead>\n",
       "    <tr style=\"text-align: right;\">\n",
       "      <th></th>\n",
       "      <th>AccId</th>\n",
       "      <th>CreateDate</th>\n",
       "      <th>LastAccessDate</th>\n",
       "      <th>ViewsNum</th>\n",
       "      <th>UpVotes</th>\n",
       "      <th>DownVotes</th>\n",
       "    </tr>\n",
       "  </thead>\n",
       "  <tbody>\n",
       "    <tr>\n",
       "      <th>0</th>\n",
       "      <td>9883458</td>\n",
       "      <td>2017-01-01T00:00:56.717</td>\n",
       "      <td>2020-11-28T01:11:55.853</td>\n",
       "      <td>2</td>\n",
       "      <td>0</td>\n",
       "      <td>0</td>\n",
       "    </tr>\n",
       "    <tr>\n",
       "      <th>1</th>\n",
       "      <td>9947518</td>\n",
       "      <td>2017-01-01T00:01:12.400</td>\n",
       "      <td>2020-10-11T15:09:34.260</td>\n",
       "      <td>0</td>\n",
       "      <td>0</td>\n",
       "      <td>0</td>\n",
       "    </tr>\n",
       "    <tr>\n",
       "      <th>2</th>\n",
       "      <td>9947524</td>\n",
       "      <td>2017-01-01T00:04:35.913</td>\n",
       "      <td>2018-06-08T20:13:35.803</td>\n",
       "      <td>1</td>\n",
       "      <td>0</td>\n",
       "      <td>0</td>\n",
       "    </tr>\n",
       "    <tr>\n",
       "      <th>3</th>\n",
       "      <td>9947525</td>\n",
       "      <td>2017-01-01T00:06:08.170</td>\n",
       "      <td>2019-07-12T16:35:43.657</td>\n",
       "      <td>0</td>\n",
       "      <td>0</td>\n",
       "      <td>0</td>\n",
       "    </tr>\n",
       "    <tr>\n",
       "      <th>4</th>\n",
       "      <td>9947527</td>\n",
       "      <td>2017-01-01T00:09:40.727</td>\n",
       "      <td>2017-01-06T01:26:02.110</td>\n",
       "      <td>0</td>\n",
       "      <td>0</td>\n",
       "      <td>0</td>\n",
       "    </tr>\n",
       "  </tbody>\n",
       "</table>\n",
       "</div>"
      ],
      "text/plain": [
       "     AccId               CreateDate           LastAccessDate  ViewsNum  \\\n",
       "0  9883458  2017-01-01T00:00:56.717  2020-11-28T01:11:55.853         2   \n",
       "1  9947518  2017-01-01T00:01:12.400  2020-10-11T15:09:34.260         0   \n",
       "2  9947524  2017-01-01T00:04:35.913  2018-06-08T20:13:35.803         1   \n",
       "3  9947525  2017-01-01T00:06:08.170  2019-07-12T16:35:43.657         0   \n",
       "4  9947527  2017-01-01T00:09:40.727  2017-01-06T01:26:02.110         0   \n",
       "\n",
       "   UpVotes  DownVotes  \n",
       "0        0          0  \n",
       "1        0          0  \n",
       "2        0          0  \n",
       "3        0          0  \n",
       "4        0          0  "
      ]
     },
     "execution_count": 6,
     "metadata": {},
     "output_type": "execute_result"
    }
   ],
   "source": [
    "data=pd.read_csv(input_path,names=[\"AccId\",\"CreateDate\",\"LastAccessDate\",\"ViewsNum\",\"UpVotes\",\"DownVotes\"])\n",
    "data.head()\n",
    "# commits_2019,commits_2020=preprocess_monthly_commit(data)\n",
    "# plot_monthly_commit(commits_2019,commits_2020,\"Clojure\")"
   ]
  },
  {
   "cell_type": "code",
   "execution_count": 7,
   "metadata": {},
   "outputs": [
    {
     "data": {
      "text/plain": [
       "7126703"
      ]
     },
     "execution_count": 7,
     "metadata": {},
     "output_type": "execute_result"
    }
   ],
   "source": [
    "len(data)"
   ]
  },
  {
   "cell_type": "code",
   "execution_count": 8,
   "metadata": {},
   "outputs": [
    {
     "data": {
      "text/html": [
       "<div>\n",
       "<style scoped>\n",
       "    .dataframe tbody tr th:only-of-type {\n",
       "        vertical-align: middle;\n",
       "    }\n",
       "\n",
       "    .dataframe tbody tr th {\n",
       "        vertical-align: top;\n",
       "    }\n",
       "\n",
       "    .dataframe thead th {\n",
       "        text-align: right;\n",
       "    }\n",
       "</style>\n",
       "<table border=\"1\" class=\"dataframe\">\n",
       "  <thead>\n",
       "    <tr style=\"text-align: right;\">\n",
       "      <th></th>\n",
       "      <th>AccId</th>\n",
       "      <th>CreateDate</th>\n",
       "      <th>LastAccessDate</th>\n",
       "      <th>ViewsNum</th>\n",
       "      <th>UpVotes</th>\n",
       "      <th>DownVotes</th>\n",
       "    </tr>\n",
       "  </thead>\n",
       "  <tbody>\n",
       "    <tr>\n",
       "      <th>0</th>\n",
       "      <td>9883458</td>\n",
       "      <td>2017-01-01 00:00:56.717</td>\n",
       "      <td>2020-11-28T01:11:55.853</td>\n",
       "      <td>2</td>\n",
       "      <td>0</td>\n",
       "      <td>0</td>\n",
       "    </tr>\n",
       "    <tr>\n",
       "      <th>1</th>\n",
       "      <td>9947518</td>\n",
       "      <td>2017-01-01 00:01:12.400</td>\n",
       "      <td>2020-10-11T15:09:34.260</td>\n",
       "      <td>0</td>\n",
       "      <td>0</td>\n",
       "      <td>0</td>\n",
       "    </tr>\n",
       "    <tr>\n",
       "      <th>2</th>\n",
       "      <td>9947524</td>\n",
       "      <td>2017-01-01 00:04:35.913</td>\n",
       "      <td>2018-06-08T20:13:35.803</td>\n",
       "      <td>1</td>\n",
       "      <td>0</td>\n",
       "      <td>0</td>\n",
       "    </tr>\n",
       "    <tr>\n",
       "      <th>3</th>\n",
       "      <td>9947525</td>\n",
       "      <td>2017-01-01 00:06:08.170</td>\n",
       "      <td>2019-07-12T16:35:43.657</td>\n",
       "      <td>0</td>\n",
       "      <td>0</td>\n",
       "      <td>0</td>\n",
       "    </tr>\n",
       "    <tr>\n",
       "      <th>4</th>\n",
       "      <td>9947527</td>\n",
       "      <td>2017-01-01 00:09:40.727</td>\n",
       "      <td>2017-01-06T01:26:02.110</td>\n",
       "      <td>0</td>\n",
       "      <td>0</td>\n",
       "      <td>0</td>\n",
       "    </tr>\n",
       "  </tbody>\n",
       "</table>\n",
       "</div>"
      ],
      "text/plain": [
       "     AccId              CreateDate           LastAccessDate  ViewsNum  \\\n",
       "0  9883458 2017-01-01 00:00:56.717  2020-11-28T01:11:55.853         2   \n",
       "1  9947518 2017-01-01 00:01:12.400  2020-10-11T15:09:34.260         0   \n",
       "2  9947524 2017-01-01 00:04:35.913  2018-06-08T20:13:35.803         1   \n",
       "3  9947525 2017-01-01 00:06:08.170  2019-07-12T16:35:43.657         0   \n",
       "4  9947527 2017-01-01 00:09:40.727  2017-01-06T01:26:02.110         0   \n",
       "\n",
       "   UpVotes  DownVotes  \n",
       "0        0          0  \n",
       "1        0          0  \n",
       "2        0          0  \n",
       "3        0          0  \n",
       "4        0          0  "
      ]
     },
     "execution_count": 8,
     "metadata": {},
     "output_type": "execute_result"
    }
   ],
   "source": [
    "data[\"CreateDate\"] = pd.to_datetime(data[\"CreateDate\"])\n",
    "data.head()"
   ]
  },
  {
   "cell_type": "code",
   "execution_count": 55,
   "metadata": {},
   "outputs": [],
   "source": [
    "data['day_date'] = data['CreateDate'].dt.date"
   ]
  },
  {
   "cell_type": "code",
   "execution_count": 56,
   "metadata": {},
   "outputs": [
    {
     "data": {
      "text/html": [
       "<div>\n",
       "<style scoped>\n",
       "    .dataframe tbody tr th:only-of-type {\n",
       "        vertical-align: middle;\n",
       "    }\n",
       "\n",
       "    .dataframe tbody tr th {\n",
       "        vertical-align: top;\n",
       "    }\n",
       "\n",
       "    .dataframe thead th {\n",
       "        text-align: right;\n",
       "    }\n",
       "</style>\n",
       "<table border=\"1\" class=\"dataframe\">\n",
       "  <thead>\n",
       "    <tr style=\"text-align: right;\">\n",
       "      <th></th>\n",
       "      <th>AccId</th>\n",
       "      <th>CreateDate</th>\n",
       "      <th>LastAccessDate</th>\n",
       "      <th>ViewsNum</th>\n",
       "      <th>UpVotes</th>\n",
       "      <th>DownVotes</th>\n",
       "      <th>CreateYear</th>\n",
       "      <th>CreateMonth</th>\n",
       "      <th>CreateYearMonth</th>\n",
       "      <th>day_date</th>\n",
       "    </tr>\n",
       "  </thead>\n",
       "  <tbody>\n",
       "    <tr>\n",
       "      <th>0</th>\n",
       "      <td>9883458</td>\n",
       "      <td>2017-01-01 00:00:56.717</td>\n",
       "      <td>2020-11-28T01:11:55.853</td>\n",
       "      <td>2</td>\n",
       "      <td>0</td>\n",
       "      <td>0</td>\n",
       "      <td>2017</td>\n",
       "      <td>1</td>\n",
       "      <td>2017-01-01</td>\n",
       "      <td>2017-01-01</td>\n",
       "    </tr>\n",
       "    <tr>\n",
       "      <th>1</th>\n",
       "      <td>9947518</td>\n",
       "      <td>2017-01-01 00:01:12.400</td>\n",
       "      <td>2020-10-11T15:09:34.260</td>\n",
       "      <td>0</td>\n",
       "      <td>0</td>\n",
       "      <td>0</td>\n",
       "      <td>2017</td>\n",
       "      <td>1</td>\n",
       "      <td>2017-01-01</td>\n",
       "      <td>2017-01-01</td>\n",
       "    </tr>\n",
       "    <tr>\n",
       "      <th>2</th>\n",
       "      <td>9947524</td>\n",
       "      <td>2017-01-01 00:04:35.913</td>\n",
       "      <td>2018-06-08T20:13:35.803</td>\n",
       "      <td>1</td>\n",
       "      <td>0</td>\n",
       "      <td>0</td>\n",
       "      <td>2017</td>\n",
       "      <td>1</td>\n",
       "      <td>2017-01-01</td>\n",
       "      <td>2017-01-01</td>\n",
       "    </tr>\n",
       "    <tr>\n",
       "      <th>3</th>\n",
       "      <td>9947525</td>\n",
       "      <td>2017-01-01 00:06:08.170</td>\n",
       "      <td>2019-07-12T16:35:43.657</td>\n",
       "      <td>0</td>\n",
       "      <td>0</td>\n",
       "      <td>0</td>\n",
       "      <td>2017</td>\n",
       "      <td>1</td>\n",
       "      <td>2017-01-01</td>\n",
       "      <td>2017-01-01</td>\n",
       "    </tr>\n",
       "    <tr>\n",
       "      <th>4</th>\n",
       "      <td>9947527</td>\n",
       "      <td>2017-01-01 00:09:40.727</td>\n",
       "      <td>2017-01-06T01:26:02.110</td>\n",
       "      <td>0</td>\n",
       "      <td>0</td>\n",
       "      <td>0</td>\n",
       "      <td>2017</td>\n",
       "      <td>1</td>\n",
       "      <td>2017-01-01</td>\n",
       "      <td>2017-01-01</td>\n",
       "    </tr>\n",
       "  </tbody>\n",
       "</table>\n",
       "</div>"
      ],
      "text/plain": [
       "     AccId              CreateDate           LastAccessDate  ViewsNum  \\\n",
       "0  9883458 2017-01-01 00:00:56.717  2020-11-28T01:11:55.853         2   \n",
       "1  9947518 2017-01-01 00:01:12.400  2020-10-11T15:09:34.260         0   \n",
       "2  9947524 2017-01-01 00:04:35.913  2018-06-08T20:13:35.803         1   \n",
       "3  9947525 2017-01-01 00:06:08.170  2019-07-12T16:35:43.657         0   \n",
       "4  9947527 2017-01-01 00:09:40.727  2017-01-06T01:26:02.110         0   \n",
       "\n",
       "   UpVotes  DownVotes  CreateYear  CreateMonth CreateYearMonth    day_date  \n",
       "0        0          0        2017            1      2017-01-01  2017-01-01  \n",
       "1        0          0        2017            1      2017-01-01  2017-01-01  \n",
       "2        0          0        2017            1      2017-01-01  2017-01-01  \n",
       "3        0          0        2017            1      2017-01-01  2017-01-01  \n",
       "4        0          0        2017            1      2017-01-01  2017-01-01  "
      ]
     },
     "execution_count": 56,
     "metadata": {},
     "output_type": "execute_result"
    }
   ],
   "source": [
    "data.head()"
   ]
  },
  {
   "cell_type": "code",
   "execution_count": 57,
   "metadata": {},
   "outputs": [
    {
     "data": {
      "text/html": [
       "<div>\n",
       "<style scoped>\n",
       "    .dataframe tbody tr th:only-of-type {\n",
       "        vertical-align: middle;\n",
       "    }\n",
       "\n",
       "    .dataframe tbody tr th {\n",
       "        vertical-align: top;\n",
       "    }\n",
       "\n",
       "    .dataframe thead th {\n",
       "        text-align: right;\n",
       "    }\n",
       "</style>\n",
       "<table border=\"1\" class=\"dataframe\">\n",
       "  <thead>\n",
       "    <tr style=\"text-align: right;\">\n",
       "      <th></th>\n",
       "      <th>AccId</th>\n",
       "      <th>day_date</th>\n",
       "    </tr>\n",
       "  </thead>\n",
       "  <tbody>\n",
       "    <tr>\n",
       "      <th>0</th>\n",
       "      <td>9883458</td>\n",
       "      <td>2017-01-01</td>\n",
       "    </tr>\n",
       "    <tr>\n",
       "      <th>1</th>\n",
       "      <td>9947518</td>\n",
       "      <td>2017-01-01</td>\n",
       "    </tr>\n",
       "    <tr>\n",
       "      <th>2</th>\n",
       "      <td>9947524</td>\n",
       "      <td>2017-01-01</td>\n",
       "    </tr>\n",
       "    <tr>\n",
       "      <th>3</th>\n",
       "      <td>9947525</td>\n",
       "      <td>2017-01-01</td>\n",
       "    </tr>\n",
       "    <tr>\n",
       "      <th>4</th>\n",
       "      <td>9947527</td>\n",
       "      <td>2017-01-01</td>\n",
       "    </tr>\n",
       "  </tbody>\n",
       "</table>\n",
       "</div>"
      ],
      "text/plain": [
       "     AccId    day_date\n",
       "0  9883458  2017-01-01\n",
       "1  9947518  2017-01-01\n",
       "2  9947524  2017-01-01\n",
       "3  9947525  2017-01-01\n",
       "4  9947527  2017-01-01"
      ]
     },
     "execution_count": 57,
     "metadata": {},
     "output_type": "execute_result"
    }
   ],
   "source": [
    "creation_daily=pd.DataFrame(data[[\"AccId\", \"day_date\"]])\n",
    "creation_daily.head()"
   ]
  },
  {
   "cell_type": "code",
   "execution_count": 58,
   "metadata": {},
   "outputs": [
    {
     "data": {
      "text/html": [
       "<div>\n",
       "<style scoped>\n",
       "    .dataframe tbody tr th:only-of-type {\n",
       "        vertical-align: middle;\n",
       "    }\n",
       "\n",
       "    .dataframe tbody tr th {\n",
       "        vertical-align: top;\n",
       "    }\n",
       "\n",
       "    .dataframe thead th {\n",
       "        text-align: right;\n",
       "    }\n",
       "</style>\n",
       "<table border=\"1\" class=\"dataframe\">\n",
       "  <thead>\n",
       "    <tr style=\"text-align: right;\">\n",
       "      <th></th>\n",
       "      <th>day_date</th>\n",
       "      <th>counts</th>\n",
       "    </tr>\n",
       "  </thead>\n",
       "  <tbody>\n",
       "    <tr>\n",
       "      <th>0</th>\n",
       "      <td>2017-01-01</td>\n",
       "      <td>1970</td>\n",
       "    </tr>\n",
       "    <tr>\n",
       "      <th>1</th>\n",
       "      <td>2017-01-02</td>\n",
       "      <td>3318</td>\n",
       "    </tr>\n",
       "    <tr>\n",
       "      <th>2</th>\n",
       "      <td>2017-01-03</td>\n",
       "      <td>4364</td>\n",
       "    </tr>\n",
       "    <tr>\n",
       "      <th>3</th>\n",
       "      <td>2017-01-04</td>\n",
       "      <td>4821</td>\n",
       "    </tr>\n",
       "    <tr>\n",
       "      <th>4</th>\n",
       "      <td>2017-01-05</td>\n",
       "      <td>4891</td>\n",
       "    </tr>\n",
       "  </tbody>\n",
       "</table>\n",
       "</div>"
      ],
      "text/plain": [
       "     day_date  counts\n",
       "0  2017-01-01    1970\n",
       "1  2017-01-02    3318\n",
       "2  2017-01-03    4364\n",
       "3  2017-01-04    4821\n",
       "4  2017-01-05    4891"
      ]
     },
     "execution_count": 58,
     "metadata": {},
     "output_type": "execute_result"
    }
   ],
   "source": [
    "creation_daily_grp=creation_daily.groupby(by=['day_date']).size().reset_index(name='counts')\n",
    "creation_daily_grp.head()"
   ]
  },
  {
   "cell_type": "code",
   "execution_count": 176,
   "metadata": {},
   "outputs": [],
   "source": [
    "months_xticks=['Jan 2017','','','Apr','','','Jul','','','Oct','','','Jan 2018','','','Apr','','','Jul','','','Oct','','','Jan 2019','','','Apr','','','Jul','','','Oct','','','Jan 2020','','','Apr','','','Jul','','','Oct','']"
   ]
  },
  {
   "cell_type": "code",
   "execution_count": 186,
   "metadata": {},
   "outputs": [
    {
     "data": {
      "image/png": "[encoded data removed]",
      "text/plain": [
       "<Figure size 1080x576 with 1 Axes>"
      ]
     },
     "metadata": {
      "needs_background": "light"
     },
     "output_type": "display_data"
    }
   ],
   "source": [
    "fig, ax = plt.subplots(figsize=(15,8))\n",
    "plt.plot(creation_daily_grp['day_date'],creation_daily_grp['counts'],'-o',color='black',markerfacecolor='b')\n",
    "plt.xticks(fontsize=15)\n",
    "plt.yticks(fontsize=15)\n",
    "plt.ylabel('#User Account Creations',fontsize=22)\n",
    "plt.xlabel('Date',fontsize=22)\n",
    "plt.grid()\n"
   ]
  },
  {
   "cell_type": "code",
   "execution_count": 63,
   "metadata": {},
   "outputs": [
    {
     "name": "stdout",
     "output_type": "stream",
     "text": [
      "KPSS Statistic: 2.0326310332667092\n",
      "p-value: 0.01\n",
      "num lags: 24\n",
      "Critical Values:\n",
      "   10% : 0.347\n",
      "   5% : 0.463\n",
      "   2.5% : 0.574\n",
      "   1% : 0.739\n",
      "Result: The series is not stationary\n"
     ]
    },
    {
     "name": "stderr",
     "output_type": "stream",
     "text": [
      "C:\\Users\\Farima\\anaconda3\\envs\\StackOverFlowAnalysis\\lib\\site-packages\\statsmodels\\tsa\\stattools.py:1850: FutureWarning: The behavior of using nlags=None will change in release 0.13.Currently nlags=None is the same as nlags=\"legacy\", and so a sample-size lag length is used. After the next release, the default will change to be the same as nlags=\"auto\" which uses an automatic lag length selection method. To silence this warning, either use \"auto\" or \"legacy\"\n",
      "  warnings.warn(msg, FutureWarning)\n",
      "C:\\Users\\Farima\\anaconda3\\envs\\StackOverFlowAnalysis\\lib\\site-packages\\statsmodels\\tsa\\stattools.py:1881: InterpolationWarning: The test statistic is outside of the range of p-values available in the\n",
      "look-up table. The actual p-value is smaller than the p-value returned.\n",
      "\n",
      "  warnings.warn(\n"
     ]
    }
   ],
   "source": [
    "kpss_test(creation_daily_grp['counts'])"
   ]
  },
  {
   "cell_type": "code",
   "execution_count": 64,
   "metadata": {},
   "outputs": [
    {
     "name": "stdout",
     "output_type": "stream",
     "text": [
      "Results of Dickey-Fuller Test:\n",
      "ADF Statistic: -3.498969\n",
      "p-value: 0.008014\n",
      "Critical Values:\n",
      "\t1%: -3.435\n",
      "\t5%: -2.864\n",
      "\t10%: -2.568\n",
      "Result: The series is stationary\n"
     ]
    }
   ],
   "source": [
    "adf_test(creation_daily_grp['counts'])"
   ]
  },
  {
   "cell_type": "code",
   "execution_count": 65,
   "metadata": {},
   "outputs": [
    {
     "data": {
      "text/html": [
       "<div>\n",
       "<style scoped>\n",
       "    .dataframe tbody tr th:only-of-type {\n",
       "        vertical-align: middle;\n",
       "    }\n",
       "\n",
       "    .dataframe tbody tr th {\n",
       "        vertical-align: top;\n",
       "    }\n",
       "\n",
       "    .dataframe thead th {\n",
       "        text-align: right;\n",
       "    }\n",
       "</style>\n",
       "<table border=\"1\" class=\"dataframe\">\n",
       "  <thead>\n",
       "    <tr style=\"text-align: right;\">\n",
       "      <th></th>\n",
       "      <th>day_date</th>\n",
       "      <th>counts</th>\n",
       "      <th>count_delta</th>\n",
       "    </tr>\n",
       "  </thead>\n",
       "  <tbody>\n",
       "    <tr>\n",
       "      <th>0</th>\n",
       "      <td>2017-01-01</td>\n",
       "      <td>1970</td>\n",
       "      <td>NaN</td>\n",
       "    </tr>\n",
       "    <tr>\n",
       "      <th>1</th>\n",
       "      <td>2017-01-02</td>\n",
       "      <td>3318</td>\n",
       "      <td>1348.0</td>\n",
       "    </tr>\n",
       "    <tr>\n",
       "      <th>2</th>\n",
       "      <td>2017-01-03</td>\n",
       "      <td>4364</td>\n",
       "      <td>1046.0</td>\n",
       "    </tr>\n",
       "    <tr>\n",
       "      <th>3</th>\n",
       "      <td>2017-01-04</td>\n",
       "      <td>4821</td>\n",
       "      <td>457.0</td>\n",
       "    </tr>\n",
       "    <tr>\n",
       "      <th>4</th>\n",
       "      <td>2017-01-05</td>\n",
       "      <td>4891</td>\n",
       "      <td>70.0</td>\n",
       "    </tr>\n",
       "  </tbody>\n",
       "</table>\n",
       "</div>"
      ],
      "text/plain": [
       "     day_date  counts  count_delta\n",
       "0  2017-01-01    1970          NaN\n",
       "1  2017-01-02    3318       1348.0\n",
       "2  2017-01-03    4364       1046.0\n",
       "3  2017-01-04    4821        457.0\n",
       "4  2017-01-05    4891         70.0"
      ]
     },
     "execution_count": 65,
     "metadata": {},
     "output_type": "execute_result"
    }
   ],
   "source": [
    "creation_daily_grp['count_delta'] = creation_daily_grp['counts'].diff()\n",
    "creation_daily_grp.head()"
   ]
  },
  {
   "cell_type": "code",
   "execution_count": 112,
   "metadata": {},
   "outputs": [
    {
     "data": {
      "text/plain": [
       "1429"
      ]
     },
     "execution_count": 112,
     "metadata": {},
     "output_type": "execute_result"
    }
   ],
   "source": [
    "creation_daily_grp_delta_notna = creation_daily_grp[creation_daily_grp['count_delta'].notna()]\n",
    "len(creation_daily_grp_delta_notna)"
   ]
  },
  {
   "cell_type": "code",
   "execution_count": 72,
   "metadata": {},
   "outputs": [
    {
     "data": {
      "text/plain": [
       "1430"
      ]
     },
     "execution_count": 72,
     "metadata": {},
     "output_type": "execute_result"
    }
   ],
   "source": [
    "len(creation_daily_grp)"
   ]
  },
  {
   "cell_type": "code",
   "execution_count": 76,
   "metadata": {},
   "outputs": [
    {
     "data": {
      "text/html": [
       "<div>\n",
       "<style scoped>\n",
       "    .dataframe tbody tr th:only-of-type {\n",
       "        vertical-align: middle;\n",
       "    }\n",
       "\n",
       "    .dataframe tbody tr th {\n",
       "        vertical-align: top;\n",
       "    }\n",
       "\n",
       "    .dataframe thead th {\n",
       "        text-align: right;\n",
       "    }\n",
       "</style>\n",
       "<table border=\"1\" class=\"dataframe\">\n",
       "  <thead>\n",
       "    <tr style=\"text-align: right;\">\n",
       "      <th></th>\n",
       "      <th>day_date</th>\n",
       "      <th>counts</th>\n",
       "      <th>count_delta</th>\n",
       "    </tr>\n",
       "  </thead>\n",
       "  <tbody>\n",
       "    <tr>\n",
       "      <th>1</th>\n",
       "      <td>2017-01-02</td>\n",
       "      <td>3318</td>\n",
       "      <td>1348.0</td>\n",
       "    </tr>\n",
       "    <tr>\n",
       "      <th>2</th>\n",
       "      <td>2017-01-03</td>\n",
       "      <td>4364</td>\n",
       "      <td>1046.0</td>\n",
       "    </tr>\n",
       "    <tr>\n",
       "      <th>3</th>\n",
       "      <td>2017-01-04</td>\n",
       "      <td>4821</td>\n",
       "      <td>457.0</td>\n",
       "    </tr>\n",
       "    <tr>\n",
       "      <th>4</th>\n",
       "      <td>2017-01-05</td>\n",
       "      <td>4891</td>\n",
       "      <td>70.0</td>\n",
       "    </tr>\n",
       "    <tr>\n",
       "      <th>5</th>\n",
       "      <td>2017-01-06</td>\n",
       "      <td>4281</td>\n",
       "      <td>-610.0</td>\n",
       "    </tr>\n",
       "  </tbody>\n",
       "</table>\n",
       "</div>"
      ],
      "text/plain": [
       "     day_date  counts  count_delta\n",
       "1  2017-01-02    3318       1348.0\n",
       "2  2017-01-03    4364       1046.0\n",
       "3  2017-01-04    4821        457.0\n",
       "4  2017-01-05    4891         70.0\n",
       "5  2017-01-06    4281       -610.0"
      ]
     },
     "execution_count": 76,
     "metadata": {},
     "output_type": "execute_result"
    }
   ],
   "source": [
    "creation_daily_grp_delta_notna.head()"
   ]
  },
  {
   "cell_type": "code",
   "execution_count": 187,
   "metadata": {},
   "outputs": [
    {
     "data": {
      "image/png": "[encoded data removed]",
      "text/plain": [
       "<Figure size 1080x576 with 1 Axes>"
      ]
     },
     "metadata": {
      "needs_background": "light"
     },
     "output_type": "display_data"
    }
   ],
   "source": [
    "fig, ax = plt.subplots(figsize=(15,8))\n",
    "plt.scatter(creation_daily_grp_delta_notna['day_date'],creation_daily_grp_delta_notna['count_delta'],color=\"black\")\n",
    "plt.xticks(fontsize=15)\n",
    "plt.yticks(fontsize=15)\n",
    "plt.ylabel('Deltas on #User Account Creations',fontsize=22)\n",
    "plt.xlabel('Date',fontsize=22)\n",
    "plt.grid()\n",
    "plt.savefig('figs/SO_UsersCreationDailyDelta.pdf',bbox_inches='tight')\n"
   ]
  },
  {
   "cell_type": "code",
   "execution_count": 188,
   "metadata": {},
   "outputs": [
    {
     "data": {
      "text/html": [
       "<div>\n",
       "<style scoped>\n",
       "    .dataframe tbody tr th:only-of-type {\n",
       "        vertical-align: middle;\n",
       "    }\n",
       "\n",
       "    .dataframe tbody tr th {\n",
       "        vertical-align: top;\n",
       "    }\n",
       "\n",
       "    .dataframe thead th {\n",
       "        text-align: right;\n",
       "    }\n",
       "</style>\n",
       "<table border=\"1\" class=\"dataframe\">\n",
       "  <thead>\n",
       "    <tr style=\"text-align: right;\">\n",
       "      <th></th>\n",
       "      <th>day_date</th>\n",
       "      <th>counts</th>\n",
       "      <th>count_delta</th>\n",
       "    </tr>\n",
       "  </thead>\n",
       "  <tbody>\n",
       "    <tr>\n",
       "      <th>1185</th>\n",
       "      <td>2020-03-31</td>\n",
       "      <td>16669</td>\n",
       "      <td>7040.0</td>\n",
       "    </tr>\n",
       "  </tbody>\n",
       "</table>\n",
       "</div>"
      ],
      "text/plain": [
       "        day_date  counts  count_delta\n",
       "1185  2020-03-31   16669       7040.0"
      ]
     },
     "execution_count": 188,
     "metadata": {},
     "output_type": "execute_result"
    }
   ],
   "source": [
    "creation_daily_grp_delta_notna[creation_daily_grp_delta_notna['count_delta']>6000]"
   ]
  },
  {
   "cell_type": "code",
   "execution_count": 74,
   "metadata": {},
   "outputs": [
    {
     "name": "stdout",
     "output_type": "stream",
     "text": [
      "Statistics=0.938, p=0.000\n",
      "Sample does not look Gaussian (reject H0)\n"
     ]
    }
   ],
   "source": [
    "is_normal_shapiro(creation_daily_grp_delta_notna['count_delta'])"
   ]
  },
  {
   "cell_type": "code",
   "execution_count": 78,
   "metadata": {},
   "outputs": [
    {
     "name": "stdout",
     "output_type": "stream",
     "text": [
      "<class 'pandas.core.frame.DataFrame'>\n",
      "Int64Index: 1429 entries, 1 to 1429\n",
      "Data columns (total 3 columns):\n",
      " #   Column       Non-Null Count  Dtype         \n",
      "---  ------       --------------  -----         \n",
      " 0   day_date     1429 non-null   datetime64[ns]\n",
      " 1   counts       1429 non-null   int64         \n",
      " 2   count_delta  1429 non-null   float64       \n",
      "dtypes: datetime64[ns](1), float64(1), int64(1)\n",
      "memory usage: 44.7 KB\n"
     ]
    },
    {
     "name": "stderr",
     "output_type": "stream",
     "text": [
      "<ipython-input-78-e6560584eb25>:1: SettingWithCopyWarning: \n",
      "A value is trying to be set on a copy of a slice from a DataFrame.\n",
      "Try using .loc[row_indexer,col_indexer] = value instead\n",
      "\n",
      "See the caveats in the documentation: https://pandas.pydata.org/pandas-docs/stable/user_guide/indexing.html#returning-a-view-versus-a-copy\n",
      "  creation_daily_grp_delta_notna['day_date']=pd.to_datetime(creation_daily_grp_delta_notna[\"day_date\"])\n"
     ]
    }
   ],
   "source": [
    "creation_daily_grp_delta_notna['day_date']=pd.to_datetime(creation_daily_grp_delta_notna[\"day_date\"])\n",
    "creation_daily_grp_delta_notna.info()"
   ]
  },
  {
   "cell_type": "code",
   "execution_count": 80,
   "metadata": {},
   "outputs": [
    {
     "data": {
      "text/plain": [
       "1094"
      ]
     },
     "execution_count": 80,
     "metadata": {},
     "output_type": "execute_result"
    }
   ],
   "source": [
    "creation_daily_grp_delta_notna_17_19=creation_daily_grp_delta_notna[creation_daily_grp_delta_notna['day_date']<'2020-01-01']\n",
    "len(creation_daily_grp_delta_notna_17_19)"
   ]
  },
  {
   "cell_type": "code",
   "execution_count": 81,
   "metadata": {},
   "outputs": [
    {
     "data": {
      "text/html": [
       "<div>\n",
       "<style scoped>\n",
       "    .dataframe tbody tr th:only-of-type {\n",
       "        vertical-align: middle;\n",
       "    }\n",
       "\n",
       "    .dataframe tbody tr th {\n",
       "        vertical-align: top;\n",
       "    }\n",
       "\n",
       "    .dataframe thead th {\n",
       "        text-align: right;\n",
       "    }\n",
       "</style>\n",
       "<table border=\"1\" class=\"dataframe\">\n",
       "  <thead>\n",
       "    <tr style=\"text-align: right;\">\n",
       "      <th></th>\n",
       "      <th>day_date</th>\n",
       "      <th>counts</th>\n",
       "      <th>count_delta</th>\n",
       "    </tr>\n",
       "  </thead>\n",
       "  <tbody>\n",
       "    <tr>\n",
       "      <th>1</th>\n",
       "      <td>2017-01-02</td>\n",
       "      <td>3318</td>\n",
       "      <td>1348.0</td>\n",
       "    </tr>\n",
       "    <tr>\n",
       "      <th>2</th>\n",
       "      <td>2017-01-03</td>\n",
       "      <td>4364</td>\n",
       "      <td>1046.0</td>\n",
       "    </tr>\n",
       "    <tr>\n",
       "      <th>3</th>\n",
       "      <td>2017-01-04</td>\n",
       "      <td>4821</td>\n",
       "      <td>457.0</td>\n",
       "    </tr>\n",
       "    <tr>\n",
       "      <th>4</th>\n",
       "      <td>2017-01-05</td>\n",
       "      <td>4891</td>\n",
       "      <td>70.0</td>\n",
       "    </tr>\n",
       "    <tr>\n",
       "      <th>5</th>\n",
       "      <td>2017-01-06</td>\n",
       "      <td>4281</td>\n",
       "      <td>-610.0</td>\n",
       "    </tr>\n",
       "  </tbody>\n",
       "</table>\n",
       "</div>"
      ],
      "text/plain": [
       "    day_date  counts  count_delta\n",
       "1 2017-01-02    3318       1348.0\n",
       "2 2017-01-03    4364       1046.0\n",
       "3 2017-01-04    4821        457.0\n",
       "4 2017-01-05    4891         70.0\n",
       "5 2017-01-06    4281       -610.0"
      ]
     },
     "execution_count": 81,
     "metadata": {},
     "output_type": "execute_result"
    }
   ],
   "source": [
    "creation_daily_grp_delta_notna_17_19.head()"
   ]
  },
  {
   "cell_type": "code",
   "execution_count": 82,
   "metadata": {},
   "outputs": [
    {
     "data": {
      "text/plain": [
       "335"
      ]
     },
     "execution_count": 82,
     "metadata": {},
     "output_type": "execute_result"
    }
   ],
   "source": [
    "creation_daily_grp_delta_notna_20=creation_daily_grp_delta_notna[creation_daily_grp_delta_notna['day_date']>='2020-01-01']\n",
    "len(creation_daily_grp_delta_notna_20)"
   ]
  },
  {
   "cell_type": "code",
   "execution_count": 89,
   "metadata": {},
   "outputs": [
    {
     "data": {
      "text/html": [
       "<div>\n",
       "<style scoped>\n",
       "    .dataframe tbody tr th:only-of-type {\n",
       "        vertical-align: middle;\n",
       "    }\n",
       "\n",
       "    .dataframe tbody tr th {\n",
       "        vertical-align: top;\n",
       "    }\n",
       "\n",
       "    .dataframe thead th {\n",
       "        text-align: right;\n",
       "    }\n",
       "</style>\n",
       "<table border=\"1\" class=\"dataframe\">\n",
       "  <thead>\n",
       "    <tr style=\"text-align: right;\">\n",
       "      <th></th>\n",
       "      <th>day_date</th>\n",
       "      <th>counts</th>\n",
       "      <th>count_delta</th>\n",
       "    </tr>\n",
       "  </thead>\n",
       "  <tbody>\n",
       "    <tr>\n",
       "      <th>1184</th>\n",
       "      <td>2020-03-30</td>\n",
       "      <td>9629</td>\n",
       "      <td>4392.0</td>\n",
       "    </tr>\n",
       "    <tr>\n",
       "      <th>1185</th>\n",
       "      <td>2020-03-31</td>\n",
       "      <td>16669</td>\n",
       "      <td>7040.0</td>\n",
       "    </tr>\n",
       "  </tbody>\n",
       "</table>\n",
       "</div>"
      ],
      "text/plain": [
       "       day_date  counts  count_delta\n",
       "1184 2020-03-30    9629       4392.0\n",
       "1185 2020-03-31   16669       7040.0"
      ]
     },
     "execution_count": 89,
     "metadata": {},
     "output_type": "execute_result"
    }
   ],
   "source": [
    "creation_daily_grp_delta_notna_20[creation_daily_grp_delta_notna_20['count_delta']>=4000]"
   ]
  },
  {
   "cell_type": "code",
   "execution_count": 95,
   "metadata": {},
   "outputs": [
    {
     "data": {
      "text/html": [
       "<div>\n",
       "<style scoped>\n",
       "    .dataframe tbody tr th:only-of-type {\n",
       "        vertical-align: middle;\n",
       "    }\n",
       "\n",
       "    .dataframe tbody tr th {\n",
       "        vertical-align: top;\n",
       "    }\n",
       "\n",
       "    .dataframe thead th {\n",
       "        text-align: right;\n",
       "    }\n",
       "</style>\n",
       "<table border=\"1\" class=\"dataframe\">\n",
       "  <thead>\n",
       "    <tr style=\"text-align: right;\">\n",
       "      <th></th>\n",
       "      <th>day_date</th>\n",
       "      <th>counts</th>\n",
       "      <th>count_delta</th>\n",
       "    </tr>\n",
       "  </thead>\n",
       "  <tbody>\n",
       "    <tr>\n",
       "      <th>820</th>\n",
       "      <td>2019-04-01</td>\n",
       "      <td>8486</td>\n",
       "      <td>4550.0</td>\n",
       "    </tr>\n",
       "  </tbody>\n",
       "</table>\n",
       "</div>"
      ],
      "text/plain": [
       "      day_date  counts  count_delta\n",
       "820 2019-04-01    8486       4550.0"
      ]
     },
     "execution_count": 95,
     "metadata": {},
     "output_type": "execute_result"
    }
   ],
   "source": [
    "creation_daily_grp_delta_notna_17_19[creation_daily_grp_delta_notna_17_19['count_delta']>=4000]"
   ]
  },
  {
   "cell_type": "code",
   "execution_count": 93,
   "metadata": {},
   "outputs": [
    {
     "data": {
      "text/html": [
       "<div>\n",
       "<style scoped>\n",
       "    .dataframe tbody tr th:only-of-type {\n",
       "        vertical-align: middle;\n",
       "    }\n",
       "\n",
       "    .dataframe tbody tr th {\n",
       "        vertical-align: top;\n",
       "    }\n",
       "\n",
       "    .dataframe thead th {\n",
       "        text-align: right;\n",
       "    }\n",
       "</style>\n",
       "<table border=\"1\" class=\"dataframe\">\n",
       "  <thead>\n",
       "    <tr style=\"text-align: right;\">\n",
       "      <th></th>\n",
       "      <th>day_date</th>\n",
       "      <th>counts</th>\n",
       "      <th>count_delta</th>\n",
       "    </tr>\n",
       "  </thead>\n",
       "  <tbody>\n",
       "    <tr>\n",
       "      <th>1133</th>\n",
       "      <td>2020-02-08</td>\n",
       "      <td>3779</td>\n",
       "      <td>-2013.0</td>\n",
       "    </tr>\n",
       "    <tr>\n",
       "      <th>1186</th>\n",
       "      <td>2020-04-01</td>\n",
       "      <td>14661</td>\n",
       "      <td>-2008.0</td>\n",
       "    </tr>\n",
       "    <tr>\n",
       "      <th>1189</th>\n",
       "      <td>2020-04-04</td>\n",
       "      <td>7788</td>\n",
       "      <td>-3696.0</td>\n",
       "    </tr>\n",
       "  </tbody>\n",
       "</table>\n",
       "</div>"
      ],
      "text/plain": [
       "       day_date  counts  count_delta\n",
       "1133 2020-02-08    3779      -2013.0\n",
       "1186 2020-04-01   14661      -2008.0\n",
       "1189 2020-04-04    7788      -3696.0"
      ]
     },
     "execution_count": 93,
     "metadata": {},
     "output_type": "execute_result"
    }
   ],
   "source": [
    "creation_daily_grp_delta_notna_20[creation_daily_grp_delta_notna_20['count_delta']<-2000]"
   ]
  },
  {
   "cell_type": "code",
   "execution_count": 103,
   "metadata": {},
   "outputs": [],
   "source": [
    "def do_meanwhit(df1,df2):\n",
    "    stat, p = stats.mannwhitneyu(df1['count_delta'], df2['count_delta'])\n",
    "    print('Statistics=%.3f, p=%.3f' % (stat, p))\n",
    "    # interpret\n",
    "    alpha = 0.05\n",
    "    if p > alpha:\n",
    "        print('Same distribution (fail to reject H0)')\n",
    "    else:\n",
    "        print('Different distribution (reject H0)')"
   ]
  },
  {
   "cell_type": "code",
   "execution_count": 104,
   "metadata": {},
   "outputs": [
    {
     "name": "stdout",
     "output_type": "stream",
     "text": [
      "Statistics=179148.500, p=0.268\n",
      "Same distribution (fail to reject H0)\n"
     ]
    }
   ],
   "source": [
    "do_meanwhit(creation_daily_grp_delta_notna_17_19,creation_daily_grp_delta_notna_20)"
   ]
  },
  {
   "cell_type": "code",
   "execution_count": 191,
   "metadata": {},
   "outputs": [
    {
     "data": {
      "text/plain": [
       "2.807129798903108"
      ]
     },
     "execution_count": 191,
     "metadata": {},
     "output_type": "execute_result"
    }
   ],
   "source": [
    "creation_daily_grp_delta_notna_17_19['count_delta'].mean()"
   ]
  },
  {
   "cell_type": "code",
   "execution_count": 192,
   "metadata": {},
   "outputs": [
    {
     "data": {
      "text/plain": [
       "4.486567164179104"
      ]
     },
     "execution_count": 192,
     "metadata": {},
     "output_type": "execute_result"
    }
   ],
   "source": [
    "creation_daily_grp_delta_notna_20['count_delta'].mean()"
   ]
  },
  {
   "cell_type": "code",
   "execution_count": 100,
   "metadata": {},
   "outputs": [
    {
     "data": {
      "text/plain": [
       "364"
      ]
     },
     "execution_count": 100,
     "metadata": {},
     "output_type": "execute_result"
    }
   ],
   "source": [
    "creation_daily_grp_delta_notna_17=creation_daily_grp_delta_notna[(creation_daily_grp_delta_notna['day_date']>='2017-01-01')\n",
    "                                                                & (creation_daily_grp_delta_notna['day_date']<'2018-01-01')]\n",
    "len(creation_daily_grp_delta_notna_17) ##does not have fisrt day, we filtered it"
   ]
  },
  {
   "cell_type": "code",
   "execution_count": 101,
   "metadata": {},
   "outputs": [
    {
     "data": {
      "text/plain": [
       "365"
      ]
     },
     "execution_count": 101,
     "metadata": {},
     "output_type": "execute_result"
    }
   ],
   "source": [
    "creation_daily_grp_delta_notna_18=creation_daily_grp_delta_notna[(creation_daily_grp_delta_notna['day_date']>='2018-01-01')\n",
    "                                                                & (creation_daily_grp_delta_notna['day_date']<'2019-01-01')]\n",
    "len(creation_daily_grp_delta_notna_18)"
   ]
  },
  {
   "cell_type": "code",
   "execution_count": 102,
   "metadata": {},
   "outputs": [
    {
     "data": {
      "text/plain": [
       "365"
      ]
     },
     "execution_count": 102,
     "metadata": {},
     "output_type": "execute_result"
    }
   ],
   "source": [
    "creation_daily_grp_delta_notna_19=creation_daily_grp_delta_notna[(creation_daily_grp_delta_notna['day_date']>='2019-01-01')\n",
    "                                                                & (creation_daily_grp_delta_notna['day_date']<'2020-01-01')]\n",
    "len(creation_daily_grp_delta_notna_19)"
   ]
  },
  {
   "cell_type": "code",
   "execution_count": 105,
   "metadata": {},
   "outputs": [
    {
     "name": "stdout",
     "output_type": "stream",
     "text": [
      "Statistics=59039.000, p=0.235\n",
      "Same distribution (fail to reject H0)\n"
     ]
    }
   ],
   "source": [
    "do_meanwhit(creation_daily_grp_delta_notna_17,creation_daily_grp_delta_notna_20)"
   ]
  },
  {
   "cell_type": "code",
   "execution_count": 106,
   "metadata": {},
   "outputs": [
    {
     "name": "stdout",
     "output_type": "stream",
     "text": [
      "Statistics=59660.000, p=0.290\n",
      "Same distribution (fail to reject H0)\n"
     ]
    }
   ],
   "source": [
    "do_meanwhit(creation_daily_grp_delta_notna_18,creation_daily_grp_delta_notna_20)"
   ]
  },
  {
   "cell_type": "code",
   "execution_count": 107,
   "metadata": {},
   "outputs": [
    {
     "name": "stdout",
     "output_type": "stream",
     "text": [
      "Statistics=60449.500, p=0.398\n",
      "Same distribution (fail to reject H0)\n"
     ]
    }
   ],
   "source": [
    "do_meanwhit(creation_daily_grp_delta_notna_19,creation_daily_grp_delta_notna_20)"
   ]
  },
  {
   "cell_type": "code",
   "execution_count": null,
   "metadata": {},
   "outputs": [],
   "source": []
  },
  {
   "cell_type": "code",
   "execution_count": null,
   "metadata": {},
   "outputs": [],
   "source": []
  },
  {
   "cell_type": "code",
   "execution_count": null,
   "metadata": {},
   "outputs": [],
   "source": []
  },
  {
   "cell_type": "code",
   "execution_count": 9,
   "metadata": {},
   "outputs": [],
   "source": [
    "data[\"CreateYear\"]=data['CreateDate'].map(lambda x: x.year)"
   ]
  },
  {
   "cell_type": "code",
   "execution_count": 10,
   "metadata": {},
   "outputs": [
    {
     "data": {
      "text/html": [
       "<div>\n",
       "<style scoped>\n",
       "    .dataframe tbody tr th:only-of-type {\n",
       "        vertical-align: middle;\n",
       "    }\n",
       "\n",
       "    .dataframe tbody tr th {\n",
       "        vertical-align: top;\n",
       "    }\n",
       "\n",
       "    .dataframe thead th {\n",
       "        text-align: right;\n",
       "    }\n",
       "</style>\n",
       "<table border=\"1\" class=\"dataframe\">\n",
       "  <thead>\n",
       "    <tr style=\"text-align: right;\">\n",
       "      <th></th>\n",
       "      <th>AccId</th>\n",
       "      <th>CreateDate</th>\n",
       "      <th>LastAccessDate</th>\n",
       "      <th>ViewsNum</th>\n",
       "      <th>UpVotes</th>\n",
       "      <th>DownVotes</th>\n",
       "      <th>CreateYear</th>\n",
       "    </tr>\n",
       "  </thead>\n",
       "  <tbody>\n",
       "    <tr>\n",
       "      <th>0</th>\n",
       "      <td>9883458</td>\n",
       "      <td>2017-01-01 00:00:56.717</td>\n",
       "      <td>2020-11-28T01:11:55.853</td>\n",
       "      <td>2</td>\n",
       "      <td>0</td>\n",
       "      <td>0</td>\n",
       "      <td>2017</td>\n",
       "    </tr>\n",
       "    <tr>\n",
       "      <th>1</th>\n",
       "      <td>9947518</td>\n",
       "      <td>2017-01-01 00:01:12.400</td>\n",
       "      <td>2020-10-11T15:09:34.260</td>\n",
       "      <td>0</td>\n",
       "      <td>0</td>\n",
       "      <td>0</td>\n",
       "      <td>2017</td>\n",
       "    </tr>\n",
       "    <tr>\n",
       "      <th>2</th>\n",
       "      <td>9947524</td>\n",
       "      <td>2017-01-01 00:04:35.913</td>\n",
       "      <td>2018-06-08T20:13:35.803</td>\n",
       "      <td>1</td>\n",
       "      <td>0</td>\n",
       "      <td>0</td>\n",
       "      <td>2017</td>\n",
       "    </tr>\n",
       "    <tr>\n",
       "      <th>3</th>\n",
       "      <td>9947525</td>\n",
       "      <td>2017-01-01 00:06:08.170</td>\n",
       "      <td>2019-07-12T16:35:43.657</td>\n",
       "      <td>0</td>\n",
       "      <td>0</td>\n",
       "      <td>0</td>\n",
       "      <td>2017</td>\n",
       "    </tr>\n",
       "    <tr>\n",
       "      <th>4</th>\n",
       "      <td>9947527</td>\n",
       "      <td>2017-01-01 00:09:40.727</td>\n",
       "      <td>2017-01-06T01:26:02.110</td>\n",
       "      <td>0</td>\n",
       "      <td>0</td>\n",
       "      <td>0</td>\n",
       "      <td>2017</td>\n",
       "    </tr>\n",
       "  </tbody>\n",
       "</table>\n",
       "</div>"
      ],
      "text/plain": [
       "     AccId              CreateDate           LastAccessDate  ViewsNum  \\\n",
       "0  9883458 2017-01-01 00:00:56.717  2020-11-28T01:11:55.853         2   \n",
       "1  9947518 2017-01-01 00:01:12.400  2020-10-11T15:09:34.260         0   \n",
       "2  9947524 2017-01-01 00:04:35.913  2018-06-08T20:13:35.803         1   \n",
       "3  9947525 2017-01-01 00:06:08.170  2019-07-12T16:35:43.657         0   \n",
       "4  9947527 2017-01-01 00:09:40.727  2017-01-06T01:26:02.110         0   \n",
       "\n",
       "   UpVotes  DownVotes  CreateYear  \n",
       "0        0          0        2017  \n",
       "1        0          0        2017  \n",
       "2        0          0        2017  \n",
       "3        0          0        2017  \n",
       "4        0          0        2017  "
      ]
     },
     "execution_count": 10,
     "metadata": {},
     "output_type": "execute_result"
    }
   ],
   "source": [
    "data.head()"
   ]
  },
  {
   "cell_type": "code",
   "execution_count": 11,
   "metadata": {},
   "outputs": [],
   "source": [
    "data[\"CreateMonth\"]=data['CreateDate'].map(lambda x: x.month)\n"
   ]
  },
  {
   "cell_type": "code",
   "execution_count": 12,
   "metadata": {},
   "outputs": [
    {
     "data": {
      "text/html": [
       "<div>\n",
       "<style scoped>\n",
       "    .dataframe tbody tr th:only-of-type {\n",
       "        vertical-align: middle;\n",
       "    }\n",
       "\n",
       "    .dataframe tbody tr th {\n",
       "        vertical-align: top;\n",
       "    }\n",
       "\n",
       "    .dataframe thead th {\n",
       "        text-align: right;\n",
       "    }\n",
       "</style>\n",
       "<table border=\"1\" class=\"dataframe\">\n",
       "  <thead>\n",
       "    <tr style=\"text-align: right;\">\n",
       "      <th></th>\n",
       "      <th>AccId</th>\n",
       "      <th>CreateDate</th>\n",
       "      <th>LastAccessDate</th>\n",
       "      <th>ViewsNum</th>\n",
       "      <th>UpVotes</th>\n",
       "      <th>DownVotes</th>\n",
       "      <th>CreateYear</th>\n",
       "      <th>CreateMonth</th>\n",
       "      <th>CreateYearMonth</th>\n",
       "    </tr>\n",
       "  </thead>\n",
       "  <tbody>\n",
       "    <tr>\n",
       "      <th>0</th>\n",
       "      <td>9883458</td>\n",
       "      <td>2017-01-01 00:00:56.717</td>\n",
       "      <td>2020-11-28T01:11:55.853</td>\n",
       "      <td>2</td>\n",
       "      <td>0</td>\n",
       "      <td>0</td>\n",
       "      <td>2017</td>\n",
       "      <td>1</td>\n",
       "      <td>2017-1</td>\n",
       "    </tr>\n",
       "    <tr>\n",
       "      <th>1</th>\n",
       "      <td>9947518</td>\n",
       "      <td>2017-01-01 00:01:12.400</td>\n",
       "      <td>2020-10-11T15:09:34.260</td>\n",
       "      <td>0</td>\n",
       "      <td>0</td>\n",
       "      <td>0</td>\n",
       "      <td>2017</td>\n",
       "      <td>1</td>\n",
       "      <td>2017-1</td>\n",
       "    </tr>\n",
       "    <tr>\n",
       "      <th>2</th>\n",
       "      <td>9947524</td>\n",
       "      <td>2017-01-01 00:04:35.913</td>\n",
       "      <td>2018-06-08T20:13:35.803</td>\n",
       "      <td>1</td>\n",
       "      <td>0</td>\n",
       "      <td>0</td>\n",
       "      <td>2017</td>\n",
       "      <td>1</td>\n",
       "      <td>2017-1</td>\n",
       "    </tr>\n",
       "    <tr>\n",
       "      <th>3</th>\n",
       "      <td>9947525</td>\n",
       "      <td>2017-01-01 00:06:08.170</td>\n",
       "      <td>2019-07-12T16:35:43.657</td>\n",
       "      <td>0</td>\n",
       "      <td>0</td>\n",
       "      <td>0</td>\n",
       "      <td>2017</td>\n",
       "      <td>1</td>\n",
       "      <td>2017-1</td>\n",
       "    </tr>\n",
       "    <tr>\n",
       "      <th>4</th>\n",
       "      <td>9947527</td>\n",
       "      <td>2017-01-01 00:09:40.727</td>\n",
       "      <td>2017-01-06T01:26:02.110</td>\n",
       "      <td>0</td>\n",
       "      <td>0</td>\n",
       "      <td>0</td>\n",
       "      <td>2017</td>\n",
       "      <td>1</td>\n",
       "      <td>2017-1</td>\n",
       "    </tr>\n",
       "  </tbody>\n",
       "</table>\n",
       "</div>"
      ],
      "text/plain": [
       "     AccId              CreateDate           LastAccessDate  ViewsNum  \\\n",
       "0  9883458 2017-01-01 00:00:56.717  2020-11-28T01:11:55.853         2   \n",
       "1  9947518 2017-01-01 00:01:12.400  2020-10-11T15:09:34.260         0   \n",
       "2  9947524 2017-01-01 00:04:35.913  2018-06-08T20:13:35.803         1   \n",
       "3  9947525 2017-01-01 00:06:08.170  2019-07-12T16:35:43.657         0   \n",
       "4  9947527 2017-01-01 00:09:40.727  2017-01-06T01:26:02.110         0   \n",
       "\n",
       "   UpVotes  DownVotes  CreateYear  CreateMonth CreateYearMonth  \n",
       "0        0          0        2017            1          2017-1  \n",
       "1        0          0        2017            1          2017-1  \n",
       "2        0          0        2017            1          2017-1  \n",
       "3        0          0        2017            1          2017-1  \n",
       "4        0          0        2017            1          2017-1  "
      ]
     },
     "execution_count": 12,
     "metadata": {},
     "output_type": "execute_result"
    }
   ],
   "source": [
    "data[\"CreateYearMonth\"]=data[\"CreateYear\"].astype(str) +\"-\"+ data[\"CreateMonth\"].astype(str)\n",
    "data.head()"
   ]
  },
  {
   "cell_type": "code",
   "execution_count": 13,
   "metadata": {},
   "outputs": [],
   "source": [
    "data['CreateYearMonth'] = pd.to_datetime(data['CreateYearMonth'])"
   ]
  },
  {
   "cell_type": "code",
   "execution_count": 14,
   "metadata": {},
   "outputs": [
    {
     "data": {
      "text/html": [
       "<div>\n",
       "<style scoped>\n",
       "    .dataframe tbody tr th:only-of-type {\n",
       "        vertical-align: middle;\n",
       "    }\n",
       "\n",
       "    .dataframe tbody tr th {\n",
       "        vertical-align: top;\n",
       "    }\n",
       "\n",
       "    .dataframe thead th {\n",
       "        text-align: right;\n",
       "    }\n",
       "</style>\n",
       "<table border=\"1\" class=\"dataframe\">\n",
       "  <thead>\n",
       "    <tr style=\"text-align: right;\">\n",
       "      <th></th>\n",
       "      <th>AccId</th>\n",
       "      <th>CreateDate</th>\n",
       "      <th>LastAccessDate</th>\n",
       "      <th>ViewsNum</th>\n",
       "      <th>UpVotes</th>\n",
       "      <th>DownVotes</th>\n",
       "      <th>CreateYear</th>\n",
       "      <th>CreateMonth</th>\n",
       "      <th>CreateYearMonth</th>\n",
       "    </tr>\n",
       "  </thead>\n",
       "  <tbody>\n",
       "    <tr>\n",
       "      <th>0</th>\n",
       "      <td>9883458</td>\n",
       "      <td>2017-01-01 00:00:56.717</td>\n",
       "      <td>2020-11-28T01:11:55.853</td>\n",
       "      <td>2</td>\n",
       "      <td>0</td>\n",
       "      <td>0</td>\n",
       "      <td>2017</td>\n",
       "      <td>1</td>\n",
       "      <td>2017-01-01</td>\n",
       "    </tr>\n",
       "    <tr>\n",
       "      <th>1</th>\n",
       "      <td>9947518</td>\n",
       "      <td>2017-01-01 00:01:12.400</td>\n",
       "      <td>2020-10-11T15:09:34.260</td>\n",
       "      <td>0</td>\n",
       "      <td>0</td>\n",
       "      <td>0</td>\n",
       "      <td>2017</td>\n",
       "      <td>1</td>\n",
       "      <td>2017-01-01</td>\n",
       "    </tr>\n",
       "    <tr>\n",
       "      <th>2</th>\n",
       "      <td>9947524</td>\n",
       "      <td>2017-01-01 00:04:35.913</td>\n",
       "      <td>2018-06-08T20:13:35.803</td>\n",
       "      <td>1</td>\n",
       "      <td>0</td>\n",
       "      <td>0</td>\n",
       "      <td>2017</td>\n",
       "      <td>1</td>\n",
       "      <td>2017-01-01</td>\n",
       "    </tr>\n",
       "    <tr>\n",
       "      <th>3</th>\n",
       "      <td>9947525</td>\n",
       "      <td>2017-01-01 00:06:08.170</td>\n",
       "      <td>2019-07-12T16:35:43.657</td>\n",
       "      <td>0</td>\n",
       "      <td>0</td>\n",
       "      <td>0</td>\n",
       "      <td>2017</td>\n",
       "      <td>1</td>\n",
       "      <td>2017-01-01</td>\n",
       "    </tr>\n",
       "    <tr>\n",
       "      <th>4</th>\n",
       "      <td>9947527</td>\n",
       "      <td>2017-01-01 00:09:40.727</td>\n",
       "      <td>2017-01-06T01:26:02.110</td>\n",
       "      <td>0</td>\n",
       "      <td>0</td>\n",
       "      <td>0</td>\n",
       "      <td>2017</td>\n",
       "      <td>1</td>\n",
       "      <td>2017-01-01</td>\n",
       "    </tr>\n",
       "  </tbody>\n",
       "</table>\n",
       "</div>"
      ],
      "text/plain": [
       "     AccId              CreateDate           LastAccessDate  ViewsNum  \\\n",
       "0  9883458 2017-01-01 00:00:56.717  2020-11-28T01:11:55.853         2   \n",
       "1  9947518 2017-01-01 00:01:12.400  2020-10-11T15:09:34.260         0   \n",
       "2  9947524 2017-01-01 00:04:35.913  2018-06-08T20:13:35.803         1   \n",
       "3  9947525 2017-01-01 00:06:08.170  2019-07-12T16:35:43.657         0   \n",
       "4  9947527 2017-01-01 00:09:40.727  2017-01-06T01:26:02.110         0   \n",
       "\n",
       "   UpVotes  DownVotes  CreateYear  CreateMonth CreateYearMonth  \n",
       "0        0          0        2017            1      2017-01-01  \n",
       "1        0          0        2017            1      2017-01-01  \n",
       "2        0          0        2017            1      2017-01-01  \n",
       "3        0          0        2017            1      2017-01-01  \n",
       "4        0          0        2017            1      2017-01-01  "
      ]
     },
     "execution_count": 14,
     "metadata": {},
     "output_type": "execute_result"
    }
   ],
   "source": [
    "data.head()"
   ]
  },
  {
   "cell_type": "code",
   "execution_count": 15,
   "metadata": {},
   "outputs": [],
   "source": [
    "creation_yearly_monthly = pd.DataFrame(data[[\"AccId\", \"CreateYearMonth\"]])"
   ]
  },
  {
   "cell_type": "code",
   "execution_count": null,
   "metadata": {},
   "outputs": [],
   "source": []
  },
  {
   "cell_type": "code",
   "execution_count": 16,
   "metadata": {},
   "outputs": [
    {
     "data": {
      "text/html": [
       "<div>\n",
       "<style scoped>\n",
       "    .dataframe tbody tr th:only-of-type {\n",
       "        vertical-align: middle;\n",
       "    }\n",
       "\n",
       "    .dataframe tbody tr th {\n",
       "        vertical-align: top;\n",
       "    }\n",
       "\n",
       "    .dataframe thead th {\n",
       "        text-align: right;\n",
       "    }\n",
       "</style>\n",
       "<table border=\"1\" class=\"dataframe\">\n",
       "  <thead>\n",
       "    <tr style=\"text-align: right;\">\n",
       "      <th></th>\n",
       "      <th>AccId</th>\n",
       "      <th>CreateYearMonth</th>\n",
       "    </tr>\n",
       "  </thead>\n",
       "  <tbody>\n",
       "    <tr>\n",
       "      <th>0</th>\n",
       "      <td>9883458</td>\n",
       "      <td>2017-01-01</td>\n",
       "    </tr>\n",
       "    <tr>\n",
       "      <th>1</th>\n",
       "      <td>9947518</td>\n",
       "      <td>2017-01-01</td>\n",
       "    </tr>\n",
       "    <tr>\n",
       "      <th>2</th>\n",
       "      <td>9947524</td>\n",
       "      <td>2017-01-01</td>\n",
       "    </tr>\n",
       "    <tr>\n",
       "      <th>3</th>\n",
       "      <td>9947525</td>\n",
       "      <td>2017-01-01</td>\n",
       "    </tr>\n",
       "    <tr>\n",
       "      <th>4</th>\n",
       "      <td>9947527</td>\n",
       "      <td>2017-01-01</td>\n",
       "    </tr>\n",
       "  </tbody>\n",
       "</table>\n",
       "</div>"
      ],
      "text/plain": [
       "     AccId CreateYearMonth\n",
       "0  9883458      2017-01-01\n",
       "1  9947518      2017-01-01\n",
       "2  9947524      2017-01-01\n",
       "3  9947525      2017-01-01\n",
       "4  9947527      2017-01-01"
      ]
     },
     "execution_count": 16,
     "metadata": {},
     "output_type": "execute_result"
    }
   ],
   "source": [
    "creation_yearly_monthly.head()"
   ]
  },
  {
   "cell_type": "code",
   "execution_count": 17,
   "metadata": {},
   "outputs": [
    {
     "data": {
      "text/html": [
       "<div>\n",
       "<style scoped>\n",
       "    .dataframe tbody tr th:only-of-type {\n",
       "        vertical-align: middle;\n",
       "    }\n",
       "\n",
       "    .dataframe tbody tr th {\n",
       "        vertical-align: top;\n",
       "    }\n",
       "\n",
       "    .dataframe thead th {\n",
       "        text-align: right;\n",
       "    }\n",
       "</style>\n",
       "<table border=\"1\" class=\"dataframe\">\n",
       "  <thead>\n",
       "    <tr style=\"text-align: right;\">\n",
       "      <th></th>\n",
       "      <th>CreateYearMonth</th>\n",
       "      <th>counts</th>\n",
       "    </tr>\n",
       "  </thead>\n",
       "  <tbody>\n",
       "    <tr>\n",
       "      <th>0</th>\n",
       "      <td>2017-01-01</td>\n",
       "      <td>130696</td>\n",
       "    </tr>\n",
       "    <tr>\n",
       "      <th>1</th>\n",
       "      <td>2017-02-01</td>\n",
       "      <td>136260</td>\n",
       "    </tr>\n",
       "    <tr>\n",
       "      <th>2</th>\n",
       "      <td>2017-03-01</td>\n",
       "      <td>156821</td>\n",
       "    </tr>\n",
       "    <tr>\n",
       "      <th>3</th>\n",
       "      <td>2017-04-01</td>\n",
       "      <td>141237</td>\n",
       "    </tr>\n",
       "    <tr>\n",
       "      <th>4</th>\n",
       "      <td>2017-05-01</td>\n",
       "      <td>145311</td>\n",
       "    </tr>\n",
       "  </tbody>\n",
       "</table>\n",
       "</div>"
      ],
      "text/plain": [
       "  CreateYearMonth  counts\n",
       "0      2017-01-01  130696\n",
       "1      2017-02-01  136260\n",
       "2      2017-03-01  156821\n",
       "3      2017-04-01  141237\n",
       "4      2017-05-01  145311"
      ]
     },
     "execution_count": 17,
     "metadata": {},
     "output_type": "execute_result"
    }
   ],
   "source": [
    "yearly_monthly_grp=creation_yearly_monthly.groupby(by=['CreateYearMonth']).size().reset_index(name='counts')\n",
    "yearly_monthly_grp.head()"
   ]
  },
  {
   "cell_type": "code",
   "execution_count": 18,
   "metadata": {},
   "outputs": [],
   "source": []
  },
  {
   "cell_type": "code",
   "execution_count": 19,
   "metadata": {},
   "outputs": [
    {
     "data": {
      "image/png": "[encoded data removed]",
      "text/plain": [
       "<Figure size 1080x576 with 1 Axes>"
      ]
     },
     "metadata": {
      "needs_background": "light"
     },
     "output_type": "display_data"
    }
   ],
   "source": [
    "# yearly_monthly_grp.plot(x='CreateYearMonth',y='counts',figsize=(15,6),linestyle='-',\n",
    "#                          marker='.', markerfacecolor='r',color='black',markersize=10)\n",
    "\n",
    "fig, ax = plt.subplots(figsize=(15,8))\n",
    "plt.plot(yearly_monthly_grp['CreateYearMonth'],yearly_monthly_grp['counts'],'-o',color='black',markerfacecolor='r')\n",
    "plt.xticks(yearly_monthly_grp['CreateYearMonth'], months_xticks,fontsize=15,rotation=90)\n",
    "plt.yticks(fontsize=15)\n",
    "plt.ylabel('User Account Creations',fontsize=22)\n",
    "plt.xlabel('Month/Year',fontsize=22)\n",
    "plt.grid()\n",
    "plt.savefig('figs/SO_UsersCreationYearltMonthly.pdf',bbox_inches='tight')\n",
    "\n",
    "\n",
    "# plt.xlabel('Month/Year')\n",
    "# plt.ylabel('Account Creations')"
   ]
  },
  {
   "cell_type": "code",
   "execution_count": 146,
   "metadata": {},
   "outputs": [],
   "source": [
    "def fit_reg_line(df,ticks,date_column,count_column,filename):\n",
    "    x = np.arange(df[date_column].size) # = array([0, 1, 2, ..., 3598, 3599, 3600])\n",
    "    fit = np.polyfit(x, df[count_column], 1)\n",
    "    fit_fn = np.poly1d(fit)\n",
    "    fig, ax = plt.subplots(figsize=(15,8))\n",
    "    plt.plot(df[date_column], fit_fn(x), 'k-')\n",
    "    plt.scatter(df[date_column],df[count_column],color='red')\n",
    "    plt.xticks(df[date_column], ticks,fontsize=15,rotation=90)\n",
    "    plt.grid()\n",
    "    print(len(filename))\n",
    "    if(len(filename)>0):\n",
    "        plt.savefig(filename,bbox_inches='tight')\n",
    "    plt.show()\n",
    "    return fit_fn"
   ]
  },
  {
   "cell_type": "code",
   "execution_count": 147,
   "metadata": {},
   "outputs": [
    {
     "name": "stdout",
     "output_type": "stream",
     "text": [
      "0\n"
     ]
    },
    {
     "data": {
      "image/png": "[encoded data removed]",
      "text/plain": [
       "<Figure size 1080x576 with 1 Axes>"
      ]
     },
     "metadata": {
      "needs_background": "light"
     },
     "output_type": "display_data"
    },
    {
     "data": {
      "text/plain": [
       "poly1d([   978.40356152, 129128.69680851])"
      ]
     },
     "execution_count": 147,
     "metadata": {},
     "output_type": "execute_result"
    }
   ],
   "source": [
    "fit_reg_line(yearly_monthly_grp,months_xticks,'CreateYearMonth','counts','')"
   ]
  },
  {
   "cell_type": "code",
   "execution_count": 20,
   "metadata": {},
   "outputs": [],
   "source": [
    "# x = np.arange(yearly_monthly_grp['CreateYearMonth'].size) # = array([0, 1, 2, ..., 3598, 3599, 3600])\n",
    "# fit = np.polyfit(x, yearly_monthly_grp['counts'], 1)\n",
    "# fit_fn = np.poly1d(fit)"
   ]
  },
  {
   "cell_type": "code",
   "execution_count": 50,
   "metadata": {},
   "outputs": [],
   "source": [
    "# fig, ax = plt.subplots(figsize=(15,8))\n",
    "# plt.plot(yearly_monthly_grp['CreateYearMonth'], fit_fn(x), 'k-')\n",
    "# plt.scatter(yearly_monthly_grp['CreateYearMonth'],yearly_monthly_grp['counts'])"
   ]
  },
  {
   "cell_type": "code",
   "execution_count": 54,
   "metadata": {},
   "outputs": [
    {
     "name": "stdout",
     "output_type": "stream",
     "text": [
      "Statistics=0.811, p=0.000\n",
      "Sample does not look Gaussian (reject H0)\n"
     ]
    }
   ],
   "source": [
    "is_normal_shapiro(yearly_monthly_grp['counts'])"
   ]
  },
  {
   "cell_type": "code",
   "execution_count": null,
   "metadata": {},
   "outputs": [],
   "source": []
  },
  {
   "cell_type": "code",
   "execution_count": 52,
   "metadata": {},
   "outputs": [],
   "source": [
    "#df should be monthly yearly data\n",
    "def to_bimonthly(df):\n",
    "    d={'counts':'sum'}\n",
    "    bi_counts=df.groupby(df.index  // 2).agg(d)\n",
    "    monthYear=df['CreateYearMonth']\n",
    "#     monthYear['months']=monthYear[::2]\n",
    "    bi_months = pd.DataFrame({\"months\":monthYear[::2]}) \n",
    "    bi_months.index = np.arange(1, len(bi_months) + 1)\n",
    "    bi_counts.index=np.arange(1, len(bi_counts) + 1)\n",
    "    result = pd.concat([bi_months, bi_counts], axis=1)\n",
    "    result.drop(result.tail(1).index,inplace=True) # drop last row cause we do not have dec data and so it only includes nov and becomes small\n",
    "    return result"
   ]
  },
  {
   "cell_type": "code",
   "execution_count": 53,
   "metadata": {},
   "outputs": [
    {
     "data": {
      "text/html": [
       "<div>\n",
       "<style scoped>\n",
       "    .dataframe tbody tr th:only-of-type {\n",
       "        vertical-align: middle;\n",
       "    }\n",
       "\n",
       "    .dataframe tbody tr th {\n",
       "        vertical-align: top;\n",
       "    }\n",
       "\n",
       "    .dataframe thead th {\n",
       "        text-align: right;\n",
       "    }\n",
       "</style>\n",
       "<table border=\"1\" class=\"dataframe\">\n",
       "  <thead>\n",
       "    <tr style=\"text-align: right;\">\n",
       "      <th></th>\n",
       "      <th>months</th>\n",
       "      <th>counts</th>\n",
       "    </tr>\n",
       "  </thead>\n",
       "  <tbody>\n",
       "    <tr>\n",
       "      <th>1</th>\n",
       "      <td>2017-01-01</td>\n",
       "      <td>266956</td>\n",
       "    </tr>\n",
       "    <tr>\n",
       "      <th>2</th>\n",
       "      <td>2017-03-01</td>\n",
       "      <td>298058</td>\n",
       "    </tr>\n",
       "    <tr>\n",
       "      <th>3</th>\n",
       "      <td>2017-05-01</td>\n",
       "      <td>285900</td>\n",
       "    </tr>\n",
       "    <tr>\n",
       "      <th>4</th>\n",
       "      <td>2017-07-01</td>\n",
       "      <td>295348</td>\n",
       "    </tr>\n",
       "    <tr>\n",
       "      <th>5</th>\n",
       "      <td>2017-09-01</td>\n",
       "      <td>310575</td>\n",
       "    </tr>\n",
       "    <tr>\n",
       "      <th>6</th>\n",
       "      <td>2017-11-01</td>\n",
       "      <td>271584</td>\n",
       "    </tr>\n",
       "    <tr>\n",
       "      <th>7</th>\n",
       "      <td>2018-01-01</td>\n",
       "      <td>259098</td>\n",
       "    </tr>\n",
       "    <tr>\n",
       "      <th>8</th>\n",
       "      <td>2018-03-01</td>\n",
       "      <td>286330</td>\n",
       "    </tr>\n",
       "    <tr>\n",
       "      <th>9</th>\n",
       "      <td>2018-05-01</td>\n",
       "      <td>284699</td>\n",
       "    </tr>\n",
       "    <tr>\n",
       "      <th>10</th>\n",
       "      <td>2018-07-01</td>\n",
       "      <td>278322</td>\n",
       "    </tr>\n",
       "    <tr>\n",
       "      <th>11</th>\n",
       "      <td>2018-09-01</td>\n",
       "      <td>279702</td>\n",
       "    </tr>\n",
       "    <tr>\n",
       "      <th>12</th>\n",
       "      <td>2018-11-01</td>\n",
       "      <td>258380</td>\n",
       "    </tr>\n",
       "    <tr>\n",
       "      <th>13</th>\n",
       "      <td>2019-01-01</td>\n",
       "      <td>274124</td>\n",
       "    </tr>\n",
       "    <tr>\n",
       "      <th>14</th>\n",
       "      <td>2019-03-01</td>\n",
       "      <td>292168</td>\n",
       "    </tr>\n",
       "    <tr>\n",
       "      <th>15</th>\n",
       "      <td>2019-05-01</td>\n",
       "      <td>280421</td>\n",
       "    </tr>\n",
       "    <tr>\n",
       "      <th>16</th>\n",
       "      <td>2019-07-01</td>\n",
       "      <td>276405</td>\n",
       "    </tr>\n",
       "    <tr>\n",
       "      <th>17</th>\n",
       "      <td>2019-09-01</td>\n",
       "      <td>292782</td>\n",
       "    </tr>\n",
       "    <tr>\n",
       "      <th>18</th>\n",
       "      <td>2019-11-01</td>\n",
       "      <td>305758</td>\n",
       "    </tr>\n",
       "    <tr>\n",
       "      <th>19</th>\n",
       "      <td>2020-01-01</td>\n",
       "      <td>328701</td>\n",
       "    </tr>\n",
       "    <tr>\n",
       "      <th>20</th>\n",
       "      <td>2020-03-01</td>\n",
       "      <td>444811</td>\n",
       "    </tr>\n",
       "    <tr>\n",
       "      <th>21</th>\n",
       "      <td>2020-05-01</td>\n",
       "      <td>385420</td>\n",
       "    </tr>\n",
       "    <tr>\n",
       "      <th>22</th>\n",
       "      <td>2020-07-01</td>\n",
       "      <td>339164</td>\n",
       "    </tr>\n",
       "    <tr>\n",
       "      <th>23</th>\n",
       "      <td>2020-09-01</td>\n",
       "      <td>351925</td>\n",
       "    </tr>\n",
       "  </tbody>\n",
       "</table>\n",
       "</div>"
      ],
      "text/plain": [
       "       months  counts\n",
       "1  2017-01-01  266956\n",
       "2  2017-03-01  298058\n",
       "3  2017-05-01  285900\n",
       "4  2017-07-01  295348\n",
       "5  2017-09-01  310575\n",
       "6  2017-11-01  271584\n",
       "7  2018-01-01  259098\n",
       "8  2018-03-01  286330\n",
       "9  2018-05-01  284699\n",
       "10 2018-07-01  278322\n",
       "11 2018-09-01  279702\n",
       "12 2018-11-01  258380\n",
       "13 2019-01-01  274124\n",
       "14 2019-03-01  292168\n",
       "15 2019-05-01  280421\n",
       "16 2019-07-01  276405\n",
       "17 2019-09-01  292782\n",
       "18 2019-11-01  305758\n",
       "19 2020-01-01  328701\n",
       "20 2020-03-01  444811\n",
       "21 2020-05-01  385420\n",
       "22 2020-07-01  339164\n",
       "23 2020-09-01  351925"
      ]
     },
     "execution_count": 53,
     "metadata": {},
     "output_type": "execute_result"
    }
   ],
   "source": [
    "bimonthly_yearly=to_bimonthly(yearly_monthly_grp)\n",
    "bimonthly_yearly"
   ]
  },
  {
   "cell_type": "code",
   "execution_count": null,
   "metadata": {},
   "outputs": [],
   "source": []
  },
  {
   "cell_type": "code",
   "execution_count": 24,
   "metadata": {},
   "outputs": [
    {
     "data": {
      "text/html": [
       "<div>\n",
       "<style scoped>\n",
       "    .dataframe tbody tr th:only-of-type {\n",
       "        vertical-align: middle;\n",
       "    }\n",
       "\n",
       "    .dataframe tbody tr th {\n",
       "        vertical-align: top;\n",
       "    }\n",
       "\n",
       "    .dataframe thead th {\n",
       "        text-align: right;\n",
       "    }\n",
       "</style>\n",
       "<table border=\"1\" class=\"dataframe\">\n",
       "  <thead>\n",
       "    <tr style=\"text-align: right;\">\n",
       "      <th></th>\n",
       "      <th>CreateYearMonth</th>\n",
       "      <th>counts</th>\n",
       "    </tr>\n",
       "  </thead>\n",
       "  <tbody>\n",
       "    <tr>\n",
       "      <th>0</th>\n",
       "      <td>2017-01-01</td>\n",
       "      <td>130696</td>\n",
       "    </tr>\n",
       "    <tr>\n",
       "      <th>1</th>\n",
       "      <td>2017-02-01</td>\n",
       "      <td>136260</td>\n",
       "    </tr>\n",
       "    <tr>\n",
       "      <th>2</th>\n",
       "      <td>2017-03-01</td>\n",
       "      <td>156821</td>\n",
       "    </tr>\n",
       "    <tr>\n",
       "      <th>3</th>\n",
       "      <td>2017-04-01</td>\n",
       "      <td>141237</td>\n",
       "    </tr>\n",
       "    <tr>\n",
       "      <th>4</th>\n",
       "      <td>2017-05-01</td>\n",
       "      <td>145311</td>\n",
       "    </tr>\n",
       "    <tr>\n",
       "      <th>5</th>\n",
       "      <td>2017-06-01</td>\n",
       "      <td>140589</td>\n",
       "    </tr>\n",
       "    <tr>\n",
       "      <th>6</th>\n",
       "      <td>2017-07-01</td>\n",
       "      <td>150608</td>\n",
       "    </tr>\n",
       "    <tr>\n",
       "      <th>7</th>\n",
       "      <td>2017-08-01</td>\n",
       "      <td>144740</td>\n",
       "    </tr>\n",
       "    <tr>\n",
       "      <th>8</th>\n",
       "      <td>2017-09-01</td>\n",
       "      <td>152006</td>\n",
       "    </tr>\n",
       "    <tr>\n",
       "      <th>9</th>\n",
       "      <td>2017-10-01</td>\n",
       "      <td>158569</td>\n",
       "    </tr>\n",
       "    <tr>\n",
       "      <th>10</th>\n",
       "      <td>2017-11-01</td>\n",
       "      <td>152336</td>\n",
       "    </tr>\n",
       "    <tr>\n",
       "      <th>11</th>\n",
       "      <td>2017-12-01</td>\n",
       "      <td>119248</td>\n",
       "    </tr>\n",
       "    <tr>\n",
       "      <th>12</th>\n",
       "      <td>2018-01-01</td>\n",
       "      <td>133788</td>\n",
       "    </tr>\n",
       "    <tr>\n",
       "      <th>13</th>\n",
       "      <td>2018-02-01</td>\n",
       "      <td>125310</td>\n",
       "    </tr>\n",
       "    <tr>\n",
       "      <th>14</th>\n",
       "      <td>2018-03-01</td>\n",
       "      <td>148604</td>\n",
       "    </tr>\n",
       "    <tr>\n",
       "      <th>15</th>\n",
       "      <td>2018-04-01</td>\n",
       "      <td>137726</td>\n",
       "    </tr>\n",
       "    <tr>\n",
       "      <th>16</th>\n",
       "      <td>2018-05-01</td>\n",
       "      <td>150608</td>\n",
       "    </tr>\n",
       "    <tr>\n",
       "      <th>17</th>\n",
       "      <td>2018-06-01</td>\n",
       "      <td>134091</td>\n",
       "    </tr>\n",
       "    <tr>\n",
       "      <th>18</th>\n",
       "      <td>2018-07-01</td>\n",
       "      <td>142511</td>\n",
       "    </tr>\n",
       "    <tr>\n",
       "      <th>19</th>\n",
       "      <td>2018-08-01</td>\n",
       "      <td>135811</td>\n",
       "    </tr>\n",
       "    <tr>\n",
       "      <th>20</th>\n",
       "      <td>2018-09-01</td>\n",
       "      <td>133388</td>\n",
       "    </tr>\n",
       "    <tr>\n",
       "      <th>21</th>\n",
       "      <td>2018-10-01</td>\n",
       "      <td>146314</td>\n",
       "    </tr>\n",
       "    <tr>\n",
       "      <th>22</th>\n",
       "      <td>2018-11-01</td>\n",
       "      <td>138199</td>\n",
       "    </tr>\n",
       "    <tr>\n",
       "      <th>23</th>\n",
       "      <td>2018-12-01</td>\n",
       "      <td>120181</td>\n",
       "    </tr>\n",
       "    <tr>\n",
       "      <th>24</th>\n",
       "      <td>2019-01-01</td>\n",
       "      <td>142159</td>\n",
       "    </tr>\n",
       "    <tr>\n",
       "      <th>25</th>\n",
       "      <td>2019-02-01</td>\n",
       "      <td>131965</td>\n",
       "    </tr>\n",
       "    <tr>\n",
       "      <th>26</th>\n",
       "      <td>2019-03-01</td>\n",
       "      <td>147977</td>\n",
       "    </tr>\n",
       "    <tr>\n",
       "      <th>27</th>\n",
       "      <td>2019-04-01</td>\n",
       "      <td>144191</td>\n",
       "    </tr>\n",
       "    <tr>\n",
       "      <th>28</th>\n",
       "      <td>2019-05-01</td>\n",
       "      <td>147135</td>\n",
       "    </tr>\n",
       "    <tr>\n",
       "      <th>29</th>\n",
       "      <td>2019-06-01</td>\n",
       "      <td>133286</td>\n",
       "    </tr>\n",
       "    <tr>\n",
       "      <th>30</th>\n",
       "      <td>2019-07-01</td>\n",
       "      <td>141168</td>\n",
       "    </tr>\n",
       "    <tr>\n",
       "      <th>31</th>\n",
       "      <td>2019-08-01</td>\n",
       "      <td>135237</td>\n",
       "    </tr>\n",
       "    <tr>\n",
       "      <th>32</th>\n",
       "      <td>2019-09-01</td>\n",
       "      <td>137419</td>\n",
       "    </tr>\n",
       "    <tr>\n",
       "      <th>33</th>\n",
       "      <td>2019-10-01</td>\n",
       "      <td>155363</td>\n",
       "    </tr>\n",
       "    <tr>\n",
       "      <th>34</th>\n",
       "      <td>2019-11-01</td>\n",
       "      <td>147277</td>\n",
       "    </tr>\n",
       "    <tr>\n",
       "      <th>35</th>\n",
       "      <td>2019-12-01</td>\n",
       "      <td>158481</td>\n",
       "    </tr>\n",
       "    <tr>\n",
       "      <th>36</th>\n",
       "      <td>2020-01-01</td>\n",
       "      <td>171214</td>\n",
       "    </tr>\n",
       "    <tr>\n",
       "      <th>37</th>\n",
       "      <td>2020-02-01</td>\n",
       "      <td>157487</td>\n",
       "    </tr>\n",
       "    <tr>\n",
       "      <th>38</th>\n",
       "      <td>2020-03-01</td>\n",
       "      <td>183572</td>\n",
       "    </tr>\n",
       "    <tr>\n",
       "      <th>39</th>\n",
       "      <td>2020-04-01</td>\n",
       "      <td>261239</td>\n",
       "    </tr>\n",
       "    <tr>\n",
       "      <th>40</th>\n",
       "      <td>2020-05-01</td>\n",
       "      <td>199531</td>\n",
       "    </tr>\n",
       "    <tr>\n",
       "      <th>41</th>\n",
       "      <td>2020-06-01</td>\n",
       "      <td>185889</td>\n",
       "    </tr>\n",
       "    <tr>\n",
       "      <th>42</th>\n",
       "      <td>2020-07-01</td>\n",
       "      <td>173379</td>\n",
       "    </tr>\n",
       "    <tr>\n",
       "      <th>43</th>\n",
       "      <td>2020-08-01</td>\n",
       "      <td>165785</td>\n",
       "    </tr>\n",
       "    <tr>\n",
       "      <th>44</th>\n",
       "      <td>2020-09-01</td>\n",
       "      <td>168773</td>\n",
       "    </tr>\n",
       "    <tr>\n",
       "      <th>45</th>\n",
       "      <td>2020-10-01</td>\n",
       "      <td>183152</td>\n",
       "    </tr>\n",
       "    <tr>\n",
       "      <th>46</th>\n",
       "      <td>2020-11-01</td>\n",
       "      <td>180072</td>\n",
       "    </tr>\n",
       "  </tbody>\n",
       "</table>\n",
       "</div>"
      ],
      "text/plain": [
       "   CreateYearMonth  counts\n",
       "0       2017-01-01  130696\n",
       "1       2017-02-01  136260\n",
       "2       2017-03-01  156821\n",
       "3       2017-04-01  141237\n",
       "4       2017-05-01  145311\n",
       "5       2017-06-01  140589\n",
       "6       2017-07-01  150608\n",
       "7       2017-08-01  144740\n",
       "8       2017-09-01  152006\n",
       "9       2017-10-01  158569\n",
       "10      2017-11-01  152336\n",
       "11      2017-12-01  119248\n",
       "12      2018-01-01  133788\n",
       "13      2018-02-01  125310\n",
       "14      2018-03-01  148604\n",
       "15      2018-04-01  137726\n",
       "16      2018-05-01  150608\n",
       "17      2018-06-01  134091\n",
       "18      2018-07-01  142511\n",
       "19      2018-08-01  135811\n",
       "20      2018-09-01  133388\n",
       "21      2018-10-01  146314\n",
       "22      2018-11-01  138199\n",
       "23      2018-12-01  120181\n",
       "24      2019-01-01  142159\n",
       "25      2019-02-01  131965\n",
       "26      2019-03-01  147977\n",
       "27      2019-04-01  144191\n",
       "28      2019-05-01  147135\n",
       "29      2019-06-01  133286\n",
       "30      2019-07-01  141168\n",
       "31      2019-08-01  135237\n",
       "32      2019-09-01  137419\n",
       "33      2019-10-01  155363\n",
       "34      2019-11-01  147277\n",
       "35      2019-12-01  158481\n",
       "36      2020-01-01  171214\n",
       "37      2020-02-01  157487\n",
       "38      2020-03-01  183572\n",
       "39      2020-04-01  261239\n",
       "40      2020-05-01  199531\n",
       "41      2020-06-01  185889\n",
       "42      2020-07-01  173379\n",
       "43      2020-08-01  165785\n",
       "44      2020-09-01  168773\n",
       "45      2020-10-01  183152\n",
       "46      2020-11-01  180072"
      ]
     },
     "execution_count": 24,
     "metadata": {},
     "output_type": "execute_result"
    }
   ],
   "source": [
    "yearly_monthly_grp"
   ]
  },
  {
   "cell_type": "code",
   "execution_count": 28,
   "metadata": {},
   "outputs": [
    {
     "data": {
      "text/plain": [
       "23"
      ]
     },
     "execution_count": 28,
     "metadata": {},
     "output_type": "execute_result"
    }
   ],
   "source": [
    "len(bimonthly_yearly)"
   ]
  },
  {
   "cell_type": "code",
   "execution_count": 25,
   "metadata": {},
   "outputs": [],
   "source": [
    "#remove nov/dec 2020 cause we do not have dec data\n",
    "bi_ticks=['Jan/Feb 2017','March/April 2017','May/June 2017','July/Aug 2017','Sept/Oct 2017','Nov/Dec 2017','Jan/Feb 2018','March/April 2018','May/June 2018','July/Aug 2018','Sept/Oct 2018','Nov/Dec 2018',\n",
    "    'Jan/Feb 2019','March/April 2019','May/June 2019','July/Aug 2019','Sept/Oct 2019','Nov/Dec 2019','Jan/Feb 2020','March/April 2020','May/June 2020','July/Aug 2020','Sept/Oct 2020']"
   ]
  },
  {
   "cell_type": "code",
   "execution_count": 26,
   "metadata": {},
   "outputs": [
    {
     "data": {
      "text/plain": [
       "23"
      ]
     },
     "execution_count": 26,
     "metadata": {},
     "output_type": "execute_result"
    }
   ],
   "source": [
    "len(bi_ticks)"
   ]
  },
  {
   "cell_type": "code",
   "execution_count": 193,
   "metadata": {},
   "outputs": [
    {
     "data": {
      "image/png": "[encoded data removed]",
      "text/plain": [
       "<Figure size 1080x576 with 1 Axes>"
      ]
     },
     "metadata": {
      "needs_background": "light"
     },
     "output_type": "display_data"
    }
   ],
   "source": [
    "fig, ax = plt.subplots(figsize=(15,8))\n",
    "plt.plot(bimonthly_yearly['months'],bimonthly_yearly['counts'],'-o',color='black',markerfacecolor='r')\n",
    "plt.xticks(bimonthly_yearly['months'], bi_ticks,fontsize=15,rotation=90)\n",
    "plt.yticks(fontsize=15)\n",
    "plt.ylabel('User Account Creations',fontsize=22)\n",
    "plt.xlabel('Month/Year',fontsize=22)\n",
    "plt.grid()\n",
    "plt.savefig('figs/SO_UsersCreationBiMonthly.pdf',bbox_inches='tight')\n"
   ]
  },
  {
   "cell_type": "code",
   "execution_count": 30,
   "metadata": {},
   "outputs": [],
   "source": [
    "# def fit_reg_line(df,ticks,column):\n",
    "#     x = np.arange(df['months'].size) # = array([0, 1, 2, ..., 3598, 3599, 3600])\n",
    "#     fit = np.polyfit(x, df[column], 1)\n",
    "#     fit_fn = np.poly1d(fit)\n",
    "\n",
    "#     fig, ax = plt.subplots(figsize=(15,8))\n",
    "#     plt.plot(df['months'], fit_fn(x), 'k-')\n",
    "#     plt.scatter(df['months'],df[column])\n",
    "#     plt.xticks(df['months'], ticks,fontsize=15,rotation=90)\n",
    "#     plt.show()"
   ]
  },
  {
   "cell_type": "code",
   "execution_count": 51,
   "metadata": {},
   "outputs": [
    {
     "data": {
      "image/png": "[encoded data removed]",
      "text/plain": [
       "<Figure size 1080x576 with 1 Axes>"
      ]
     },
     "metadata": {
      "needs_background": "light"
     },
     "output_type": "display_data"
    }
   ],
   "source": [
    "fit_reg_line(bimonthly_yearly,bi_ticks,'months','counts')"
   ]
  },
  {
   "cell_type": "code",
   "execution_count": 32,
   "metadata": {},
   "outputs": [
    {
     "name": "stdout",
     "output_type": "stream",
     "text": [
      "KPSS Statistic: 0.31574181605845886\n",
      "p-value: 0.1\n",
      "num lags: 9\n",
      "Critical Values:\n",
      "   10% : 0.347\n",
      "   5% : 0.463\n",
      "   2.5% : 0.574\n",
      "   1% : 0.739\n",
      "Result: The series is stationary\n"
     ]
    },
    {
     "name": "stderr",
     "output_type": "stream",
     "text": [
      "C:\\Users\\Farima\\anaconda3\\envs\\StackOverFlowAnalysis\\lib\\site-packages\\statsmodels\\tsa\\stattools.py:1850: FutureWarning: The behavior of using nlags=None will change in release 0.13.Currently nlags=None is the same as nlags=\"legacy\", and so a sample-size lag length is used. After the next release, the default will change to be the same as nlags=\"auto\" which uses an automatic lag length selection method. To silence this warning, either use \"auto\" or \"legacy\"\n",
      "  warnings.warn(msg, FutureWarning)\n",
      "C:\\Users\\Farima\\anaconda3\\envs\\StackOverFlowAnalysis\\lib\\site-packages\\statsmodels\\tsa\\stattools.py:1885: InterpolationWarning: The test statistic is outside of the range of p-values available in the\n",
      "look-up table. The actual p-value is greater than the p-value returned.\n",
      "\n",
      "  warnings.warn(\n"
     ]
    }
   ],
   "source": [
    "kpss_test(bimonthly_yearly['counts'])"
   ]
  },
  {
   "cell_type": "code",
   "execution_count": 33,
   "metadata": {},
   "outputs": [
    {
     "name": "stdout",
     "output_type": "stream",
     "text": [
      "Results of Dickey-Fuller Test:\n",
      "ADF Statistic: -1.825392\n",
      "p-value: 0.367930\n",
      "Critical Values:\n",
      "\t1%: -3.770\n",
      "\t5%: -3.005\n",
      "\t10%: -2.643\n",
      "Result: The series is not stationary\n"
     ]
    }
   ],
   "source": [
    "adf_test(bimonthly_yearly['counts'])"
   ]
  },
  {
   "cell_type": "markdown",
   "metadata": {},
   "source": [
    "# Deltas"
   ]
  },
  {
   "cell_type": "code",
   "execution_count": 34,
   "metadata": {},
   "outputs": [
    {
     "data": {
      "text/html": [
       "<div>\n",
       "<style scoped>\n",
       "    .dataframe tbody tr th:only-of-type {\n",
       "        vertical-align: middle;\n",
       "    }\n",
       "\n",
       "    .dataframe tbody tr th {\n",
       "        vertical-align: top;\n",
       "    }\n",
       "\n",
       "    .dataframe thead th {\n",
       "        text-align: right;\n",
       "    }\n",
       "</style>\n",
       "<table border=\"1\" class=\"dataframe\">\n",
       "  <thead>\n",
       "    <tr style=\"text-align: right;\">\n",
       "      <th></th>\n",
       "      <th>months</th>\n",
       "      <th>counts</th>\n",
       "      <th>count_delta</th>\n",
       "    </tr>\n",
       "  </thead>\n",
       "  <tbody>\n",
       "    <tr>\n",
       "      <th>1</th>\n",
       "      <td>2017-01-01</td>\n",
       "      <td>266956</td>\n",
       "      <td>NaN</td>\n",
       "    </tr>\n",
       "    <tr>\n",
       "      <th>2</th>\n",
       "      <td>2017-03-01</td>\n",
       "      <td>298058</td>\n",
       "      <td>31102.0</td>\n",
       "    </tr>\n",
       "    <tr>\n",
       "      <th>3</th>\n",
       "      <td>2017-05-01</td>\n",
       "      <td>285900</td>\n",
       "      <td>-12158.0</td>\n",
       "    </tr>\n",
       "    <tr>\n",
       "      <th>4</th>\n",
       "      <td>2017-07-01</td>\n",
       "      <td>295348</td>\n",
       "      <td>9448.0</td>\n",
       "    </tr>\n",
       "    <tr>\n",
       "      <th>5</th>\n",
       "      <td>2017-09-01</td>\n",
       "      <td>310575</td>\n",
       "      <td>15227.0</td>\n",
       "    </tr>\n",
       "    <tr>\n",
       "      <th>6</th>\n",
       "      <td>2017-11-01</td>\n",
       "      <td>271584</td>\n",
       "      <td>-38991.0</td>\n",
       "    </tr>\n",
       "    <tr>\n",
       "      <th>7</th>\n",
       "      <td>2018-01-01</td>\n",
       "      <td>259098</td>\n",
       "      <td>-12486.0</td>\n",
       "    </tr>\n",
       "    <tr>\n",
       "      <th>8</th>\n",
       "      <td>2018-03-01</td>\n",
       "      <td>286330</td>\n",
       "      <td>27232.0</td>\n",
       "    </tr>\n",
       "    <tr>\n",
       "      <th>9</th>\n",
       "      <td>2018-05-01</td>\n",
       "      <td>284699</td>\n",
       "      <td>-1631.0</td>\n",
       "    </tr>\n",
       "    <tr>\n",
       "      <th>10</th>\n",
       "      <td>2018-07-01</td>\n",
       "      <td>278322</td>\n",
       "      <td>-6377.0</td>\n",
       "    </tr>\n",
       "    <tr>\n",
       "      <th>11</th>\n",
       "      <td>2018-09-01</td>\n",
       "      <td>279702</td>\n",
       "      <td>1380.0</td>\n",
       "    </tr>\n",
       "    <tr>\n",
       "      <th>12</th>\n",
       "      <td>2018-11-01</td>\n",
       "      <td>258380</td>\n",
       "      <td>-21322.0</td>\n",
       "    </tr>\n",
       "    <tr>\n",
       "      <th>13</th>\n",
       "      <td>2019-01-01</td>\n",
       "      <td>274124</td>\n",
       "      <td>15744.0</td>\n",
       "    </tr>\n",
       "    <tr>\n",
       "      <th>14</th>\n",
       "      <td>2019-03-01</td>\n",
       "      <td>292168</td>\n",
       "      <td>18044.0</td>\n",
       "    </tr>\n",
       "    <tr>\n",
       "      <th>15</th>\n",
       "      <td>2019-05-01</td>\n",
       "      <td>280421</td>\n",
       "      <td>-11747.0</td>\n",
       "    </tr>\n",
       "    <tr>\n",
       "      <th>16</th>\n",
       "      <td>2019-07-01</td>\n",
       "      <td>276405</td>\n",
       "      <td>-4016.0</td>\n",
       "    </tr>\n",
       "    <tr>\n",
       "      <th>17</th>\n",
       "      <td>2019-09-01</td>\n",
       "      <td>292782</td>\n",
       "      <td>16377.0</td>\n",
       "    </tr>\n",
       "    <tr>\n",
       "      <th>18</th>\n",
       "      <td>2019-11-01</td>\n",
       "      <td>305758</td>\n",
       "      <td>12976.0</td>\n",
       "    </tr>\n",
       "    <tr>\n",
       "      <th>19</th>\n",
       "      <td>2020-01-01</td>\n",
       "      <td>328701</td>\n",
       "      <td>22943.0</td>\n",
       "    </tr>\n",
       "    <tr>\n",
       "      <th>20</th>\n",
       "      <td>2020-03-01</td>\n",
       "      <td>444811</td>\n",
       "      <td>116110.0</td>\n",
       "    </tr>\n",
       "    <tr>\n",
       "      <th>21</th>\n",
       "      <td>2020-05-01</td>\n",
       "      <td>385420</td>\n",
       "      <td>-59391.0</td>\n",
       "    </tr>\n",
       "    <tr>\n",
       "      <th>22</th>\n",
       "      <td>2020-07-01</td>\n",
       "      <td>339164</td>\n",
       "      <td>-46256.0</td>\n",
       "    </tr>\n",
       "    <tr>\n",
       "      <th>23</th>\n",
       "      <td>2020-09-01</td>\n",
       "      <td>351925</td>\n",
       "      <td>12761.0</td>\n",
       "    </tr>\n",
       "  </tbody>\n",
       "</table>\n",
       "</div>"
      ],
      "text/plain": [
       "       months  counts  count_delta\n",
       "1  2017-01-01  266956          NaN\n",
       "2  2017-03-01  298058      31102.0\n",
       "3  2017-05-01  285900     -12158.0\n",
       "4  2017-07-01  295348       9448.0\n",
       "5  2017-09-01  310575      15227.0\n",
       "6  2017-11-01  271584     -38991.0\n",
       "7  2018-01-01  259098     -12486.0\n",
       "8  2018-03-01  286330      27232.0\n",
       "9  2018-05-01  284699      -1631.0\n",
       "10 2018-07-01  278322      -6377.0\n",
       "11 2018-09-01  279702       1380.0\n",
       "12 2018-11-01  258380     -21322.0\n",
       "13 2019-01-01  274124      15744.0\n",
       "14 2019-03-01  292168      18044.0\n",
       "15 2019-05-01  280421     -11747.0\n",
       "16 2019-07-01  276405      -4016.0\n",
       "17 2019-09-01  292782      16377.0\n",
       "18 2019-11-01  305758      12976.0\n",
       "19 2020-01-01  328701      22943.0\n",
       "20 2020-03-01  444811     116110.0\n",
       "21 2020-05-01  385420     -59391.0\n",
       "22 2020-07-01  339164     -46256.0\n",
       "23 2020-09-01  351925      12761.0"
      ]
     },
     "execution_count": 34,
     "metadata": {},
     "output_type": "execute_result"
    }
   ],
   "source": [
    "bimonthly_yearly['count_delta'] = bimonthly_yearly['counts'].diff()\n",
    "bimonthly_yearly\n",
    "#users['delta'] = df.currentPrice.diff().shift(-1)\n"
   ]
  },
  {
   "cell_type": "code",
   "execution_count": null,
   "metadata": {},
   "outputs": [],
   "source": []
  },
  {
   "cell_type": "code",
   "execution_count": 115,
   "metadata": {},
   "outputs": [
    {
     "data": {
      "text/html": [
       "<div>\n",
       "<style scoped>\n",
       "    .dataframe tbody tr th:only-of-type {\n",
       "        vertical-align: middle;\n",
       "    }\n",
       "\n",
       "    .dataframe tbody tr th {\n",
       "        vertical-align: top;\n",
       "    }\n",
       "\n",
       "    .dataframe thead th {\n",
       "        text-align: right;\n",
       "    }\n",
       "</style>\n",
       "<table border=\"1\" class=\"dataframe\">\n",
       "  <thead>\n",
       "    <tr style=\"text-align: right;\">\n",
       "      <th></th>\n",
       "      <th>months</th>\n",
       "      <th>counts</th>\n",
       "    </tr>\n",
       "  </thead>\n",
       "  <tbody>\n",
       "    <tr>\n",
       "      <th>19</th>\n",
       "      <td>2020-01-01</td>\n",
       "      <td>328701</td>\n",
       "    </tr>\n",
       "    <tr>\n",
       "      <th>20</th>\n",
       "      <td>2020-03-01</td>\n",
       "      <td>444811</td>\n",
       "    </tr>\n",
       "    <tr>\n",
       "      <th>21</th>\n",
       "      <td>2020-05-01</td>\n",
       "      <td>385420</td>\n",
       "    </tr>\n",
       "    <tr>\n",
       "      <th>22</th>\n",
       "      <td>2020-07-01</td>\n",
       "      <td>339164</td>\n",
       "    </tr>\n",
       "    <tr>\n",
       "      <th>23</th>\n",
       "      <td>2020-09-01</td>\n",
       "      <td>351925</td>\n",
       "    </tr>\n",
       "  </tbody>\n",
       "</table>\n",
       "</div>"
      ],
      "text/plain": [
       "       months  counts\n",
       "19 2020-01-01  328701\n",
       "20 2020-03-01  444811\n",
       "21 2020-05-01  385420\n",
       "22 2020-07-01  339164\n",
       "23 2020-09-01  351925"
      ]
     },
     "execution_count": 115,
     "metadata": {},
     "output_type": "execute_result"
    }
   ],
   "source": [
    "bimonthly_yearly[18:]"
   ]
  },
  {
   "cell_type": "code",
   "execution_count": 35,
   "metadata": {},
   "outputs": [
    {
     "data": {
      "text/html": [
       "<div>\n",
       "<style scoped>\n",
       "    .dataframe tbody tr th:only-of-type {\n",
       "        vertical-align: middle;\n",
       "    }\n",
       "\n",
       "    .dataframe tbody tr th {\n",
       "        vertical-align: top;\n",
       "    }\n",
       "\n",
       "    .dataframe thead th {\n",
       "        text-align: right;\n",
       "    }\n",
       "</style>\n",
       "<table border=\"1\" class=\"dataframe\">\n",
       "  <thead>\n",
       "    <tr style=\"text-align: right;\">\n",
       "      <th></th>\n",
       "      <th>months</th>\n",
       "      <th>counts</th>\n",
       "      <th>count_delta</th>\n",
       "    </tr>\n",
       "  </thead>\n",
       "  <tbody>\n",
       "    <tr>\n",
       "      <th>2</th>\n",
       "      <td>2017-03-01</td>\n",
       "      <td>298058</td>\n",
       "      <td>31102.0</td>\n",
       "    </tr>\n",
       "    <tr>\n",
       "      <th>3</th>\n",
       "      <td>2017-05-01</td>\n",
       "      <td>285900</td>\n",
       "      <td>-12158.0</td>\n",
       "    </tr>\n",
       "    <tr>\n",
       "      <th>4</th>\n",
       "      <td>2017-07-01</td>\n",
       "      <td>295348</td>\n",
       "      <td>9448.0</td>\n",
       "    </tr>\n",
       "    <tr>\n",
       "      <th>5</th>\n",
       "      <td>2017-09-01</td>\n",
       "      <td>310575</td>\n",
       "      <td>15227.0</td>\n",
       "    </tr>\n",
       "    <tr>\n",
       "      <th>6</th>\n",
       "      <td>2017-11-01</td>\n",
       "      <td>271584</td>\n",
       "      <td>-38991.0</td>\n",
       "    </tr>\n",
       "    <tr>\n",
       "      <th>7</th>\n",
       "      <td>2018-01-01</td>\n",
       "      <td>259098</td>\n",
       "      <td>-12486.0</td>\n",
       "    </tr>\n",
       "    <tr>\n",
       "      <th>8</th>\n",
       "      <td>2018-03-01</td>\n",
       "      <td>286330</td>\n",
       "      <td>27232.0</td>\n",
       "    </tr>\n",
       "    <tr>\n",
       "      <th>9</th>\n",
       "      <td>2018-05-01</td>\n",
       "      <td>284699</td>\n",
       "      <td>-1631.0</td>\n",
       "    </tr>\n",
       "    <tr>\n",
       "      <th>10</th>\n",
       "      <td>2018-07-01</td>\n",
       "      <td>278322</td>\n",
       "      <td>-6377.0</td>\n",
       "    </tr>\n",
       "    <tr>\n",
       "      <th>11</th>\n",
       "      <td>2018-09-01</td>\n",
       "      <td>279702</td>\n",
       "      <td>1380.0</td>\n",
       "    </tr>\n",
       "    <tr>\n",
       "      <th>12</th>\n",
       "      <td>2018-11-01</td>\n",
       "      <td>258380</td>\n",
       "      <td>-21322.0</td>\n",
       "    </tr>\n",
       "    <tr>\n",
       "      <th>13</th>\n",
       "      <td>2019-01-01</td>\n",
       "      <td>274124</td>\n",
       "      <td>15744.0</td>\n",
       "    </tr>\n",
       "    <tr>\n",
       "      <th>14</th>\n",
       "      <td>2019-03-01</td>\n",
       "      <td>292168</td>\n",
       "      <td>18044.0</td>\n",
       "    </tr>\n",
       "    <tr>\n",
       "      <th>15</th>\n",
       "      <td>2019-05-01</td>\n",
       "      <td>280421</td>\n",
       "      <td>-11747.0</td>\n",
       "    </tr>\n",
       "    <tr>\n",
       "      <th>16</th>\n",
       "      <td>2019-07-01</td>\n",
       "      <td>276405</td>\n",
       "      <td>-4016.0</td>\n",
       "    </tr>\n",
       "    <tr>\n",
       "      <th>17</th>\n",
       "      <td>2019-09-01</td>\n",
       "      <td>292782</td>\n",
       "      <td>16377.0</td>\n",
       "    </tr>\n",
       "    <tr>\n",
       "      <th>18</th>\n",
       "      <td>2019-11-01</td>\n",
       "      <td>305758</td>\n",
       "      <td>12976.0</td>\n",
       "    </tr>\n",
       "    <tr>\n",
       "      <th>19</th>\n",
       "      <td>2020-01-01</td>\n",
       "      <td>328701</td>\n",
       "      <td>22943.0</td>\n",
       "    </tr>\n",
       "    <tr>\n",
       "      <th>20</th>\n",
       "      <td>2020-03-01</td>\n",
       "      <td>444811</td>\n",
       "      <td>116110.0</td>\n",
       "    </tr>\n",
       "    <tr>\n",
       "      <th>21</th>\n",
       "      <td>2020-05-01</td>\n",
       "      <td>385420</td>\n",
       "      <td>-59391.0</td>\n",
       "    </tr>\n",
       "    <tr>\n",
       "      <th>22</th>\n",
       "      <td>2020-07-01</td>\n",
       "      <td>339164</td>\n",
       "      <td>-46256.0</td>\n",
       "    </tr>\n",
       "    <tr>\n",
       "      <th>23</th>\n",
       "      <td>2020-09-01</td>\n",
       "      <td>351925</td>\n",
       "      <td>12761.0</td>\n",
       "    </tr>\n",
       "  </tbody>\n",
       "</table>\n",
       "</div>"
      ],
      "text/plain": [
       "       months  counts  count_delta\n",
       "2  2017-03-01  298058      31102.0\n",
       "3  2017-05-01  285900     -12158.0\n",
       "4  2017-07-01  295348       9448.0\n",
       "5  2017-09-01  310575      15227.0\n",
       "6  2017-11-01  271584     -38991.0\n",
       "7  2018-01-01  259098     -12486.0\n",
       "8  2018-03-01  286330      27232.0\n",
       "9  2018-05-01  284699      -1631.0\n",
       "10 2018-07-01  278322      -6377.0\n",
       "11 2018-09-01  279702       1380.0\n",
       "12 2018-11-01  258380     -21322.0\n",
       "13 2019-01-01  274124      15744.0\n",
       "14 2019-03-01  292168      18044.0\n",
       "15 2019-05-01  280421     -11747.0\n",
       "16 2019-07-01  276405      -4016.0\n",
       "17 2019-09-01  292782      16377.0\n",
       "18 2019-11-01  305758      12976.0\n",
       "19 2020-01-01  328701      22943.0\n",
       "20 2020-03-01  444811     116110.0\n",
       "21 2020-05-01  385420     -59391.0\n",
       "22 2020-07-01  339164     -46256.0\n",
       "23 2020-09-01  351925      12761.0"
      ]
     },
     "execution_count": 35,
     "metadata": {},
     "output_type": "execute_result"
    }
   ],
   "source": [
    "bimonthly_yearly_deltaclean=bimonthly_yearly.tail(22)\n",
    "# bimonthly_yearly_deltaclean=bimonthly_yearly_deltaclean.reset_index()\n",
    "bimonthly_yearly_deltaclean"
   ]
  },
  {
   "cell_type": "code",
   "execution_count": 151,
   "metadata": {},
   "outputs": [
    {
     "data": {
      "text/plain": [
       "22"
      ]
     },
     "execution_count": 151,
     "metadata": {},
     "output_type": "execute_result"
    }
   ],
   "source": [
    "len(bimonthly_yearly_deltaclean)"
   ]
  },
  {
   "cell_type": "code",
   "execution_count": 119,
   "metadata": {},
   "outputs": [
    {
     "name": "stdout",
     "output_type": "stream",
     "text": [
      "Statistics=42.000, p=0.500\n",
      "Same distribution (fail to reject H0)\n"
     ]
    }
   ],
   "source": [
    "do_meanwhit(bimonthly_yearly_deltaclean[:17],bimonthly_yearly_deltaclean[17:])"
   ]
  },
  {
   "cell_type": "code",
   "execution_count": 117,
   "metadata": {},
   "outputs": [
    {
     "data": {
      "text/html": [
       "<div>\n",
       "<style scoped>\n",
       "    .dataframe tbody tr th:only-of-type {\n",
       "        vertical-align: middle;\n",
       "    }\n",
       "\n",
       "    .dataframe tbody tr th {\n",
       "        vertical-align: top;\n",
       "    }\n",
       "\n",
       "    .dataframe thead th {\n",
       "        text-align: right;\n",
       "    }\n",
       "</style>\n",
       "<table border=\"1\" class=\"dataframe\">\n",
       "  <thead>\n",
       "    <tr style=\"text-align: right;\">\n",
       "      <th></th>\n",
       "      <th>months</th>\n",
       "      <th>counts</th>\n",
       "      <th>count_delta</th>\n",
       "    </tr>\n",
       "  </thead>\n",
       "  <tbody>\n",
       "    <tr>\n",
       "      <th>2</th>\n",
       "      <td>2017-03-01</td>\n",
       "      <td>298058</td>\n",
       "      <td>31102.0</td>\n",
       "    </tr>\n",
       "    <tr>\n",
       "      <th>3</th>\n",
       "      <td>2017-05-01</td>\n",
       "      <td>285900</td>\n",
       "      <td>-12158.0</td>\n",
       "    </tr>\n",
       "    <tr>\n",
       "      <th>4</th>\n",
       "      <td>2017-07-01</td>\n",
       "      <td>295348</td>\n",
       "      <td>9448.0</td>\n",
       "    </tr>\n",
       "    <tr>\n",
       "      <th>5</th>\n",
       "      <td>2017-09-01</td>\n",
       "      <td>310575</td>\n",
       "      <td>15227.0</td>\n",
       "    </tr>\n",
       "    <tr>\n",
       "      <th>6</th>\n",
       "      <td>2017-11-01</td>\n",
       "      <td>271584</td>\n",
       "      <td>-38991.0</td>\n",
       "    </tr>\n",
       "    <tr>\n",
       "      <th>7</th>\n",
       "      <td>2018-01-01</td>\n",
       "      <td>259098</td>\n",
       "      <td>-12486.0</td>\n",
       "    </tr>\n",
       "    <tr>\n",
       "      <th>8</th>\n",
       "      <td>2018-03-01</td>\n",
       "      <td>286330</td>\n",
       "      <td>27232.0</td>\n",
       "    </tr>\n",
       "    <tr>\n",
       "      <th>9</th>\n",
       "      <td>2018-05-01</td>\n",
       "      <td>284699</td>\n",
       "      <td>-1631.0</td>\n",
       "    </tr>\n",
       "    <tr>\n",
       "      <th>10</th>\n",
       "      <td>2018-07-01</td>\n",
       "      <td>278322</td>\n",
       "      <td>-6377.0</td>\n",
       "    </tr>\n",
       "    <tr>\n",
       "      <th>11</th>\n",
       "      <td>2018-09-01</td>\n",
       "      <td>279702</td>\n",
       "      <td>1380.0</td>\n",
       "    </tr>\n",
       "    <tr>\n",
       "      <th>12</th>\n",
       "      <td>2018-11-01</td>\n",
       "      <td>258380</td>\n",
       "      <td>-21322.0</td>\n",
       "    </tr>\n",
       "    <tr>\n",
       "      <th>13</th>\n",
       "      <td>2019-01-01</td>\n",
       "      <td>274124</td>\n",
       "      <td>15744.0</td>\n",
       "    </tr>\n",
       "    <tr>\n",
       "      <th>14</th>\n",
       "      <td>2019-03-01</td>\n",
       "      <td>292168</td>\n",
       "      <td>18044.0</td>\n",
       "    </tr>\n",
       "    <tr>\n",
       "      <th>15</th>\n",
       "      <td>2019-05-01</td>\n",
       "      <td>280421</td>\n",
       "      <td>-11747.0</td>\n",
       "    </tr>\n",
       "    <tr>\n",
       "      <th>16</th>\n",
       "      <td>2019-07-01</td>\n",
       "      <td>276405</td>\n",
       "      <td>-4016.0</td>\n",
       "    </tr>\n",
       "    <tr>\n",
       "      <th>17</th>\n",
       "      <td>2019-09-01</td>\n",
       "      <td>292782</td>\n",
       "      <td>16377.0</td>\n",
       "    </tr>\n",
       "    <tr>\n",
       "      <th>18</th>\n",
       "      <td>2019-11-01</td>\n",
       "      <td>305758</td>\n",
       "      <td>12976.0</td>\n",
       "    </tr>\n",
       "  </tbody>\n",
       "</table>\n",
       "</div>"
      ],
      "text/plain": [
       "       months  counts  count_delta\n",
       "2  2017-03-01  298058      31102.0\n",
       "3  2017-05-01  285900     -12158.0\n",
       "4  2017-07-01  295348       9448.0\n",
       "5  2017-09-01  310575      15227.0\n",
       "6  2017-11-01  271584     -38991.0\n",
       "7  2018-01-01  259098     -12486.0\n",
       "8  2018-03-01  286330      27232.0\n",
       "9  2018-05-01  284699      -1631.0\n",
       "10 2018-07-01  278322      -6377.0\n",
       "11 2018-09-01  279702       1380.0\n",
       "12 2018-11-01  258380     -21322.0\n",
       "13 2019-01-01  274124      15744.0\n",
       "14 2019-03-01  292168      18044.0\n",
       "15 2019-05-01  280421     -11747.0\n",
       "16 2019-07-01  276405      -4016.0\n",
       "17 2019-09-01  292782      16377.0\n",
       "18 2019-11-01  305758      12976.0"
      ]
     },
     "execution_count": 117,
     "metadata": {},
     "output_type": "execute_result"
    }
   ],
   "source": [
    "bimonthly_yearly_deltaclean[:17]"
   ]
  },
  {
   "cell_type": "code",
   "execution_count": 36,
   "metadata": {},
   "outputs": [
    {
     "data": {
      "text/plain": [
       "['March/April 2017',\n",
       " 'May/June 2017',\n",
       " 'July/Aug 2017',\n",
       " 'Sept/Oct 2017',\n",
       " 'Nov/Dec 2017',\n",
       " 'Jan/Feb 2018',\n",
       " 'March/April 2018',\n",
       " 'May/June 2018',\n",
       " 'July/Aug 2018',\n",
       " 'Sept/Oct 2018',\n",
       " 'Nov/Dec 2018',\n",
       " 'Jan/Feb 2019',\n",
       " 'March/April 2019',\n",
       " 'May/June 2019',\n",
       " 'July/Aug 2019',\n",
       " 'Sept/Oct 2019',\n",
       " 'Nov/Dec 2019',\n",
       " 'Jan/Feb 2020',\n",
       " 'March/April 2020',\n",
       " 'May/June 2020',\n",
       " 'July/Aug 2020',\n",
       " 'Sept/Oct 2020']"
      ]
     },
     "execution_count": 36,
     "metadata": {},
     "output_type": "execute_result"
    }
   ],
   "source": [
    "bi_ticks[1:]"
   ]
  },
  {
   "cell_type": "code",
   "execution_count": 37,
   "metadata": {},
   "outputs": [
    {
     "data": {
      "image/png": "[encoded data removed]",
      "text/plain": [
       "<Figure size 1080x576 with 1 Axes>"
      ]
     },
     "metadata": {
      "needs_background": "light"
     },
     "output_type": "display_data"
    }
   ],
   "source": [
    "fig, ax = plt.subplots(figsize=(15,8))\n",
    "plt.plot(bimonthly_yearly_deltaclean['months'],bimonthly_yearly_deltaclean['count_delta'],'-o',color='black',markerfacecolor='r')\n",
    "plt.xticks(bimonthly_yearly_deltaclean['months'], bi_ticks[1:],fontsize=15,rotation=90)\n",
    "plt.yticks(fontsize=15)\n",
    "plt.ylabel('User Account Creations',fontsize=22)\n",
    "plt.xlabel('Month/Year',fontsize=22)\n",
    "plt.grid()"
   ]
  },
  {
   "cell_type": "code",
   "execution_count": 148,
   "metadata": {},
   "outputs": [
    {
     "name": "stdout",
     "output_type": "stream",
     "text": [
      "51\n"
     ]
    },
    {
     "data": {
      "image/png": "[encoded data removed]",
      "text/plain": [
       "<Figure size 1080x576 with 1 Axes>"
      ]
     },
     "metadata": {
      "needs_background": "light"
     },
     "output_type": "display_data"
    }
   ],
   "source": [
    "# fitline=fit_reg_line(bimonthly_yearly_deltaclean,bi_ticks[1:],'months','count_delta',\n",
    "#              'figs/SO_UsersCreationBiMonthlyDeltasRegressline.pdf')\n"
   ]
  },
  {
   "cell_type": "code",
   "execution_count": 190,
   "metadata": {},
   "outputs": [
    {
     "data": {
      "image/png": "[encoded data removed]",
      "text/plain": [
       "<Figure size 1080x576 with 1 Axes>"
      ]
     },
     "metadata": {
      "needs_background": "light"
     },
     "output_type": "display_data"
    }
   ],
   "source": [
    "from sklearn import linear_model\n",
    "x=np.array(pd.to_datetime(bimonthly_yearly_deltaclean['months'].index.values, format='%Y-%m-%d'), dtype=float)\n",
    "x=x.reshape(-1, 1)\n",
    "y=np.array(bimonthly_yearly_deltaclean['count_delta'], dtype=float)\n",
    "\n",
    "lm = linear_model.LinearRegression()\n",
    "model = lm.fit(x,y)\n",
    "predictions = lm.predict(x)\n",
    "\n",
    "fig, ax = plt.subplots(figsize=(15,8))\n",
    "plt.plot(bimonthly_yearly_deltaclean['months'], predictions, 'k-')\n",
    "plt.scatter(bimonthly_yearly_deltaclean['months'],bimonthly_yearly_deltaclean['count_delta'],color='red')\n",
    "plt.xticks(bimonthly_yearly_deltaclean['months'], bi_ticks[1:],fontsize=15,rotation=90)\n",
    "plt.yticks(fontsize=15)\n",
    "plt.ylabel('Deltas on #User Account Creations',fontsize=22)\n",
    "plt.xlabel('Month/Year',fontsize=22)\n",
    "plt.grid()\n",
    "plt.savefig('figs/SO_UsersCreationBiMonthlyDeltasRegressline.pdf',bbox_inches='tight')\n",
    "\n",
    "# fig, ax = plt.subplots(figsize=(20,10))\n",
    "# ax.plot(x, predictions,label='Linear fit', lw=3,color='black')\n",
    "# # plt.xticks(x, bi_ticks[1:23],fontsize=18,rotation=90)\n",
    "# ax.scatter(x, y,label='value', marker='o', color='r')\n",
    "# # plt.xticks(bimonthly_yearly_deltaclean['months'], bi_ticks[1:],fontsize=15,rotation=90)\n",
    "# plt.ylabel('Number of user creations')\n",
    "# ax.legend()\n",
    "# plt.grid()\n",
    "# plt.show()"
   ]
  },
  {
   "cell_type": "code",
   "execution_count": null,
   "metadata": {},
   "outputs": [],
   "source": [
    "# x = np.arange(df[date_column].size) # = array([0, 1, 2, ..., 3598, 3599, 3600])\n",
    "# fit = np.polyfit(x, df[count_column], 1)\n",
    "# fit_fn = np.poly1d(fit)\n",
    "# fig, ax = plt.subplots(figsize=(15,8))\n",
    "# plt.plot(df[date_column], fit_fn(x), 'k-')\n",
    "# plt.scatter(df[date_column],df[count_column],color='red')\n",
    "# plt.xticks(df[date_column], ticks,fontsize=15,rotation=90)\n",
    "# plt.grid()\n",
    "# print(len(filename))\n",
    "# if(len(filename)>0):\n",
    "#     plt.savefig(filename,bbox_inches='tight')\n",
    "# plt.show()\n"
   ]
  },
  {
   "cell_type": "code",
   "execution_count": 162,
   "metadata": {},
   "outputs": [
    {
     "data": {
      "text/plain": [
       "22"
      ]
     },
     "execution_count": 162,
     "metadata": {},
     "output_type": "execute_result"
    }
   ],
   "source": [
    "len(predictions)"
   ]
  },
  {
   "cell_type": "code",
   "execution_count": 170,
   "metadata": {},
   "outputs": [
    {
     "name": "stderr",
     "output_type": "stream",
     "text": [
      "<ipython-input-170-a528b2685ce3>:1: SettingWithCopyWarning: \n",
      "A value is trying to be set on a copy of a slice from a DataFrame.\n",
      "Try using .loc[row_indexer,col_indexer] = value instead\n",
      "\n",
      "See the caveats in the documentation: https://pandas.pydata.org/pandas-docs/stable/user_guide/indexing.html#returning-a-view-versus-a-copy\n",
      "  bimonthly_yearly_deltaclean['diff_line']=(predictions-bimonthly_yearly_deltaclean['count_delta']).abs()\n"
     ]
    },
    {
     "data": {
      "text/html": [
       "<div>\n",
       "<style scoped>\n",
       "    .dataframe tbody tr th:only-of-type {\n",
       "        vertical-align: middle;\n",
       "    }\n",
       "\n",
       "    .dataframe tbody tr th {\n",
       "        vertical-align: top;\n",
       "    }\n",
       "\n",
       "    .dataframe thead th {\n",
       "        text-align: right;\n",
       "    }\n",
       "</style>\n",
       "<table border=\"1\" class=\"dataframe\">\n",
       "  <thead>\n",
       "    <tr style=\"text-align: right;\">\n",
       "      <th></th>\n",
       "      <th>months</th>\n",
       "      <th>counts</th>\n",
       "      <th>count_delta</th>\n",
       "      <th>diff_line</th>\n",
       "    </tr>\n",
       "  </thead>\n",
       "  <tbody>\n",
       "    <tr>\n",
       "      <th>2</th>\n",
       "      <td>2017-03-01</td>\n",
       "      <td>298058</td>\n",
       "      <td>31102.0</td>\n",
       "      <td>29261.517787</td>\n",
       "    </tr>\n",
       "    <tr>\n",
       "      <th>3</th>\n",
       "      <td>2017-05-01</td>\n",
       "      <td>285900</td>\n",
       "      <td>-12158.0</td>\n",
       "      <td>14191.029362</td>\n",
       "    </tr>\n",
       "    <tr>\n",
       "      <th>4</th>\n",
       "      <td>2017-07-01</td>\n",
       "      <td>295348</td>\n",
       "      <td>9448.0</td>\n",
       "      <td>7222.423490</td>\n",
       "    </tr>\n",
       "    <tr>\n",
       "      <th>5</th>\n",
       "      <td>2017-09-01</td>\n",
       "      <td>310575</td>\n",
       "      <td>15227.0</td>\n",
       "      <td>12808.876341</td>\n",
       "    </tr>\n",
       "    <tr>\n",
       "      <th>6</th>\n",
       "      <td>2017-11-01</td>\n",
       "      <td>271584</td>\n",
       "      <td>-38991.0</td>\n",
       "      <td>41601.670807</td>\n",
       "    </tr>\n",
       "    <tr>\n",
       "      <th>7</th>\n",
       "      <td>2018-01-01</td>\n",
       "      <td>259098</td>\n",
       "      <td>-12486.0</td>\n",
       "      <td>15289.217956</td>\n",
       "    </tr>\n",
       "    <tr>\n",
       "      <th>8</th>\n",
       "      <td>2018-03-01</td>\n",
       "      <td>286330</td>\n",
       "      <td>27232.0</td>\n",
       "      <td>24236.234896</td>\n",
       "    </tr>\n",
       "    <tr>\n",
       "      <th>9</th>\n",
       "      <td>2018-05-01</td>\n",
       "      <td>284699</td>\n",
       "      <td>-1631.0</td>\n",
       "      <td>4819.312253</td>\n",
       "    </tr>\n",
       "    <tr>\n",
       "      <th>10</th>\n",
       "      <td>2018-07-01</td>\n",
       "      <td>278322</td>\n",
       "      <td>-6377.0</td>\n",
       "      <td>9757.859401</td>\n",
       "    </tr>\n",
       "    <tr>\n",
       "      <th>11</th>\n",
       "      <td>2018-09-01</td>\n",
       "      <td>279702</td>\n",
       "      <td>1380.0</td>\n",
       "      <td>2193.406550</td>\n",
       "    </tr>\n",
       "    <tr>\n",
       "      <th>12</th>\n",
       "      <td>2018-11-01</td>\n",
       "      <td>258380</td>\n",
       "      <td>-21322.0</td>\n",
       "      <td>25087.953698</td>\n",
       "    </tr>\n",
       "    <tr>\n",
       "      <th>13</th>\n",
       "      <td>2019-01-01</td>\n",
       "      <td>274124</td>\n",
       "      <td>15744.0</td>\n",
       "      <td>11785.499153</td>\n",
       "    </tr>\n",
       "    <tr>\n",
       "      <th>14</th>\n",
       "      <td>2019-03-01</td>\n",
       "      <td>292168</td>\n",
       "      <td>18044.0</td>\n",
       "      <td>13892.952005</td>\n",
       "    </tr>\n",
       "    <tr>\n",
       "      <th>15</th>\n",
       "      <td>2019-05-01</td>\n",
       "      <td>280421</td>\n",
       "      <td>-11747.0</td>\n",
       "      <td>16090.595144</td>\n",
       "    </tr>\n",
       "    <tr>\n",
       "      <th>16</th>\n",
       "      <td>2019-07-01</td>\n",
       "      <td>276405</td>\n",
       "      <td>-4016.0</td>\n",
       "      <td>8552.142292</td>\n",
       "    </tr>\n",
       "    <tr>\n",
       "      <th>17</th>\n",
       "      <td>2019-09-01</td>\n",
       "      <td>292782</td>\n",
       "      <td>16377.0</td>\n",
       "      <td>11648.310559</td>\n",
       "    </tr>\n",
       "    <tr>\n",
       "      <th>18</th>\n",
       "      <td>2019-11-01</td>\n",
       "      <td>305758</td>\n",
       "      <td>12976.0</td>\n",
       "      <td>8054.763411</td>\n",
       "    </tr>\n",
       "    <tr>\n",
       "      <th>19</th>\n",
       "      <td>2020-01-01</td>\n",
       "      <td>328701</td>\n",
       "      <td>22943.0</td>\n",
       "      <td>17829.216262</td>\n",
       "    </tr>\n",
       "    <tr>\n",
       "      <th>20</th>\n",
       "      <td>2020-03-01</td>\n",
       "      <td>444811</td>\n",
       "      <td>116110.0</td>\n",
       "      <td>110803.669113</td>\n",
       "    </tr>\n",
       "    <tr>\n",
       "      <th>21</th>\n",
       "      <td>2020-05-01</td>\n",
       "      <td>385420</td>\n",
       "      <td>-59391.0</td>\n",
       "      <td>64889.878035</td>\n",
       "    </tr>\n",
       "    <tr>\n",
       "      <th>22</th>\n",
       "      <td>2020-07-01</td>\n",
       "      <td>339164</td>\n",
       "      <td>-46256.0</td>\n",
       "      <td>51947.425184</td>\n",
       "    </tr>\n",
       "    <tr>\n",
       "      <th>23</th>\n",
       "      <td>2020-09-01</td>\n",
       "      <td>351925</td>\n",
       "      <td>12761.0</td>\n",
       "      <td>6877.027668</td>\n",
       "    </tr>\n",
       "  </tbody>\n",
       "</table>\n",
       "</div>"
      ],
      "text/plain": [
       "       months  counts  count_delta      diff_line\n",
       "2  2017-03-01  298058      31102.0   29261.517787\n",
       "3  2017-05-01  285900     -12158.0   14191.029362\n",
       "4  2017-07-01  295348       9448.0    7222.423490\n",
       "5  2017-09-01  310575      15227.0   12808.876341\n",
       "6  2017-11-01  271584     -38991.0   41601.670807\n",
       "7  2018-01-01  259098     -12486.0   15289.217956\n",
       "8  2018-03-01  286330      27232.0   24236.234896\n",
       "9  2018-05-01  284699      -1631.0    4819.312253\n",
       "10 2018-07-01  278322      -6377.0    9757.859401\n",
       "11 2018-09-01  279702       1380.0    2193.406550\n",
       "12 2018-11-01  258380     -21322.0   25087.953698\n",
       "13 2019-01-01  274124      15744.0   11785.499153\n",
       "14 2019-03-01  292168      18044.0   13892.952005\n",
       "15 2019-05-01  280421     -11747.0   16090.595144\n",
       "16 2019-07-01  276405      -4016.0    8552.142292\n",
       "17 2019-09-01  292782      16377.0   11648.310559\n",
       "18 2019-11-01  305758      12976.0    8054.763411\n",
       "19 2020-01-01  328701      22943.0   17829.216262\n",
       "20 2020-03-01  444811     116110.0  110803.669113\n",
       "21 2020-05-01  385420     -59391.0   64889.878035\n",
       "22 2020-07-01  339164     -46256.0   51947.425184\n",
       "23 2020-09-01  351925      12761.0    6877.027668"
      ]
     },
     "execution_count": 170,
     "metadata": {},
     "output_type": "execute_result"
    }
   ],
   "source": [
    "bimonthly_yearly_deltaclean['diff_line']=(predictions-bimonthly_yearly_deltaclean['count_delta']).abs()\n",
    "bimonthly_yearly_deltaclean"
   ]
  },
  {
   "cell_type": "code",
   "execution_count": 168,
   "metadata": {},
   "outputs": [
    {
     "data": {
      "text/plain": [
       "110803.6691134952"
      ]
     },
     "execution_count": 168,
     "metadata": {},
     "output_type": "execute_result"
    }
   ],
   "source": [
    "bimonthly_yearly_deltaclean['diff_line'].max()"
   ]
  },
  {
   "cell_type": "code",
   "execution_count": null,
   "metadata": {},
   "outputs": [],
   "source": [
    "# x = np.arange(bimonthly_yearly_deltaclean['months'].size) # = array([0, 1, 2, ..., 3598, 3599, 3600])\n",
    "# fit = np.polyfit(x, bimonthly_yearly_deltaclean['count_delta'], 1)\n",
    "# fit_fn = np.poly1d(fit)\n",
    "\n",
    "# fig, ax = plt.subplots(figsize=(15,8))\n",
    "# plt.plot(bimonthly_yearly_deltaclean['months'], fit_fn(x), 'k-')\n",
    "# plt.scatter(bimonthly_yearly_deltaclean['months'],bimonthly_yearly_deltaclean['count_delta'])\n",
    "# plt.xticks(bimonthly_yearly_deltaclean['months'], bi_ticks[1:23],fontsize=15,rotation=90)\n",
    "# plt.show()"
   ]
  },
  {
   "cell_type": "code",
   "execution_count": null,
   "metadata": {},
   "outputs": [],
   "source": [
    "# from sklearn import linear_model\n",
    "# x=np.array(pd.to_datetime(bimonthly_yearly_deltaclean['months'].index.values, format='%Y-%m-%d'), dtype=float)\n",
    "# x=x.reshape(-1, 1)\n",
    "# y=np.array(bimonthly_yearly_deltaclean['count_delta'], dtype=float)\n",
    "\n",
    "# lm = linear_model.LinearRegression()\n",
    "# model = lm.fit(x,y)\n",
    "# predictions = lm.predict(x)\n",
    "# fig, ax = plt.subplots(figsize=(20,10))\n",
    "# ax.plot(x, predictions,label='Linear fit', lw=3)\n",
    "# # plt.xticks(x, bi_ticks[1:23],fontsize=18,rotation=90)\n",
    "# ax.scatter(x, y,label='value', marker='o', color='r')\n",
    "# plt.ylabel('Number of user creations')\n",
    "# ax.legend()\n",
    "# plt.show()"
   ]
  },
  {
   "cell_type": "code",
   "execution_count": 39,
   "metadata": {},
   "outputs": [
    {
     "name": "stdout",
     "output_type": "stream",
     "text": [
      "KPSS Statistic: 0.19702702472429348\n",
      "p-value: 0.1\n",
      "num lags: 9\n",
      "Critical Values:\n",
      "   10% : 0.347\n",
      "   5% : 0.463\n",
      "   2.5% : 0.574\n",
      "   1% : 0.739\n",
      "Result: The series is stationary\n"
     ]
    },
    {
     "name": "stderr",
     "output_type": "stream",
     "text": [
      "C:\\Users\\Farima\\anaconda3\\envs\\StackOverFlowAnalysis\\lib\\site-packages\\statsmodels\\tsa\\stattools.py:1850: FutureWarning: The behavior of using nlags=None will change in release 0.13.Currently nlags=None is the same as nlags=\"legacy\", and so a sample-size lag length is used. After the next release, the default will change to be the same as nlags=\"auto\" which uses an automatic lag length selection method. To silence this warning, either use \"auto\" or \"legacy\"\n",
      "  warnings.warn(msg, FutureWarning)\n",
      "C:\\Users\\Farima\\anaconda3\\envs\\StackOverFlowAnalysis\\lib\\site-packages\\statsmodels\\tsa\\stattools.py:1885: InterpolationWarning: The test statistic is outside of the range of p-values available in the\n",
      "look-up table. The actual p-value is greater than the p-value returned.\n",
      "\n",
      "  warnings.warn(\n"
     ]
    }
   ],
   "source": [
    "kpss_test(bimonthly_yearly_deltaclean['count_delta'])"
   ]
  },
  {
   "cell_type": "code",
   "execution_count": 40,
   "metadata": {},
   "outputs": [
    {
     "name": "stdout",
     "output_type": "stream",
     "text": [
      "Results of Dickey-Fuller Test:\n",
      "ADF Statistic: -4.969592\n",
      "p-value: 0.000025\n",
      "Critical Values:\n",
      "\t1%: -3.788\n",
      "\t5%: -3.013\n",
      "\t10%: -2.646\n",
      "Result: The series is stationary\n"
     ]
    }
   ],
   "source": [
    "adf_test(bimonthly_yearly_deltaclean['count_delta'])"
   ]
  },
  {
   "cell_type": "code",
   "execution_count": 171,
   "metadata": {},
   "outputs": [
    {
     "data": {
      "text/plain": [
       "3862.2272727272725"
      ]
     },
     "execution_count": 171,
     "metadata": {},
     "output_type": "execute_result"
    }
   ],
   "source": [
    "bimonthly_yearly_deltaclean['count_delta'].mean()"
   ]
  },
  {
   "cell_type": "code",
   "execution_count": 172,
   "metadata": {},
   "outputs": [
    {
     "data": {
      "text/plain": [
       "34522.3004640021"
      ]
     },
     "execution_count": 172,
     "metadata": {},
     "output_type": "execute_result"
    }
   ],
   "source": [
    "bimonthly_yearly_deltaclean['count_delta'].std()"
   ]
  },
  {
   "cell_type": "code",
   "execution_count": 43,
   "metadata": {},
   "outputs": [
    {
     "name": "stdout",
     "output_type": "stream",
     "text": [
      "Statistics=0.872, p=0.009\n",
      "Sample does not look Gaussian (reject H0)\n"
     ]
    }
   ],
   "source": [
    "is_normal_shapiro(bimonthly_yearly_deltaclean['count_delta'])"
   ]
  },
  {
   "cell_type": "code",
   "execution_count": 47,
   "metadata": {},
   "outputs": [
    {
     "data": {
      "text/plain": [
       "NormaltestResult(statistic=13.819964408428858, pvalue=0.0009977755525261013)"
      ]
     },
     "execution_count": 47,
     "metadata": {},
     "output_type": "execute_result"
    }
   ],
   "source": [
    "stats.normaltest(bimonthly_yearly_deltaclean['count_delta']) #p_value<0.05, not normal"
   ]
  },
  {
   "cell_type": "code",
   "execution_count": 46,
   "metadata": {},
   "outputs": [
    {
     "data": {
      "image/png": "[encoded data removed]",
      "text/plain": [
       "<Figure size 432x288 with 1 Axes>"
      ]
     },
     "metadata": {
      "needs_background": "light"
     },
     "output_type": "display_data"
    }
   ],
   "source": [
    "import pylab \n",
    "stats.probplot(bimonthly_yearly_deltaclean['count_delta'], dist=\"norm\", plot=pylab)\n",
    "pylab.show()"
   ]
  },
  {
   "cell_type": "code",
   "execution_count": 44,
   "metadata": {},
   "outputs": [
    {
     "data": {
      "text/plain": [
       "(array([2., 1., 4., 5., 8., 1., 0., 0., 0., 1.]),\n",
       " array([-59391. , -41840.9, -24290.8,  -6740.7,  10809.4,  28359.5,\n",
       "         45909.6,  63459.7,  81009.8,  98559.9, 116110. ]),\n",
       " <BarContainer object of 10 artists>)"
      ]
     },
     "execution_count": 44,
     "metadata": {},
     "output_type": "execute_result"
    },
    {
     "data": {
      "image/png": "[encoded data removed]",
      "text/plain": [
       "<Figure size 432x288 with 1 Axes>"
      ]
     },
     "metadata": {
      "needs_background": "light"
     },
     "output_type": "display_data"
    }
   ],
   "source": [
    "plt.hist(bimonthly_yearly_deltaclean['count_delta'])"
   ]
  },
  {
   "cell_type": "markdown",
   "metadata": {},
   "source": [
    "# Stats tests"
   ]
  },
  {
   "cell_type": "code",
   "execution_count": null,
   "metadata": {},
   "outputs": [],
   "source": []
  },
  {
   "cell_type": "code",
   "execution_count": null,
   "metadata": {},
   "outputs": [],
   "source": []
  },
  {
   "cell_type": "code",
   "execution_count": null,
   "metadata": {},
   "outputs": [],
   "source": []
  },
  {
   "cell_type": "code",
   "execution_count": null,
   "metadata": {},
   "outputs": [],
   "source": []
  },
  {
   "cell_type": "code",
   "execution_count": null,
   "metadata": {},
   "outputs": [],
   "source": []
  },
  {
   "cell_type": "code",
   "execution_count": null,
   "metadata": {},
   "outputs": [],
   "source": []
  },
  {
   "cell_type": "code",
   "execution_count": null,
   "metadata": {},
   "outputs": [],
   "source": [
    "# yearly_monthly_grp_17=yearly_monthly_grp[(yearly_monthly_grp['CreateYearMonth']>='2017-01-01') & (yearly_monthly_grp['CreateYearMonth']<'2018-01-01')]\n",
    "# np.var(yearly_monthly_grp_17['counts'])"
   ]
  },
  {
   "cell_type": "code",
   "execution_count": null,
   "metadata": {},
   "outputs": [],
   "source": [
    "# yearly_monthly_grp_18=yearly_monthly_grp[(yearly_monthly_grp['CreateYearMonth']>='2018-01-01') & (yearly_monthly_grp['CreateYearMonth']<'2019-01-01')]\n",
    "# np.var(yearly_monthly_grp_18['counts'])"
   ]
  },
  {
   "cell_type": "code",
   "execution_count": null,
   "metadata": {},
   "outputs": [],
   "source": [
    "# yearly_monthly_grp_19=yearly_monthly_grp[(yearly_monthly_grp['CreateYearMonth']>='2019-01-01') & (yearly_monthly_grp['CreateYearMonth']<'2020-01-01')]\n",
    "# np.var(yearly_monthly_grp_19['counts'])"
   ]
  },
  {
   "cell_type": "code",
   "execution_count": null,
   "metadata": {},
   "outputs": [],
   "source": [
    "# yearly_monthly_grp_20=yearly_monthly_grp[(yearly_monthly_grp['CreateYearMonth']>='2020-01-01')]\n",
    "# np.var(yearly_monthly_grp_20['counts'])"
   ]
  },
  {
   "cell_type": "code",
   "execution_count": null,
   "metadata": {},
   "outputs": [],
   "source": [
    "# print(yearly_monthly_grp_20.head())\n",
    "# print((yearly_monthly_grp_20['CreateYearMonth']).min())\n",
    "# print((yearly_monthly_grp_20['CreateYearMonth']).max())\n",
    "# print(len(yearly_monthly_grp_20['CreateYearMonth']))"
   ]
  },
  {
   "cell_type": "code",
   "execution_count": null,
   "metadata": {},
   "outputs": [],
   "source": [
    "# kpss_test(bimonthly_yearly_deltaclean['count_delta'])"
   ]
  },
  {
   "cell_type": "code",
   "execution_count": null,
   "metadata": {},
   "outputs": [],
   "source": [
    "# adf_test(bimonthly_yearly_deltaclean['count_delta'])"
   ]
  },
  {
   "cell_type": "code",
   "execution_count": null,
   "metadata": {},
   "outputs": [],
   "source": [
    "# kpss_test(bimonthly_yearly_['count_delta'].head(46))"
   ]
  },
  {
   "cell_type": "code",
   "execution_count": null,
   "metadata": {},
   "outputs": [],
   "source": [
    "# adf_test(bimonthly_yearly['count_delta'].head(46))"
   ]
  },
  {
   "cell_type": "code",
   "execution_count": null,
   "metadata": {},
   "outputs": [],
   "source": [
    "#noraml test\n",
    "# print(len(yearly_monthly_grp))\n",
    "# import scipy.stats as stats\n",
    "# stats.normaltest(yearly_monthly_grp[\"counts\"])"
   ]
  },
  {
   "cell_type": "code",
   "execution_count": null,
   "metadata": {},
   "outputs": [],
   "source": [
    "is_normal_shapiro(yearly_monthly_grp['counts'])"
   ]
  },
  {
   "cell_type": "code",
   "execution_count": null,
   "metadata": {},
   "outputs": [],
   "source": [
    "# stat, p = stats.wilcoxon(yearly_monthly_grp_no_dec_17['counts'], yearly_monthly_grp_no_dec_20['counts'])\n",
    "# print('Statistics=%.3f, p=%.3f' % (stat, p))\n",
    "# # interpret\n",
    "# alpha = 0.05\n",
    "# if p > alpha:\n",
    "#     print('Same distribution (fail to reject H0)')\n",
    "# else:\n",
    "#     print('Different distribution (reject H0)')"
   ]
  },
  {
   "cell_type": "code",
   "execution_count": null,
   "metadata": {},
   "outputs": [],
   "source": [
    "# stat, p = stats.wilcoxon(yearly_monthly_grp_no_dec_18['counts'], yearly_monthly_grp_no_dec_20['counts'])\n",
    "# print('Statistics=%.3f, p=%.3f' % (stat, p))\n",
    "# # interpret\n",
    "# alpha = 0.05\n",
    "# if p > alpha:\n",
    "#     print('Same distribution (fail to reject H0)')\n",
    "# else:\n",
    "#     print('Different distribution (reject H0)')"
   ]
  },
  {
   "cell_type": "code",
   "execution_count": null,
   "metadata": {},
   "outputs": [],
   "source": [
    "# stat, p = stats.wilcoxon(yearly_monthly_grp_no_dec_19['counts'], yearly_monthly_grp_no_dec_20['counts'])\n",
    "# print('Statistics=%.3f, p=%.3f' % (stat, p))\n",
    "# # interpret\n",
    "# alpha = 0.05\n",
    "# if p > alpha:\n",
    "#     print('Same distribution (fail to reject H0)')\n",
    "# else:\n",
    "#     print('Different distribution (reject H0)')"
   ]
  },
  {
   "cell_type": "code",
   "execution_count": null,
   "metadata": {},
   "outputs": [],
   "source": [
    "# stat, p = stats.wilcoxon(yearly_monthly_grp_no_dec_17['counts'], yearly_monthly_grp_no_dec_18['counts'])\n",
    "# print('Statistics=%.3f, p=%.3f' % (stat, p))\n",
    "# # interpret\n",
    "# alpha = 0.05\n",
    "# if p > alpha:\n",
    "#     print('Same distribution (fail to reject H0)')\n",
    "# else:\n",
    "#     print('Different distribution (reject H0)')"
   ]
  },
  {
   "cell_type": "code",
   "execution_count": null,
   "metadata": {},
   "outputs": [],
   "source": [
    "# stat, p = stats.wilcoxon(yearly_monthly_grp_no_dec_17['counts'], yearly_monthly_grp_no_dec_19['counts'])\n",
    "# print('Statistics=%.3f, p=%.3f' % (stat, p))\n",
    "# # interpret\n",
    "# alpha = 0.05\n",
    "# if p > alpha:\n",
    "#     print('Same distribution (fail to reject H0)')\n",
    "# else:\n",
    "#     print('Different distribution (reject H0)')"
   ]
  },
  {
   "cell_type": "code",
   "execution_count": null,
   "metadata": {},
   "outputs": [],
   "source": [
    "# stat, p = stats.wilcoxon(yearly_monthly_grp_no_dec_18['counts'], yearly_monthly_grp_no_dec_19['counts'])\n",
    "# print('Statistics=%.3f, p=%.3f' % (stat, p))\n",
    "# # interpret\n",
    "# alpha = 0.05\n",
    "# if p > alpha:\n",
    "#     print('Same distribution (fail to reject H0)')\n",
    "# else:\n",
    "#     print('Different distribution (reject H0)')"
   ]
  },
  {
   "cell_type": "code",
   "execution_count": null,
   "metadata": {},
   "outputs": [],
   "source": [
    "# stat, p = stats.mannwhitneyu(yearly_monthly_grp_17_19['counts'], yearly_monthly_grp_20['counts'])\n",
    "# print('Statistics=%.3f, p=%.3f' % (stat, p))\n",
    "# # interpret\n",
    "# alpha = 0.05\n",
    "# if p > alpha:\n",
    "#     print('Same distribution (fail to reject H0)')\n",
    "# else:\n",
    "#     print('Different distribution (reject H0)')"
   ]
  },
  {
   "cell_type": "code",
   "execution_count": null,
   "metadata": {},
   "outputs": [],
   "source": [
    "# np.var(yearly_monthly_grp_17_19['counts'])"
   ]
  },
  {
   "cell_type": "code",
   "execution_count": null,
   "metadata": {},
   "outputs": [],
   "source": [
    "# np.var(yearly_monthly_grp_20['counts'])"
   ]
  },
  {
   "cell_type": "code",
   "execution_count": null,
   "metadata": {},
   "outputs": [],
   "source": [
    "#anova test:\n",
    "# f_oneway(yearly_monthly_grp_17_19['counts'], yearly_monthly_grp_20['counts'])"
   ]
  },
  {
   "cell_type": "code",
   "execution_count": null,
   "metadata": {},
   "outputs": [],
   "source": [
    "#kpss\n",
    "# kpss_test(yearly_monthly_grp_17_19['counts'])\n",
    "# kpss_test(yearly_monthly_grp_20['counts'])"
   ]
  },
  {
   "cell_type": "code",
   "execution_count": null,
   "metadata": {},
   "outputs": [],
   "source": [
    "# adf_test(yearly_monthly_grp_17_19['counts'])\n",
    "# adf_test(yearly_monthly_grp_20['counts'])"
   ]
  },
  {
   "cell_type": "code",
   "execution_count": null,
   "metadata": {},
   "outputs": [],
   "source": [
    "# np.var(yearly_monthly_grp_20['counts'])"
   ]
  },
  {
   "cell_type": "code",
   "execution_count": null,
   "metadata": {},
   "outputs": [],
   "source": []
  },
  {
   "cell_type": "code",
   "execution_count": null,
   "metadata": {},
   "outputs": [],
   "source": [
    "# yearly_monthly_grp_18=yearly_monthly_grp[(yearly_monthly_grp['CreateYearMonth']>='2018-01-01') & (yearly_monthly_grp['CreateYearMonth']<'2019-01-01')]\n",
    "# np.var(yearly_monthly_grp_18['counts'])"
   ]
  },
  {
   "cell_type": "code",
   "execution_count": null,
   "metadata": {},
   "outputs": [],
   "source": [
    "# yearly_monthly_grp_19=yearly_monthly_grp[(yearly_monthly_grp['CreateYearMonth']>='2019-01-01') & (yearly_monthly_grp['CreateYearMonth']<'2020-01-01')]\n",
    "# np.var(yearly_monthly_grp_19['counts'])"
   ]
  },
  {
   "cell_type": "code",
   "execution_count": null,
   "metadata": {},
   "outputs": [],
   "source": []
  },
  {
   "cell_type": "code",
   "execution_count": null,
   "metadata": {},
   "outputs": [],
   "source": []
  },
  {
   "cell_type": "code",
   "execution_count": null,
   "metadata": {},
   "outputs": [],
   "source": []
  },
  {
   "cell_type": "code",
   "execution_count": null,
   "metadata": {},
   "outputs": [],
   "source": [
    "# kpss_test(yearly_monthly_grp_17['counts'])\n",
    "# kpss_test(yearly_monthly_grp_18['counts'])\n",
    "# kpss_test(yearly_monthly_grp_19['counts'])\n",
    "# kpss_test(yearly_monthly_grp_20['counts'])"
   ]
  },
  {
   "cell_type": "code",
   "execution_count": null,
   "metadata": {},
   "outputs": [],
   "source": [
    "# adf_test(yearly_monthly_grp_17['counts'])\n",
    "# adf_test(yearly_monthly_grp_18['counts'])\n",
    "# adf_test(yearly_monthly_grp_19['counts'])\n",
    "# adf_test(yearly_monthly_grp_20['counts'])"
   ]
  },
  {
   "cell_type": "markdown",
   "metadata": {},
   "source": [
    "# data stats to put in paper:"
   ]
  },
  {
   "cell_type": "code",
   "execution_count": null,
   "metadata": {},
   "outputs": [],
   "source": [
    "data.head()"
   ]
  },
  {
   "cell_type": "code",
   "execution_count": null,
   "metadata": {},
   "outputs": [],
   "source": [
    "max(data[\"CreateYear\"])"
   ]
  },
  {
   "cell_type": "code",
   "execution_count": null,
   "metadata": {},
   "outputs": [],
   "source": [
    "data_2017=data[data[\"CreateYear\"]==2017]\n",
    "data_2017.head()\n",
    "max(data_2017[\"CreateYear\"])\n",
    "len(data_2017)"
   ]
  },
  {
   "cell_type": "code",
   "execution_count": null,
   "metadata": {},
   "outputs": [],
   "source": [
    "data_2018=data[data[\"CreateYear\"]==2018]\n",
    "len(data_2018)"
   ]
  },
  {
   "cell_type": "code",
   "execution_count": null,
   "metadata": {},
   "outputs": [],
   "source": [
    "data_2019=data[data[\"CreateYear\"]==2019]\n",
    "len(data_2019)"
   ]
  },
  {
   "cell_type": "code",
   "execution_count": null,
   "metadata": {},
   "outputs": [],
   "source": [
    "data_2020=data[data[\"CreateYear\"]==2020]\n",
    "len(data_2020)"
   ]
  }
 ],
 "metadata": {
  "kernelspec": {
   "display_name": "Python 3",
   "language": "python",
   "name": "python3"
  },
  "language_info": {
   "codemirror_mode": {
    "name": "ipython",
    "version": 3
   },
   "file_extension": ".py",
   "mimetype": "text/x-python",
   "name": "python",
   "nbconvert_exporter": "python",
   "pygments_lexer": "ipython3",
   "version": "3.8.5"
  }
 },
 "nbformat": 4,
 "nbformat_minor": 4
}
