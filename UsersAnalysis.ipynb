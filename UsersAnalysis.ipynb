{
 "cells": [
  {
   "cell_type": "code",
   "execution_count": 50,
   "metadata": {},
   "outputs": [],
   "source": [
    "import pandas as pd\n",
    "import matplotlib.pyplot as plt\n",
    "import numpy as np\n",
    "from matplotlib.ticker import ScalarFormatter, FormatStrFormatter\n",
    "input_path=\"C:\\\\Users\\\\Farima\\\\OneDrive\\\\Data\\\\PhD\\\\StackOverFlow-data\\\\Users\\\\FinalCsvFiles\\\\Users_2017_2020.csv\""
   ]
  },
  {
   "cell_type": "code",
   "execution_count": 72,
   "metadata": {},
   "outputs": [],
   "source": [
    "from statsmodels.tsa.stattools import kpss\n",
    "def kpss_test(series, **kw):    \n",
    "    statistic, p_value, n_lags, critical_values = kpss(series, **kw)\n",
    "    # Format Output\n",
    "    print(f'KPSS Statistic: {statistic}')\n",
    "    print(f'p-value: {p_value}')\n",
    "    print(f'num lags: {n_lags}')\n",
    "    print('Critical Values:')\n",
    "    for key, value in critical_values.items():\n",
    "        print(f'   {key} : {value}')\n",
    "    print(f'Result: The series is {\"not \" if p_value < 0.05 else \"\"}stationary')"
   ]
  },
  {
   "cell_type": "code",
   "execution_count": 84,
   "metadata": {},
   "outputs": [],
   "source": [
    "from statsmodels.tsa.stattools import adfuller\n",
    "def adf_test(timeseries):\n",
    "    #Perform Dickey-Fuller test:\n",
    "    print ('Results of Dickey-Fuller Test:')\n",
    "    dftest = adfuller(timeseries, autolag='AIC')\n",
    "    dfoutput = pd.Series(dftest[0:4], index=['Test Statistic','p-value','#Lags Used','Number of Observations Used'])\n",
    "    for key,value in dftest[4].items():\n",
    "       dfoutput['Critical Value (%s)'%key] = value\n",
    "    print (dfoutput)"
   ]
  },
  {
   "cell_type": "code",
   "execution_count": 74,
   "metadata": {},
   "outputs": [],
   "source": [
    "from scipy.stats import f_oneway\n",
    "\n",
    "#call data frame\n",
    "#group1 dataframe1\n",
    "#group2 dataframe2\n",
    "#group3 dataframe 3\n",
    "#you can call as many dataframes as you like \n",
    "# f_oneway(group1, group2, group3)"
   ]
  },
  {
   "cell_type": "code",
   "execution_count": null,
   "metadata": {},
   "outputs": [],
   "source": []
  },
  {
   "cell_type": "code",
   "execution_count": 51,
   "metadata": {},
   "outputs": [
    {
     "data": {
      "text/html": [
       "<div>\n",
       "<style scoped>\n",
       "    .dataframe tbody tr th:only-of-type {\n",
       "        vertical-align: middle;\n",
       "    }\n",
       "\n",
       "    .dataframe tbody tr th {\n",
       "        vertical-align: top;\n",
       "    }\n",
       "\n",
       "    .dataframe thead th {\n",
       "        text-align: right;\n",
       "    }\n",
       "</style>\n",
       "<table border=\"1\" class=\"dataframe\">\n",
       "  <thead>\n",
       "    <tr style=\"text-align: right;\">\n",
       "      <th></th>\n",
       "      <th>AccId</th>\n",
       "      <th>CreateDate</th>\n",
       "      <th>LastAccessDate</th>\n",
       "      <th>ViewsNum</th>\n",
       "      <th>UpVotes</th>\n",
       "      <th>DownVotes</th>\n",
       "    </tr>\n",
       "  </thead>\n",
       "  <tbody>\n",
       "    <tr>\n",
       "      <th>0</th>\n",
       "      <td>9883458</td>\n",
       "      <td>2017-01-01T00:00:56.717</td>\n",
       "      <td>2020-11-28T01:11:55.853</td>\n",
       "      <td>2</td>\n",
       "      <td>0</td>\n",
       "      <td>0</td>\n",
       "    </tr>\n",
       "    <tr>\n",
       "      <th>1</th>\n",
       "      <td>9947518</td>\n",
       "      <td>2017-01-01T00:01:12.400</td>\n",
       "      <td>2020-10-11T15:09:34.260</td>\n",
       "      <td>0</td>\n",
       "      <td>0</td>\n",
       "      <td>0</td>\n",
       "    </tr>\n",
       "    <tr>\n",
       "      <th>2</th>\n",
       "      <td>9947524</td>\n",
       "      <td>2017-01-01T00:04:35.913</td>\n",
       "      <td>2018-06-08T20:13:35.803</td>\n",
       "      <td>1</td>\n",
       "      <td>0</td>\n",
       "      <td>0</td>\n",
       "    </tr>\n",
       "    <tr>\n",
       "      <th>3</th>\n",
       "      <td>9947525</td>\n",
       "      <td>2017-01-01T00:06:08.170</td>\n",
       "      <td>2019-07-12T16:35:43.657</td>\n",
       "      <td>0</td>\n",
       "      <td>0</td>\n",
       "      <td>0</td>\n",
       "    </tr>\n",
       "    <tr>\n",
       "      <th>4</th>\n",
       "      <td>9947527</td>\n",
       "      <td>2017-01-01T00:09:40.727</td>\n",
       "      <td>2017-01-06T01:26:02.110</td>\n",
       "      <td>0</td>\n",
       "      <td>0</td>\n",
       "      <td>0</td>\n",
       "    </tr>\n",
       "  </tbody>\n",
       "</table>\n",
       "</div>"
      ],
      "text/plain": [
       "     AccId               CreateDate           LastAccessDate  ViewsNum  \\\n",
       "0  9883458  2017-01-01T00:00:56.717  2020-11-28T01:11:55.853         2   \n",
       "1  9947518  2017-01-01T00:01:12.400  2020-10-11T15:09:34.260         0   \n",
       "2  9947524  2017-01-01T00:04:35.913  2018-06-08T20:13:35.803         1   \n",
       "3  9947525  2017-01-01T00:06:08.170  2019-07-12T16:35:43.657         0   \n",
       "4  9947527  2017-01-01T00:09:40.727  2017-01-06T01:26:02.110         0   \n",
       "\n",
       "   UpVotes  DownVotes  \n",
       "0        0          0  \n",
       "1        0          0  \n",
       "2        0          0  \n",
       "3        0          0  \n",
       "4        0          0  "
      ]
     },
     "execution_count": 51,
     "metadata": {},
     "output_type": "execute_result"
    }
   ],
   "source": [
    "data=pd.read_csv(input_path,names=[\"AccId\",\"CreateDate\",\"LastAccessDate\",\"ViewsNum\",\"UpVotes\",\"DownVotes\"])\n",
    "data.head()\n",
    "# commits_2019,commits_2020=preprocess_monthly_commit(data)\n",
    "# plot_monthly_commit(commits_2019,commits_2020,\"Clojure\")"
   ]
  },
  {
   "cell_type": "code",
   "execution_count": 52,
   "metadata": {},
   "outputs": [
    {
     "data": {
      "text/plain": [
       "7126703"
      ]
     },
     "execution_count": 52,
     "metadata": {},
     "output_type": "execute_result"
    }
   ],
   "source": [
    "len(data)"
   ]
  },
  {
   "cell_type": "code",
   "execution_count": 53,
   "metadata": {},
   "outputs": [
    {
     "data": {
      "text/html": [
       "<div>\n",
       "<style scoped>\n",
       "    .dataframe tbody tr th:only-of-type {\n",
       "        vertical-align: middle;\n",
       "    }\n",
       "\n",
       "    .dataframe tbody tr th {\n",
       "        vertical-align: top;\n",
       "    }\n",
       "\n",
       "    .dataframe thead th {\n",
       "        text-align: right;\n",
       "    }\n",
       "</style>\n",
       "<table border=\"1\" class=\"dataframe\">\n",
       "  <thead>\n",
       "    <tr style=\"text-align: right;\">\n",
       "      <th></th>\n",
       "      <th>AccId</th>\n",
       "      <th>CreateDate</th>\n",
       "      <th>LastAccessDate</th>\n",
       "      <th>ViewsNum</th>\n",
       "      <th>UpVotes</th>\n",
       "      <th>DownVotes</th>\n",
       "    </tr>\n",
       "  </thead>\n",
       "  <tbody>\n",
       "    <tr>\n",
       "      <th>0</th>\n",
       "      <td>9883458</td>\n",
       "      <td>2017-01-01 00:00:56.717</td>\n",
       "      <td>2020-11-28T01:11:55.853</td>\n",
       "      <td>2</td>\n",
       "      <td>0</td>\n",
       "      <td>0</td>\n",
       "    </tr>\n",
       "    <tr>\n",
       "      <th>1</th>\n",
       "      <td>9947518</td>\n",
       "      <td>2017-01-01 00:01:12.400</td>\n",
       "      <td>2020-10-11T15:09:34.260</td>\n",
       "      <td>0</td>\n",
       "      <td>0</td>\n",
       "      <td>0</td>\n",
       "    </tr>\n",
       "    <tr>\n",
       "      <th>2</th>\n",
       "      <td>9947524</td>\n",
       "      <td>2017-01-01 00:04:35.913</td>\n",
       "      <td>2018-06-08T20:13:35.803</td>\n",
       "      <td>1</td>\n",
       "      <td>0</td>\n",
       "      <td>0</td>\n",
       "    </tr>\n",
       "    <tr>\n",
       "      <th>3</th>\n",
       "      <td>9947525</td>\n",
       "      <td>2017-01-01 00:06:08.170</td>\n",
       "      <td>2019-07-12T16:35:43.657</td>\n",
       "      <td>0</td>\n",
       "      <td>0</td>\n",
       "      <td>0</td>\n",
       "    </tr>\n",
       "    <tr>\n",
       "      <th>4</th>\n",
       "      <td>9947527</td>\n",
       "      <td>2017-01-01 00:09:40.727</td>\n",
       "      <td>2017-01-06T01:26:02.110</td>\n",
       "      <td>0</td>\n",
       "      <td>0</td>\n",
       "      <td>0</td>\n",
       "    </tr>\n",
       "  </tbody>\n",
       "</table>\n",
       "</div>"
      ],
      "text/plain": [
       "     AccId              CreateDate           LastAccessDate  ViewsNum  \\\n",
       "0  9883458 2017-01-01 00:00:56.717  2020-11-28T01:11:55.853         2   \n",
       "1  9947518 2017-01-01 00:01:12.400  2020-10-11T15:09:34.260         0   \n",
       "2  9947524 2017-01-01 00:04:35.913  2018-06-08T20:13:35.803         1   \n",
       "3  9947525 2017-01-01 00:06:08.170  2019-07-12T16:35:43.657         0   \n",
       "4  9947527 2017-01-01 00:09:40.727  2017-01-06T01:26:02.110         0   \n",
       "\n",
       "   UpVotes  DownVotes  \n",
       "0        0          0  \n",
       "1        0          0  \n",
       "2        0          0  \n",
       "3        0          0  \n",
       "4        0          0  "
      ]
     },
     "execution_count": 53,
     "metadata": {},
     "output_type": "execute_result"
    }
   ],
   "source": [
    "data[\"CreateDate\"] = pd.to_datetime(data[\"CreateDate\"])\n",
    "data.head()"
   ]
  },
  {
   "cell_type": "code",
   "execution_count": 54,
   "metadata": {},
   "outputs": [],
   "source": [
    "data[\"CreateYear\"]=data['CreateDate'].map(lambda x: x.year)"
   ]
  },
  {
   "cell_type": "code",
   "execution_count": 55,
   "metadata": {},
   "outputs": [
    {
     "data": {
      "text/html": [
       "<div>\n",
       "<style scoped>\n",
       "    .dataframe tbody tr th:only-of-type {\n",
       "        vertical-align: middle;\n",
       "    }\n",
       "\n",
       "    .dataframe tbody tr th {\n",
       "        vertical-align: top;\n",
       "    }\n",
       "\n",
       "    .dataframe thead th {\n",
       "        text-align: right;\n",
       "    }\n",
       "</style>\n",
       "<table border=\"1\" class=\"dataframe\">\n",
       "  <thead>\n",
       "    <tr style=\"text-align: right;\">\n",
       "      <th></th>\n",
       "      <th>AccId</th>\n",
       "      <th>CreateDate</th>\n",
       "      <th>LastAccessDate</th>\n",
       "      <th>ViewsNum</th>\n",
       "      <th>UpVotes</th>\n",
       "      <th>DownVotes</th>\n",
       "      <th>CreateYear</th>\n",
       "    </tr>\n",
       "  </thead>\n",
       "  <tbody>\n",
       "    <tr>\n",
       "      <th>0</th>\n",
       "      <td>9883458</td>\n",
       "      <td>2017-01-01 00:00:56.717</td>\n",
       "      <td>2020-11-28T01:11:55.853</td>\n",
       "      <td>2</td>\n",
       "      <td>0</td>\n",
       "      <td>0</td>\n",
       "      <td>2017</td>\n",
       "    </tr>\n",
       "    <tr>\n",
       "      <th>1</th>\n",
       "      <td>9947518</td>\n",
       "      <td>2017-01-01 00:01:12.400</td>\n",
       "      <td>2020-10-11T15:09:34.260</td>\n",
       "      <td>0</td>\n",
       "      <td>0</td>\n",
       "      <td>0</td>\n",
       "      <td>2017</td>\n",
       "    </tr>\n",
       "    <tr>\n",
       "      <th>2</th>\n",
       "      <td>9947524</td>\n",
       "      <td>2017-01-01 00:04:35.913</td>\n",
       "      <td>2018-06-08T20:13:35.803</td>\n",
       "      <td>1</td>\n",
       "      <td>0</td>\n",
       "      <td>0</td>\n",
       "      <td>2017</td>\n",
       "    </tr>\n",
       "    <tr>\n",
       "      <th>3</th>\n",
       "      <td>9947525</td>\n",
       "      <td>2017-01-01 00:06:08.170</td>\n",
       "      <td>2019-07-12T16:35:43.657</td>\n",
       "      <td>0</td>\n",
       "      <td>0</td>\n",
       "      <td>0</td>\n",
       "      <td>2017</td>\n",
       "    </tr>\n",
       "    <tr>\n",
       "      <th>4</th>\n",
       "      <td>9947527</td>\n",
       "      <td>2017-01-01 00:09:40.727</td>\n",
       "      <td>2017-01-06T01:26:02.110</td>\n",
       "      <td>0</td>\n",
       "      <td>0</td>\n",
       "      <td>0</td>\n",
       "      <td>2017</td>\n",
       "    </tr>\n",
       "  </tbody>\n",
       "</table>\n",
       "</div>"
      ],
      "text/plain": [
       "     AccId              CreateDate           LastAccessDate  ViewsNum  \\\n",
       "0  9883458 2017-01-01 00:00:56.717  2020-11-28T01:11:55.853         2   \n",
       "1  9947518 2017-01-01 00:01:12.400  2020-10-11T15:09:34.260         0   \n",
       "2  9947524 2017-01-01 00:04:35.913  2018-06-08T20:13:35.803         1   \n",
       "3  9947525 2017-01-01 00:06:08.170  2019-07-12T16:35:43.657         0   \n",
       "4  9947527 2017-01-01 00:09:40.727  2017-01-06T01:26:02.110         0   \n",
       "\n",
       "   UpVotes  DownVotes  CreateYear  \n",
       "0        0          0        2017  \n",
       "1        0          0        2017  \n",
       "2        0          0        2017  \n",
       "3        0          0        2017  \n",
       "4        0          0        2017  "
      ]
     },
     "execution_count": 55,
     "metadata": {},
     "output_type": "execute_result"
    }
   ],
   "source": [
    "data.head()"
   ]
  },
  {
   "cell_type": "code",
   "execution_count": 56,
   "metadata": {},
   "outputs": [],
   "source": [
    "data[\"CreateMonth\"]=data['CreateDate'].map(lambda x: x.month)\n"
   ]
  },
  {
   "cell_type": "code",
   "execution_count": 57,
   "metadata": {},
   "outputs": [
    {
     "data": {
      "text/html": [
       "<div>\n",
       "<style scoped>\n",
       "    .dataframe tbody tr th:only-of-type {\n",
       "        vertical-align: middle;\n",
       "    }\n",
       "\n",
       "    .dataframe tbody tr th {\n",
       "        vertical-align: top;\n",
       "    }\n",
       "\n",
       "    .dataframe thead th {\n",
       "        text-align: right;\n",
       "    }\n",
       "</style>\n",
       "<table border=\"1\" class=\"dataframe\">\n",
       "  <thead>\n",
       "    <tr style=\"text-align: right;\">\n",
       "      <th></th>\n",
       "      <th>AccId</th>\n",
       "      <th>CreateDate</th>\n",
       "      <th>LastAccessDate</th>\n",
       "      <th>ViewsNum</th>\n",
       "      <th>UpVotes</th>\n",
       "      <th>DownVotes</th>\n",
       "      <th>CreateYear</th>\n",
       "      <th>CreateMonth</th>\n",
       "      <th>CreateYearMonth</th>\n",
       "    </tr>\n",
       "  </thead>\n",
       "  <tbody>\n",
       "    <tr>\n",
       "      <th>0</th>\n",
       "      <td>9883458</td>\n",
       "      <td>2017-01-01 00:00:56.717</td>\n",
       "      <td>2020-11-28T01:11:55.853</td>\n",
       "      <td>2</td>\n",
       "      <td>0</td>\n",
       "      <td>0</td>\n",
       "      <td>2017</td>\n",
       "      <td>1</td>\n",
       "      <td>2017-1</td>\n",
       "    </tr>\n",
       "    <tr>\n",
       "      <th>1</th>\n",
       "      <td>9947518</td>\n",
       "      <td>2017-01-01 00:01:12.400</td>\n",
       "      <td>2020-10-11T15:09:34.260</td>\n",
       "      <td>0</td>\n",
       "      <td>0</td>\n",
       "      <td>0</td>\n",
       "      <td>2017</td>\n",
       "      <td>1</td>\n",
       "      <td>2017-1</td>\n",
       "    </tr>\n",
       "    <tr>\n",
       "      <th>2</th>\n",
       "      <td>9947524</td>\n",
       "      <td>2017-01-01 00:04:35.913</td>\n",
       "      <td>2018-06-08T20:13:35.803</td>\n",
       "      <td>1</td>\n",
       "      <td>0</td>\n",
       "      <td>0</td>\n",
       "      <td>2017</td>\n",
       "      <td>1</td>\n",
       "      <td>2017-1</td>\n",
       "    </tr>\n",
       "    <tr>\n",
       "      <th>3</th>\n",
       "      <td>9947525</td>\n",
       "      <td>2017-01-01 00:06:08.170</td>\n",
       "      <td>2019-07-12T16:35:43.657</td>\n",
       "      <td>0</td>\n",
       "      <td>0</td>\n",
       "      <td>0</td>\n",
       "      <td>2017</td>\n",
       "      <td>1</td>\n",
       "      <td>2017-1</td>\n",
       "    </tr>\n",
       "    <tr>\n",
       "      <th>4</th>\n",
       "      <td>9947527</td>\n",
       "      <td>2017-01-01 00:09:40.727</td>\n",
       "      <td>2017-01-06T01:26:02.110</td>\n",
       "      <td>0</td>\n",
       "      <td>0</td>\n",
       "      <td>0</td>\n",
       "      <td>2017</td>\n",
       "      <td>1</td>\n",
       "      <td>2017-1</td>\n",
       "    </tr>\n",
       "  </tbody>\n",
       "</table>\n",
       "</div>"
      ],
      "text/plain": [
       "     AccId              CreateDate           LastAccessDate  ViewsNum  \\\n",
       "0  9883458 2017-01-01 00:00:56.717  2020-11-28T01:11:55.853         2   \n",
       "1  9947518 2017-01-01 00:01:12.400  2020-10-11T15:09:34.260         0   \n",
       "2  9947524 2017-01-01 00:04:35.913  2018-06-08T20:13:35.803         1   \n",
       "3  9947525 2017-01-01 00:06:08.170  2019-07-12T16:35:43.657         0   \n",
       "4  9947527 2017-01-01 00:09:40.727  2017-01-06T01:26:02.110         0   \n",
       "\n",
       "   UpVotes  DownVotes  CreateYear  CreateMonth CreateYearMonth  \n",
       "0        0          0        2017            1          2017-1  \n",
       "1        0          0        2017            1          2017-1  \n",
       "2        0          0        2017            1          2017-1  \n",
       "3        0          0        2017            1          2017-1  \n",
       "4        0          0        2017            1          2017-1  "
      ]
     },
     "execution_count": 57,
     "metadata": {},
     "output_type": "execute_result"
    }
   ],
   "source": [
    "data[\"CreateYearMonth\"]=data[\"CreateYear\"].astype(str) +\"-\"+ data[\"CreateMonth\"].astype(str)\n",
    "data.head()"
   ]
  },
  {
   "cell_type": "code",
   "execution_count": 58,
   "metadata": {},
   "outputs": [],
   "source": [
    "data['CreateYearMonth'] = pd.to_datetime(data['CreateYearMonth'])"
   ]
  },
  {
   "cell_type": "code",
   "execution_count": 59,
   "metadata": {},
   "outputs": [
    {
     "data": {
      "text/html": [
       "<div>\n",
       "<style scoped>\n",
       "    .dataframe tbody tr th:only-of-type {\n",
       "        vertical-align: middle;\n",
       "    }\n",
       "\n",
       "    .dataframe tbody tr th {\n",
       "        vertical-align: top;\n",
       "    }\n",
       "\n",
       "    .dataframe thead th {\n",
       "        text-align: right;\n",
       "    }\n",
       "</style>\n",
       "<table border=\"1\" class=\"dataframe\">\n",
       "  <thead>\n",
       "    <tr style=\"text-align: right;\">\n",
       "      <th></th>\n",
       "      <th>AccId</th>\n",
       "      <th>CreateDate</th>\n",
       "      <th>LastAccessDate</th>\n",
       "      <th>ViewsNum</th>\n",
       "      <th>UpVotes</th>\n",
       "      <th>DownVotes</th>\n",
       "      <th>CreateYear</th>\n",
       "      <th>CreateMonth</th>\n",
       "      <th>CreateYearMonth</th>\n",
       "    </tr>\n",
       "  </thead>\n",
       "  <tbody>\n",
       "    <tr>\n",
       "      <th>0</th>\n",
       "      <td>9883458</td>\n",
       "      <td>2017-01-01 00:00:56.717</td>\n",
       "      <td>2020-11-28T01:11:55.853</td>\n",
       "      <td>2</td>\n",
       "      <td>0</td>\n",
       "      <td>0</td>\n",
       "      <td>2017</td>\n",
       "      <td>1</td>\n",
       "      <td>2017-01-01</td>\n",
       "    </tr>\n",
       "    <tr>\n",
       "      <th>1</th>\n",
       "      <td>9947518</td>\n",
       "      <td>2017-01-01 00:01:12.400</td>\n",
       "      <td>2020-10-11T15:09:34.260</td>\n",
       "      <td>0</td>\n",
       "      <td>0</td>\n",
       "      <td>0</td>\n",
       "      <td>2017</td>\n",
       "      <td>1</td>\n",
       "      <td>2017-01-01</td>\n",
       "    </tr>\n",
       "    <tr>\n",
       "      <th>2</th>\n",
       "      <td>9947524</td>\n",
       "      <td>2017-01-01 00:04:35.913</td>\n",
       "      <td>2018-06-08T20:13:35.803</td>\n",
       "      <td>1</td>\n",
       "      <td>0</td>\n",
       "      <td>0</td>\n",
       "      <td>2017</td>\n",
       "      <td>1</td>\n",
       "      <td>2017-01-01</td>\n",
       "    </tr>\n",
       "    <tr>\n",
       "      <th>3</th>\n",
       "      <td>9947525</td>\n",
       "      <td>2017-01-01 00:06:08.170</td>\n",
       "      <td>2019-07-12T16:35:43.657</td>\n",
       "      <td>0</td>\n",
       "      <td>0</td>\n",
       "      <td>0</td>\n",
       "      <td>2017</td>\n",
       "      <td>1</td>\n",
       "      <td>2017-01-01</td>\n",
       "    </tr>\n",
       "    <tr>\n",
       "      <th>4</th>\n",
       "      <td>9947527</td>\n",
       "      <td>2017-01-01 00:09:40.727</td>\n",
       "      <td>2017-01-06T01:26:02.110</td>\n",
       "      <td>0</td>\n",
       "      <td>0</td>\n",
       "      <td>0</td>\n",
       "      <td>2017</td>\n",
       "      <td>1</td>\n",
       "      <td>2017-01-01</td>\n",
       "    </tr>\n",
       "  </tbody>\n",
       "</table>\n",
       "</div>"
      ],
      "text/plain": [
       "     AccId              CreateDate           LastAccessDate  ViewsNum  \\\n",
       "0  9883458 2017-01-01 00:00:56.717  2020-11-28T01:11:55.853         2   \n",
       "1  9947518 2017-01-01 00:01:12.400  2020-10-11T15:09:34.260         0   \n",
       "2  9947524 2017-01-01 00:04:35.913  2018-06-08T20:13:35.803         1   \n",
       "3  9947525 2017-01-01 00:06:08.170  2019-07-12T16:35:43.657         0   \n",
       "4  9947527 2017-01-01 00:09:40.727  2017-01-06T01:26:02.110         0   \n",
       "\n",
       "   UpVotes  DownVotes  CreateYear  CreateMonth CreateYearMonth  \n",
       "0        0          0        2017            1      2017-01-01  \n",
       "1        0          0        2017            1      2017-01-01  \n",
       "2        0          0        2017            1      2017-01-01  \n",
       "3        0          0        2017            1      2017-01-01  \n",
       "4        0          0        2017            1      2017-01-01  "
      ]
     },
     "execution_count": 59,
     "metadata": {},
     "output_type": "execute_result"
    }
   ],
   "source": [
    "data.head()"
   ]
  },
  {
   "cell_type": "code",
   "execution_count": 60,
   "metadata": {},
   "outputs": [],
   "source": [
    "creation_yearly_monthly = pd.DataFrame(data[[\"AccId\", \"CreateYearMonth\"]])"
   ]
  },
  {
   "cell_type": "code",
   "execution_count": null,
   "metadata": {},
   "outputs": [],
   "source": []
  },
  {
   "cell_type": "code",
   "execution_count": 61,
   "metadata": {},
   "outputs": [
    {
     "data": {
      "text/html": [
       "<div>\n",
       "<style scoped>\n",
       "    .dataframe tbody tr th:only-of-type {\n",
       "        vertical-align: middle;\n",
       "    }\n",
       "\n",
       "    .dataframe tbody tr th {\n",
       "        vertical-align: top;\n",
       "    }\n",
       "\n",
       "    .dataframe thead th {\n",
       "        text-align: right;\n",
       "    }\n",
       "</style>\n",
       "<table border=\"1\" class=\"dataframe\">\n",
       "  <thead>\n",
       "    <tr style=\"text-align: right;\">\n",
       "      <th></th>\n",
       "      <th>AccId</th>\n",
       "      <th>CreateYearMonth</th>\n",
       "    </tr>\n",
       "  </thead>\n",
       "  <tbody>\n",
       "    <tr>\n",
       "      <th>0</th>\n",
       "      <td>9883458</td>\n",
       "      <td>2017-01-01</td>\n",
       "    </tr>\n",
       "    <tr>\n",
       "      <th>1</th>\n",
       "      <td>9947518</td>\n",
       "      <td>2017-01-01</td>\n",
       "    </tr>\n",
       "    <tr>\n",
       "      <th>2</th>\n",
       "      <td>9947524</td>\n",
       "      <td>2017-01-01</td>\n",
       "    </tr>\n",
       "    <tr>\n",
       "      <th>3</th>\n",
       "      <td>9947525</td>\n",
       "      <td>2017-01-01</td>\n",
       "    </tr>\n",
       "    <tr>\n",
       "      <th>4</th>\n",
       "      <td>9947527</td>\n",
       "      <td>2017-01-01</td>\n",
       "    </tr>\n",
       "  </tbody>\n",
       "</table>\n",
       "</div>"
      ],
      "text/plain": [
       "     AccId CreateYearMonth\n",
       "0  9883458      2017-01-01\n",
       "1  9947518      2017-01-01\n",
       "2  9947524      2017-01-01\n",
       "3  9947525      2017-01-01\n",
       "4  9947527      2017-01-01"
      ]
     },
     "execution_count": 61,
     "metadata": {},
     "output_type": "execute_result"
    }
   ],
   "source": [
    "creation_yearly_monthly.head()"
   ]
  },
  {
   "cell_type": "code",
   "execution_count": 62,
   "metadata": {},
   "outputs": [
    {
     "data": {
      "text/html": [
       "<div>\n",
       "<style scoped>\n",
       "    .dataframe tbody tr th:only-of-type {\n",
       "        vertical-align: middle;\n",
       "    }\n",
       "\n",
       "    .dataframe tbody tr th {\n",
       "        vertical-align: top;\n",
       "    }\n",
       "\n",
       "    .dataframe thead th {\n",
       "        text-align: right;\n",
       "    }\n",
       "</style>\n",
       "<table border=\"1\" class=\"dataframe\">\n",
       "  <thead>\n",
       "    <tr style=\"text-align: right;\">\n",
       "      <th></th>\n",
       "      <th>CreateYearMonth</th>\n",
       "      <th>counts</th>\n",
       "    </tr>\n",
       "  </thead>\n",
       "  <tbody>\n",
       "    <tr>\n",
       "      <th>0</th>\n",
       "      <td>2017-01-01</td>\n",
       "      <td>130696</td>\n",
       "    </tr>\n",
       "    <tr>\n",
       "      <th>1</th>\n",
       "      <td>2017-02-01</td>\n",
       "      <td>136260</td>\n",
       "    </tr>\n",
       "    <tr>\n",
       "      <th>2</th>\n",
       "      <td>2017-03-01</td>\n",
       "      <td>156821</td>\n",
       "    </tr>\n",
       "    <tr>\n",
       "      <th>3</th>\n",
       "      <td>2017-04-01</td>\n",
       "      <td>141237</td>\n",
       "    </tr>\n",
       "    <tr>\n",
       "      <th>4</th>\n",
       "      <td>2017-05-01</td>\n",
       "      <td>145311</td>\n",
       "    </tr>\n",
       "  </tbody>\n",
       "</table>\n",
       "</div>"
      ],
      "text/plain": [
       "  CreateYearMonth  counts\n",
       "0      2017-01-01  130696\n",
       "1      2017-02-01  136260\n",
       "2      2017-03-01  156821\n",
       "3      2017-04-01  141237\n",
       "4      2017-05-01  145311"
      ]
     },
     "execution_count": 62,
     "metadata": {},
     "output_type": "execute_result"
    }
   ],
   "source": [
    "yearly_monthly_grp=creation_yearly_monthly.groupby(by=['CreateYearMonth']).size().reset_index(name='counts')\n",
    "yearly_monthly_grp.head()"
   ]
  },
  {
   "cell_type": "code",
   "execution_count": 63,
   "metadata": {},
   "outputs": [],
   "source": [
    "months_xticks=['Jan 2017','','','Apr','','','Jul','','','Oct','','','Jan 2018','','','Apr','','','Jul','','','Oct','','','Jan 2019','','','Apr','','','Jul','','','Oct','','','Jan 2020','','','Apr','','','Jul','','','Oct','']"
   ]
  },
  {
   "cell_type": "code",
   "execution_count": 64,
   "metadata": {},
   "outputs": [
    {
     "data": {
      "image/png": "[encoded data removed]",
      "text/plain": [
       "<Figure size 1080x576 with 1 Axes>"
      ]
     },
     "metadata": {
      "needs_background": "light"
     },
     "output_type": "display_data"
    }
   ],
   "source": [
    "# yearly_monthly_grp.plot(x='CreateYearMonth',y='counts',figsize=(15,6),linestyle='-',\n",
    "#                          marker='.', markerfacecolor='r',color='black',markersize=10)\n",
    "\n",
    "fig, ax = plt.subplots(figsize=(15,8))\n",
    "plt.plot(yearly_monthly_grp['CreateYearMonth'],yearly_monthly_grp['counts'],'-o',color='black',markerfacecolor='r')\n",
    "plt.xticks(yearly_monthly_grp['CreateYearMonth'], months_xticks,fontsize=15,rotation=90)\n",
    "plt.yticks(fontsize=15)\n",
    "plt.ylabel('Account Creations',fontsize=20)\n",
    "plt.grid()\n",
    "plt.xlabel('Month/Year',fontsize=20)\n",
    "plt.savefig('figs/SO_UsersCreationYearltMonthly.pdf',bbox_inches='tight')\n",
    "plt.grid()\n",
    "\n",
    "# plt.xlabel('Month/Year')\n",
    "# plt.ylabel('Account Creations')"
   ]
  },
  {
   "cell_type": "markdown",
   "metadata": {},
   "source": [
    "# Stats tests"
   ]
  },
  {
   "cell_type": "code",
   "execution_count": 76,
   "metadata": {},
   "outputs": [],
   "source": [
    "yearly_monthly_grp_17_19=yearly_monthly_grp[(yearly_monthly_grp['CreateYearMonth']>='2017-01-01') & (yearly_monthly_grp['CreateYearMonth']<'2020-01-01')]"
   ]
  },
  {
   "cell_type": "code",
   "execution_count": 80,
   "metadata": {},
   "outputs": [
    {
     "name": "stdout",
     "output_type": "stream",
     "text": [
      "  CreateYearMonth  counts\n",
      "0      2017-01-01  130696\n",
      "1      2017-02-01  136260\n",
      "2      2017-03-01  156821\n",
      "3      2017-04-01  141237\n",
      "4      2017-05-01  145311\n",
      "2017-01-01 00:00:00\n",
      "2019-12-01 00:00:00\n",
      "36\n"
     ]
    }
   ],
   "source": [
    "print(yearly_monthly_grp_17_19.head())\n",
    "print((yearly_monthly_grp_17_19['CreateYearMonth']).min())\n",
    "print((yearly_monthly_grp_17_19['CreateYearMonth']).max())\n",
    "print(len(yearly_monthly_grp_17_19['CreateYearMonth']))"
   ]
  },
  {
   "cell_type": "code",
   "execution_count": 81,
   "metadata": {},
   "outputs": [],
   "source": [
    "yearly_monthly_grp_20=yearly_monthly_grp[(yearly_monthly_grp['CreateYearMonth']>='2020-01-01')]"
   ]
  },
  {
   "cell_type": "code",
   "execution_count": 82,
   "metadata": {},
   "outputs": [
    {
     "name": "stdout",
     "output_type": "stream",
     "text": [
      "   CreateYearMonth  counts\n",
      "36      2020-01-01  171214\n",
      "37      2020-02-01  157487\n",
      "38      2020-03-01  183572\n",
      "39      2020-04-01  261239\n",
      "40      2020-05-01  199531\n",
      "2020-01-01 00:00:00\n",
      "2020-11-01 00:00:00\n",
      "11\n"
     ]
    }
   ],
   "source": [
    "print(yearly_monthly_grp_20.head())\n",
    "print((yearly_monthly_grp_20['CreateYearMonth']).min())\n",
    "print((yearly_monthly_grp_20['CreateYearMonth']).max())\n",
    "print(len(yearly_monthly_grp_20['CreateYearMonth']))"
   ]
  },
  {
   "cell_type": "code",
   "execution_count": 83,
   "metadata": {},
   "outputs": [
    {
     "data": {
      "text/plain": [
       "F_onewayResult(statistic=62.595455226940494, pvalue=4.634986757687298e-10)"
      ]
     },
     "execution_count": 83,
     "metadata": {},
     "output_type": "execute_result"
    }
   ],
   "source": [
    "#anova test:\n",
    "f_oneway(yearly_monthly_grp_17_19['counts'], yearly_monthly_grp_20['counts'])"
   ]
  },
  {
   "cell_type": "code",
   "execution_count": 85,
   "metadata": {},
   "outputs": [
    {
     "name": "stdout",
     "output_type": "stream",
     "text": [
      "KPSS Statistic: 0.13473809117422234\n",
      "p-value: 0.1\n",
      "num lags: 10\n",
      "Critical Values:\n",
      "   10% : 0.347\n",
      "   5% : 0.463\n",
      "   2.5% : 0.574\n",
      "   1% : 0.739\n",
      "Result: The series is stationary\n",
      "KPSS Statistic: 0.35601081230714715\n",
      "p-value: 0.09611602917795381\n",
      "num lags: 7\n",
      "Critical Values:\n",
      "   10% : 0.347\n",
      "   5% : 0.463\n",
      "   2.5% : 0.574\n",
      "   1% : 0.739\n",
      "Result: The series is stationary\n"
     ]
    },
    {
     "name": "stderr",
     "output_type": "stream",
     "text": [
      "C:\\Users\\Farima\\anaconda3\\envs\\StackOverFlowAnalysis\\lib\\site-packages\\statsmodels\\tsa\\stattools.py:1850: FutureWarning: The behavior of using nlags=None will change in release 0.13.Currently nlags=None is the same as nlags=\"legacy\", and so a sample-size lag length is used. After the next release, the default will change to be the same as nlags=\"auto\" which uses an automatic lag length selection method. To silence this warning, either use \"auto\" or \"legacy\"\n",
      "  warnings.warn(msg, FutureWarning)\n",
      "C:\\Users\\Farima\\anaconda3\\envs\\StackOverFlowAnalysis\\lib\\site-packages\\statsmodels\\tsa\\stattools.py:1885: InterpolationWarning: The test statistic is outside of the range of p-values available in the\n",
      "look-up table. The actual p-value is greater than the p-value returned.\n",
      "\n",
      "  warnings.warn(\n"
     ]
    }
   ],
   "source": [
    "#kpss\n",
    "kpss_test(yearly_monthly_grp_17_19['counts'])\n",
    "kpss_test(yearly_monthly_grp_20['counts'])"
   ]
  },
  {
   "cell_type": "code",
   "execution_count": 86,
   "metadata": {},
   "outputs": [
    {
     "name": "stdout",
     "output_type": "stream",
     "text": [
      "Results of Dickey-Fuller Test:\n",
      "Test Statistic                 -2.831423\n",
      "p-value                         0.053923\n",
      "#Lags Used                      3.000000\n",
      "Number of Observations Used    32.000000\n",
      "Critical Value (1%)            -3.653520\n",
      "Critical Value (5%)            -2.957219\n",
      "Critical Value (10%)           -2.617588\n",
      "dtype: float64\n",
      "Results of Dickey-Fuller Test:\n",
      "Test Statistic                -6.077709e+00\n",
      "p-value                        1.111256e-07\n",
      "#Lags Used                     3.000000e+00\n",
      "Number of Observations Used    7.000000e+00\n",
      "Critical Value (1%)           -4.938690e+00\n",
      "Critical Value (5%)           -3.477583e+00\n",
      "Critical Value (10%)          -2.843868e+00\n",
      "dtype: float64\n"
     ]
    }
   ],
   "source": [
    "adf_test(yearly_monthly_grp_17_19['counts'])\n",
    "adf_test(yearly_monthly_grp_20['counts'])"
   ]
  },
  {
   "cell_type": "code",
   "execution_count": 87,
   "metadata": {},
   "outputs": [
    {
     "data": {
      "text/plain": [
       "706043115.1735537"
      ]
     },
     "execution_count": 87,
     "metadata": {},
     "output_type": "execute_result"
    }
   ],
   "source": [
    "np.var(yearly_monthly_grp_20['counts'])"
   ]
  },
  {
   "cell_type": "code",
   "execution_count": 88,
   "metadata": {},
   "outputs": [
    {
     "data": {
      "text/plain": [
       "118747546.5763889"
      ]
     },
     "execution_count": 88,
     "metadata": {},
     "output_type": "execute_result"
    }
   ],
   "source": [
    "yearly_monthly_grp_17=yearly_monthly_grp[(yearly_monthly_grp['CreateYearMonth']>='2017-01-01') & (yearly_monthly_grp['CreateYearMonth']<'2018-01-01')]\n",
    "np.var(yearly_monthly_grp_17['counts'])"
   ]
  },
  {
   "cell_type": "code",
   "execution_count": 89,
   "metadata": {},
   "outputs": [
    {
     "data": {
      "text/plain": [
       "74263116.24305557"
      ]
     },
     "execution_count": 89,
     "metadata": {},
     "output_type": "execute_result"
    }
   ],
   "source": [
    "yearly_monthly_grp_18=yearly_monthly_grp[(yearly_monthly_grp['CreateYearMonth']>='2018-01-01') & (yearly_monthly_grp['CreateYearMonth']<'2019-01-01')]\n",
    "np.var(yearly_monthly_grp_18['counts'])"
   ]
  },
  {
   "cell_type": "code",
   "execution_count": 90,
   "metadata": {},
   "outputs": [
    {
     "data": {
      "text/plain": [
       "63585466.916666664"
      ]
     },
     "execution_count": 90,
     "metadata": {},
     "output_type": "execute_result"
    }
   ],
   "source": [
    "yearly_monthly_grp_19=yearly_monthly_grp[(yearly_monthly_grp['CreateYearMonth']>='2019-01-01') & (yearly_monthly_grp['CreateYearMonth']<'2020-01-01')]\n",
    "np.var(yearly_monthly_grp_19['counts'])"
   ]
  },
  {
   "cell_type": "code",
   "execution_count": 91,
   "metadata": {},
   "outputs": [
    {
     "name": "stdout",
     "output_type": "stream",
     "text": [
      "KPSS Statistic: 0.27564758767251024\n",
      "p-value: 0.1\n",
      "num lags: 8\n",
      "Critical Values:\n",
      "   10% : 0.347\n",
      "   5% : 0.463\n",
      "   2.5% : 0.574\n",
      "   1% : 0.739\n",
      "Result: The series is stationary\n",
      "KPSS Statistic: 0.30075641818189264\n",
      "p-value: 0.1\n",
      "num lags: 8\n",
      "Critical Values:\n",
      "   10% : 0.347\n",
      "   5% : 0.463\n",
      "   2.5% : 0.574\n",
      "   1% : 0.739\n",
      "Result: The series is stationary\n",
      "KPSS Statistic: 0.4052646300446574\n",
      "p-value: 0.0748859353255787\n",
      "num lags: 8\n",
      "Critical Values:\n",
      "   10% : 0.347\n",
      "   5% : 0.463\n",
      "   2.5% : 0.574\n",
      "   1% : 0.739\n",
      "Result: The series is stationary\n",
      "KPSS Statistic: 0.35601081230714715\n",
      "p-value: 0.09611602917795381\n",
      "num lags: 7\n",
      "Critical Values:\n",
      "   10% : 0.347\n",
      "   5% : 0.463\n",
      "   2.5% : 0.574\n",
      "   1% : 0.739\n",
      "Result: The series is stationary\n"
     ]
    },
    {
     "name": "stderr",
     "output_type": "stream",
     "text": [
      "C:\\Users\\Farima\\anaconda3\\envs\\StackOverFlowAnalysis\\lib\\site-packages\\statsmodels\\tsa\\stattools.py:1850: FutureWarning: The behavior of using nlags=None will change in release 0.13.Currently nlags=None is the same as nlags=\"legacy\", and so a sample-size lag length is used. After the next release, the default will change to be the same as nlags=\"auto\" which uses an automatic lag length selection method. To silence this warning, either use \"auto\" or \"legacy\"\n",
      "  warnings.warn(msg, FutureWarning)\n",
      "C:\\Users\\Farima\\anaconda3\\envs\\StackOverFlowAnalysis\\lib\\site-packages\\statsmodels\\tsa\\stattools.py:1885: InterpolationWarning: The test statistic is outside of the range of p-values available in the\n",
      "look-up table. The actual p-value is greater than the p-value returned.\n",
      "\n",
      "  warnings.warn(\n",
      "C:\\Users\\Farima\\anaconda3\\envs\\StackOverFlowAnalysis\\lib\\site-packages\\statsmodels\\tsa\\stattools.py:1885: InterpolationWarning: The test statistic is outside of the range of p-values available in the\n",
      "look-up table. The actual p-value is greater than the p-value returned.\n",
      "\n",
      "  warnings.warn(\n"
     ]
    }
   ],
   "source": [
    "kpss_test(yearly_monthly_grp_17['counts'])\n",
    "kpss_test(yearly_monthly_grp_18['counts'])\n",
    "kpss_test(yearly_monthly_grp_19['counts'])\n",
    "kpss_test(yearly_monthly_grp_20['counts'])"
   ]
  },
  {
   "cell_type": "code",
   "execution_count": 92,
   "metadata": {},
   "outputs": [
    {
     "name": "stdout",
     "output_type": "stream",
     "text": [
      "Results of Dickey-Fuller Test:\n",
      "Test Statistic                -1.412463\n",
      "p-value                        0.576287\n",
      "#Lags Used                     4.000000\n",
      "Number of Observations Used    7.000000\n",
      "Critical Value (1%)           -4.938690\n",
      "Critical Value (5%)           -3.477583\n",
      "Critical Value (10%)          -2.843868\n",
      "dtype: float64\n",
      "Results of Dickey-Fuller Test:\n",
      "Test Statistic                -1.568444e+01\n",
      "p-value                        1.459271e-28\n",
      "#Lags Used                     4.000000e+00\n",
      "Number of Observations Used    7.000000e+00\n",
      "Critical Value (1%)           -4.938690e+00\n",
      "Critical Value (5%)           -3.477583e+00\n",
      "Critical Value (10%)          -2.843868e+00\n",
      "dtype: float64\n",
      "Results of Dickey-Fuller Test:\n",
      "Test Statistic                 -2.212928\n",
      "p-value                         0.201587\n",
      "#Lags Used                      0.000000\n",
      "Number of Observations Used    11.000000\n",
      "Critical Value (1%)            -4.223238\n",
      "Critical Value (5%)            -3.189369\n",
      "Critical Value (10%)           -2.729839\n",
      "dtype: float64\n",
      "Results of Dickey-Fuller Test:\n",
      "Test Statistic                -6.077709e+00\n",
      "p-value                        1.111256e-07\n",
      "#Lags Used                     3.000000e+00\n",
      "Number of Observations Used    7.000000e+00\n",
      "Critical Value (1%)           -4.938690e+00\n",
      "Critical Value (5%)           -3.477583e+00\n",
      "Critical Value (10%)          -2.843868e+00\n",
      "dtype: float64\n"
     ]
    }
   ],
   "source": [
    "adf_test(yearly_monthly_grp_17['counts'])\n",
    "adf_test(yearly_monthly_grp_18['counts'])\n",
    "adf_test(yearly_monthly_grp_19['counts'])\n",
    "adf_test(yearly_monthly_grp_20['counts'])"
   ]
  },
  {
   "cell_type": "markdown",
   "metadata": {},
   "source": [
    "# data stats to put in paper:"
   ]
  },
  {
   "cell_type": "code",
   "execution_count": 65,
   "metadata": {},
   "outputs": [
    {
     "data": {
      "text/html": [
       "<div>\n",
       "<style scoped>\n",
       "    .dataframe tbody tr th:only-of-type {\n",
       "        vertical-align: middle;\n",
       "    }\n",
       "\n",
       "    .dataframe tbody tr th {\n",
       "        vertical-align: top;\n",
       "    }\n",
       "\n",
       "    .dataframe thead th {\n",
       "        text-align: right;\n",
       "    }\n",
       "</style>\n",
       "<table border=\"1\" class=\"dataframe\">\n",
       "  <thead>\n",
       "    <tr style=\"text-align: right;\">\n",
       "      <th></th>\n",
       "      <th>AccId</th>\n",
       "      <th>CreateDate</th>\n",
       "      <th>LastAccessDate</th>\n",
       "      <th>ViewsNum</th>\n",
       "      <th>UpVotes</th>\n",
       "      <th>DownVotes</th>\n",
       "      <th>CreateYear</th>\n",
       "      <th>CreateMonth</th>\n",
       "      <th>CreateYearMonth</th>\n",
       "    </tr>\n",
       "  </thead>\n",
       "  <tbody>\n",
       "    <tr>\n",
       "      <th>0</th>\n",
       "      <td>9883458</td>\n",
       "      <td>2017-01-01 00:00:56.717</td>\n",
       "      <td>2020-11-28T01:11:55.853</td>\n",
       "      <td>2</td>\n",
       "      <td>0</td>\n",
       "      <td>0</td>\n",
       "      <td>2017</td>\n",
       "      <td>1</td>\n",
       "      <td>2017-01-01</td>\n",
       "    </tr>\n",
       "    <tr>\n",
       "      <th>1</th>\n",
       "      <td>9947518</td>\n",
       "      <td>2017-01-01 00:01:12.400</td>\n",
       "      <td>2020-10-11T15:09:34.260</td>\n",
       "      <td>0</td>\n",
       "      <td>0</td>\n",
       "      <td>0</td>\n",
       "      <td>2017</td>\n",
       "      <td>1</td>\n",
       "      <td>2017-01-01</td>\n",
       "    </tr>\n",
       "    <tr>\n",
       "      <th>2</th>\n",
       "      <td>9947524</td>\n",
       "      <td>2017-01-01 00:04:35.913</td>\n",
       "      <td>2018-06-08T20:13:35.803</td>\n",
       "      <td>1</td>\n",
       "      <td>0</td>\n",
       "      <td>0</td>\n",
       "      <td>2017</td>\n",
       "      <td>1</td>\n",
       "      <td>2017-01-01</td>\n",
       "    </tr>\n",
       "    <tr>\n",
       "      <th>3</th>\n",
       "      <td>9947525</td>\n",
       "      <td>2017-01-01 00:06:08.170</td>\n",
       "      <td>2019-07-12T16:35:43.657</td>\n",
       "      <td>0</td>\n",
       "      <td>0</td>\n",
       "      <td>0</td>\n",
       "      <td>2017</td>\n",
       "      <td>1</td>\n",
       "      <td>2017-01-01</td>\n",
       "    </tr>\n",
       "    <tr>\n",
       "      <th>4</th>\n",
       "      <td>9947527</td>\n",
       "      <td>2017-01-01 00:09:40.727</td>\n",
       "      <td>2017-01-06T01:26:02.110</td>\n",
       "      <td>0</td>\n",
       "      <td>0</td>\n",
       "      <td>0</td>\n",
       "      <td>2017</td>\n",
       "      <td>1</td>\n",
       "      <td>2017-01-01</td>\n",
       "    </tr>\n",
       "  </tbody>\n",
       "</table>\n",
       "</div>"
      ],
      "text/plain": [
       "     AccId              CreateDate           LastAccessDate  ViewsNum  \\\n",
       "0  9883458 2017-01-01 00:00:56.717  2020-11-28T01:11:55.853         2   \n",
       "1  9947518 2017-01-01 00:01:12.400  2020-10-11T15:09:34.260         0   \n",
       "2  9947524 2017-01-01 00:04:35.913  2018-06-08T20:13:35.803         1   \n",
       "3  9947525 2017-01-01 00:06:08.170  2019-07-12T16:35:43.657         0   \n",
       "4  9947527 2017-01-01 00:09:40.727  2017-01-06T01:26:02.110         0   \n",
       "\n",
       "   UpVotes  DownVotes  CreateYear  CreateMonth CreateYearMonth  \n",
       "0        0          0        2017            1      2017-01-01  \n",
       "1        0          0        2017            1      2017-01-01  \n",
       "2        0          0        2017            1      2017-01-01  \n",
       "3        0          0        2017            1      2017-01-01  \n",
       "4        0          0        2017            1      2017-01-01  "
      ]
     },
     "execution_count": 65,
     "metadata": {},
     "output_type": "execute_result"
    }
   ],
   "source": [
    "data.head()"
   ]
  },
  {
   "cell_type": "code",
   "execution_count": 66,
   "metadata": {},
   "outputs": [
    {
     "data": {
      "text/plain": [
       "2020"
      ]
     },
     "execution_count": 66,
     "metadata": {},
     "output_type": "execute_result"
    }
   ],
   "source": [
    "max(data[\"CreateYear\"])"
   ]
  },
  {
   "cell_type": "code",
   "execution_count": 67,
   "metadata": {},
   "outputs": [
    {
     "data": {
      "text/plain": [
       "1728421"
      ]
     },
     "execution_count": 67,
     "metadata": {},
     "output_type": "execute_result"
    }
   ],
   "source": [
    "data_2017=data[data[\"CreateYear\"]==2017]\n",
    "data_2017.head()\n",
    "max(data_2017[\"CreateYear\"])\n",
    "len(data_2017)"
   ]
  },
  {
   "cell_type": "code",
   "execution_count": 68,
   "metadata": {},
   "outputs": [
    {
     "data": {
      "text/plain": [
       "1646531"
      ]
     },
     "execution_count": 68,
     "metadata": {},
     "output_type": "execute_result"
    }
   ],
   "source": [
    "data_2018=data[data[\"CreateYear\"]==2018]\n",
    "len(data_2018)"
   ]
  },
  {
   "cell_type": "code",
   "execution_count": 69,
   "metadata": {},
   "outputs": [
    {
     "data": {
      "text/plain": [
       "1721658"
      ]
     },
     "execution_count": 69,
     "metadata": {},
     "output_type": "execute_result"
    }
   ],
   "source": [
    "data_2019=data[data[\"CreateYear\"]==2019]\n",
    "len(data_2019)"
   ]
  },
  {
   "cell_type": "code",
   "execution_count": 70,
   "metadata": {},
   "outputs": [
    {
     "data": {
      "text/plain": [
       "2030093"
      ]
     },
     "execution_count": 70,
     "metadata": {},
     "output_type": "execute_result"
    }
   ],
   "source": [
    "data_2020=data[data[\"CreateYear\"]==2020]\n",
    "len(data_2020)"
   ]
  }
 ],
 "metadata": {
  "kernelspec": {
   "display_name": "Python 3",
   "language": "python",
   "name": "python3"
  },
  "language_info": {
   "codemirror_mode": {
    "name": "ipython",
    "version": 3
   },
   "file_extension": ".py",
   "mimetype": "text/x-python",
   "name": "python",
   "nbconvert_exporter": "python",
   "pygments_lexer": "ipython3",
   "version": "3.8.5"
  }
 },
 "nbformat": 4,
 "nbformat_minor": 4
}
